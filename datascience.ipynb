{
 "metadata": {
  "language_info": {
   "codemirror_mode": {
    "name": "ipython",
    "version": 3
   },
   "file_extension": ".py",
   "mimetype": "text/x-python",
   "name": "python",
   "nbconvert_exporter": "python",
   "pygments_lexer": "ipython3",
   "version": "3.7.9-final"
  },
  "orig_nbformat": 2,
  "kernelspec": {
   "name": "python_defaultSpec_1600678012315",
   "display_name": "Python 3.7.9 64-bit ('myenv': conda)"
  }
 },
 "nbformat": 4,
 "nbformat_minor": 2,
 "cells": [
  {
   "cell_type": "code",
   "execution_count": 1,
   "metadata": {},
   "outputs": [],
   "source": [
    "import pandas as pd"
   ]
  },
  {
   "cell_type": "code",
   "execution_count": 2,
   "metadata": {},
   "outputs": [
    {
     "output_type": "execute_result",
     "data": {
      "text/plain": "3.0"
     },
     "metadata": {},
     "execution_count": 2
    }
   ],
   "source": [
    "import math\n",
    "import operator\n",
    "math.sqrt(operator.add(4,5))"
   ]
  },
  {
   "cell_type": "code",
   "execution_count": 3,
   "metadata": {},
   "outputs": [],
   "source": [
    "from datascience import *"
   ]
  },
  {
   "source": [
    "the above datascience module can be found in the following link \n",
    "https://github.com/data-8/datascience "
   ],
   "cell_type": "markdown",
   "metadata": {}
  },
  {
   "cell_type": "code",
   "execution_count": 4,
   "metadata": {},
   "outputs": [],
   "source": [
    "path_data = 'data/'\n",
    "import numpy as np \n",
    "%matplotlib inline\n",
    "import matplotlib.pyplot as plots\n",
    "plots.style.use('fivethirtyeight')"
   ]
  },
  {
   "cell_type": "code",
   "execution_count": 5,
   "metadata": {},
   "outputs": [],
   "source": [
    "np.set_printoptions(threshold=50)"
   ]
  },
  {
   "cell_type": "code",
   "execution_count": 6,
   "metadata": {},
   "outputs": [],
   "source": [
    "cones = Table.read_table(path_data + 'cones.csv')"
   ]
  },
  {
   "cell_type": "code",
   "execution_count": 7,
   "metadata": {},
   "outputs": [
    {
     "output_type": "execute_result",
     "data": {
      "text/plain": "Flavor     | Color       | Price\nstrawberry | pink        | 3.55\nchocolate  | light brown | 4.75\nchocolate  | dark brown  | 5.25\nstrawberry | pink        | 5.25\nchocolate  | dark brown  | 5.25\nbubblegum  | pink        | 4.75",
      "text/html": "<table border=\"1\" class=\"dataframe\">\n    <thead>\n        <tr>\n            <th>Flavor</th> <th>Color</th> <th>Price</th>\n        </tr>\n    </thead>\n    <tbody>\n        <tr>\n            <td>strawberry</td> <td>pink       </td> <td>3.55 </td>\n        </tr>\n        <tr>\n            <td>chocolate </td> <td>light brown</td> <td>4.75 </td>\n        </tr>\n        <tr>\n            <td>chocolate </td> <td>dark brown </td> <td>5.25 </td>\n        </tr>\n        <tr>\n            <td>strawberry</td> <td>pink       </td> <td>5.25 </td>\n        </tr>\n        <tr>\n            <td>chocolate </td> <td>dark brown </td> <td>5.25 </td>\n        </tr>\n        <tr>\n            <td>bubblegum </td> <td>pink       </td> <td>4.75 </td>\n        </tr>\n    </tbody>\n</table>"
     },
     "metadata": {},
     "execution_count": 7
    }
   ],
   "source": [
    "cones"
   ]
  },
  {
   "source": [
    "## show\n",
    "the table method `show` can be used to show only some rows "
   ],
   "cell_type": "markdown",
   "metadata": {}
  },
  {
   "cell_type": "code",
   "execution_count": 8,
   "metadata": {},
   "outputs": [
    {
     "output_type": "display_data",
     "data": {
      "text/plain": "<IPython.core.display.HTML object>",
      "text/html": "<table border=\"1\" class=\"dataframe\">\n    <thead>\n        <tr>\n            <th>Flavor</th> <th>Color</th> <th>Price</th>\n        </tr>\n    </thead>\n    <tbody>\n        <tr>\n            <td>strawberry</td> <td>pink       </td> <td>3.55 </td>\n        </tr>\n        <tr>\n            <td>chocolate </td> <td>light brown</td> <td>4.75 </td>\n        </tr>\n    </tbody>\n</table>\n<p>... (4 rows omitted)</p>"
     },
     "metadata": {}
    }
   ],
   "source": [
    "cones.show(2)"
   ]
  },
  {
   "source": [
    "## Select\n",
    "to chose some columns"
   ],
   "cell_type": "markdown",
   "metadata": {}
  },
  {
   "cell_type": "code",
   "execution_count": 9,
   "metadata": {},
   "outputs": [
    {
     "output_type": "execute_result",
     "data": {
      "text/plain": "Flavor\nstrawberry\nchocolate\nchocolate\nstrawberry\nchocolate\nbubblegum",
      "text/html": "<table border=\"1\" class=\"dataframe\">\n    <thead>\n        <tr>\n            <th>Flavor</th>\n        </tr>\n    </thead>\n    <tbody>\n        <tr>\n            <td>strawberry</td>\n        </tr>\n        <tr>\n            <td>chocolate </td>\n        </tr>\n        <tr>\n            <td>chocolate </td>\n        </tr>\n        <tr>\n            <td>strawberry</td>\n        </tr>\n        <tr>\n            <td>chocolate </td>\n        </tr>\n        <tr>\n            <td>bubblegum </td>\n        </tr>\n    </tbody>\n</table>"
     },
     "metadata": {},
     "execution_count": 9
    }
   ],
   "source": [
    "cones.select('Flavor')"
   ]
  },
  {
   "cell_type": "code",
   "execution_count": 10,
   "metadata": {},
   "outputs": [
    {
     "output_type": "execute_result",
     "data": {
      "text/plain": "Flavor     | Price\nstrawberry | 3.55\nchocolate  | 4.75\nchocolate  | 5.25\nstrawberry | 5.25\nchocolate  | 5.25\nbubblegum  | 4.75",
      "text/html": "<table border=\"1\" class=\"dataframe\">\n    <thead>\n        <tr>\n            <th>Flavor</th> <th>Price</th>\n        </tr>\n    </thead>\n    <tbody>\n        <tr>\n            <td>strawberry</td> <td>3.55 </td>\n        </tr>\n        <tr>\n            <td>chocolate </td> <td>4.75 </td>\n        </tr>\n        <tr>\n            <td>chocolate </td> <td>5.25 </td>\n        </tr>\n        <tr>\n            <td>strawberry</td> <td>5.25 </td>\n        </tr>\n        <tr>\n            <td>chocolate </td> <td>5.25 </td>\n        </tr>\n        <tr>\n            <td>bubblegum </td> <td>4.75 </td>\n        </tr>\n    </tbody>\n</table>"
     },
     "metadata": {},
     "execution_count": 10
    }
   ],
   "source": [
    "cones.select('Flavor', 'Price')"
   ]
  },
  {
   "source": [
    "## drop"
   ],
   "cell_type": "markdown",
   "metadata": {}
  },
  {
   "cell_type": "code",
   "execution_count": 11,
   "metadata": {},
   "outputs": [
    {
     "output_type": "execute_result",
     "data": {
      "text/plain": "Flavor     | Price\nstrawberry | 3.55\nchocolate  | 4.75\nchocolate  | 5.25\nstrawberry | 5.25\nchocolate  | 5.25\nbubblegum  | 4.75",
      "text/html": "<table border=\"1\" class=\"dataframe\">\n    <thead>\n        <tr>\n            <th>Flavor</th> <th>Price</th>\n        </tr>\n    </thead>\n    <tbody>\n        <tr>\n            <td>strawberry</td> <td>3.55 </td>\n        </tr>\n        <tr>\n            <td>chocolate </td> <td>4.75 </td>\n        </tr>\n        <tr>\n            <td>chocolate </td> <td>5.25 </td>\n        </tr>\n        <tr>\n            <td>strawberry</td> <td>5.25 </td>\n        </tr>\n        <tr>\n            <td>chocolate </td> <td>5.25 </td>\n        </tr>\n        <tr>\n            <td>bubblegum </td> <td>4.75 </td>\n        </tr>\n    </tbody>\n</table>"
     },
     "metadata": {},
     "execution_count": 11
    }
   ],
   "source": [
    "no_color = cones.drop('Color')\n",
    "no_color"
   ]
  },
  {
   "source": [
    "## sorting"
   ],
   "cell_type": "markdown",
   "metadata": {}
  },
  {
   "cell_type": "code",
   "execution_count": 12,
   "metadata": {},
   "outputs": [
    {
     "output_type": "execute_result",
     "data": {
      "text/plain": "Flavor     | Color       | Price\nstrawberry | pink        | 3.55\nchocolate  | light brown | 4.75\nbubblegum  | pink        | 4.75\nchocolate  | dark brown  | 5.25\nstrawberry | pink        | 5.25\nchocolate  | dark brown  | 5.25",
      "text/html": "<table border=\"1\" class=\"dataframe\">\n    <thead>\n        <tr>\n            <th>Flavor</th> <th>Color</th> <th>Price</th>\n        </tr>\n    </thead>\n    <tbody>\n        <tr>\n            <td>strawberry</td> <td>pink       </td> <td>3.55 </td>\n        </tr>\n        <tr>\n            <td>chocolate </td> <td>light brown</td> <td>4.75 </td>\n        </tr>\n        <tr>\n            <td>bubblegum </td> <td>pink       </td> <td>4.75 </td>\n        </tr>\n        <tr>\n            <td>chocolate </td> <td>dark brown </td> <td>5.25 </td>\n        </tr>\n        <tr>\n            <td>strawberry</td> <td>pink       </td> <td>5.25 </td>\n        </tr>\n        <tr>\n            <td>chocolate </td> <td>dark brown </td> <td>5.25 </td>\n        </tr>\n    </tbody>\n</table>"
     },
     "metadata": {},
     "execution_count": 12
    }
   ],
   "source": [
    "cones.sort('Price')"
   ]
  },
  {
   "cell_type": "code",
   "execution_count": 13,
   "metadata": {},
   "outputs": [
    {
     "output_type": "execute_result",
     "data": {
      "text/plain": "Flavor     | Color       | Price\nchocolate  | dark brown  | 5.25\nstrawberry | pink        | 5.25\nchocolate  | dark brown  | 5.25\nbubblegum  | pink        | 4.75\nchocolate  | light brown | 4.75\nstrawberry | pink        | 3.55",
      "text/html": "<table border=\"1\" class=\"dataframe\">\n    <thead>\n        <tr>\n            <th>Flavor</th> <th>Color</th> <th>Price</th>\n        </tr>\n    </thead>\n    <tbody>\n        <tr>\n            <td>chocolate </td> <td>dark brown </td> <td>5.25 </td>\n        </tr>\n        <tr>\n            <td>strawberry</td> <td>pink       </td> <td>5.25 </td>\n        </tr>\n        <tr>\n            <td>chocolate </td> <td>dark brown </td> <td>5.25 </td>\n        </tr>\n        <tr>\n            <td>bubblegum </td> <td>pink       </td> <td>4.75 </td>\n        </tr>\n        <tr>\n            <td>chocolate </td> <td>light brown</td> <td>4.75 </td>\n        </tr>\n        <tr>\n            <td>strawberry</td> <td>pink       </td> <td>3.55 </td>\n        </tr>\n    </tbody>\n</table>"
     },
     "metadata": {},
     "execution_count": 13
    }
   ],
   "source": [
    "cones.sort('Price', descending=True)"
   ]
  },
  {
   "source": [
    "## where"
   ],
   "cell_type": "markdown",
   "metadata": {}
  },
  {
   "cell_type": "code",
   "execution_count": 14,
   "metadata": {},
   "outputs": [
    {
     "output_type": "execute_result",
     "data": {
      "text/plain": "Flavor    | Color       | Price\nchocolate | light brown | 4.75\nchocolate | dark brown  | 5.25\nchocolate | dark brown  | 5.25",
      "text/html": "<table border=\"1\" class=\"dataframe\">\n    <thead>\n        <tr>\n            <th>Flavor</th> <th>Color</th> <th>Price</th>\n        </tr>\n    </thead>\n    <tbody>\n        <tr>\n            <td>chocolate</td> <td>light brown</td> <td>4.75 </td>\n        </tr>\n        <tr>\n            <td>chocolate</td> <td>dark brown </td> <td>5.25 </td>\n        </tr>\n        <tr>\n            <td>chocolate</td> <td>dark brown </td> <td>5.25 </td>\n        </tr>\n    </tbody>\n</table>"
     },
     "metadata": {},
     "execution_count": 14
    }
   ],
   "source": [
    "cones.where('Flavor', 'chocolate')"
   ]
  },
  {
   "source": [
    "## NBA salary data"
   ],
   "cell_type": "markdown",
   "metadata": {}
  },
  {
   "cell_type": "code",
   "execution_count": 15,
   "metadata": {},
   "outputs": [],
   "source": [
    "nba = Table.read_table(path_data+'nba_salaries.csv').relabeled(3, 'SALARY')"
   ]
  },
  {
   "cell_type": "code",
   "execution_count": 16,
   "metadata": {},
   "outputs": [
    {
     "output_type": "execute_result",
     "data": {
      "text/plain": "PLAYER           | POSITION | TEAM          | SALARY\nPaul Millsap     | PF       | Atlanta Hawks | 18.6717\nAl Horford       | C        | Atlanta Hawks | 12\nTiago Splitter   | C        | Atlanta Hawks | 9.75625\nJeff Teague      | PG       | Atlanta Hawks | 8\nKyle Korver      | SG       | Atlanta Hawks | 5.74648\nThabo Sefolosha  | SF       | Atlanta Hawks | 4\nMike Scott       | PF       | Atlanta Hawks | 3.33333\nKent Bazemore    | SF       | Atlanta Hawks | 2\nDennis Schroder  | PG       | Atlanta Hawks | 1.7634\nTim Hardaway Jr. | SG       | Atlanta Hawks | 1.30452\n... (407 rows omitted)",
      "text/html": "<table border=\"1\" class=\"dataframe\">\n    <thead>\n        <tr>\n            <th>PLAYER</th> <th>POSITION</th> <th>TEAM</th> <th>SALARY</th>\n        </tr>\n    </thead>\n    <tbody>\n        <tr>\n            <td>Paul Millsap    </td> <td>PF      </td> <td>Atlanta Hawks</td> <td>18.6717</td>\n        </tr>\n        <tr>\n            <td>Al Horford      </td> <td>C       </td> <td>Atlanta Hawks</td> <td>12     </td>\n        </tr>\n        <tr>\n            <td>Tiago Splitter  </td> <td>C       </td> <td>Atlanta Hawks</td> <td>9.75625</td>\n        </tr>\n        <tr>\n            <td>Jeff Teague     </td> <td>PG      </td> <td>Atlanta Hawks</td> <td>8      </td>\n        </tr>\n        <tr>\n            <td>Kyle Korver     </td> <td>SG      </td> <td>Atlanta Hawks</td> <td>5.74648</td>\n        </tr>\n        <tr>\n            <td>Thabo Sefolosha </td> <td>SF      </td> <td>Atlanta Hawks</td> <td>4      </td>\n        </tr>\n        <tr>\n            <td>Mike Scott      </td> <td>PF      </td> <td>Atlanta Hawks</td> <td>3.33333</td>\n        </tr>\n        <tr>\n            <td>Kent Bazemore   </td> <td>SF      </td> <td>Atlanta Hawks</td> <td>2      </td>\n        </tr>\n        <tr>\n            <td>Dennis Schroder </td> <td>PG      </td> <td>Atlanta Hawks</td> <td>1.7634 </td>\n        </tr>\n        <tr>\n            <td>Tim Hardaway Jr.</td> <td>SG      </td> <td>Atlanta Hawks</td> <td>1.30452</td>\n        </tr>\n    </tbody>\n</table>\n<p>... (407 rows omitted)</p>"
     },
     "metadata": {},
     "execution_count": 16
    }
   ],
   "source": [
    "nba"
   ]
  },
  {
   "cell_type": "code",
   "execution_count": 17,
   "metadata": {},
   "outputs": [
    {
     "output_type": "execute_result",
     "data": {
      "text/plain": "PLAYER           | POSITION | TEAM          | SALARY\nPaul Millsap     | PF       | Atlanta Hawks | 18.6717\nAl Horford       | C        | Atlanta Hawks | 12\nTiago Splitter   | C        | Atlanta Hawks | 9.75625\nJeff Teague      | PG       | Atlanta Hawks | 8\nKyle Korver      | SG       | Atlanta Hawks | 5.74648\nThabo Sefolosha  | SF       | Atlanta Hawks | 4\nMike Scott       | PF       | Atlanta Hawks | 3.33333\nKent Bazemore    | SF       | Atlanta Hawks | 2\nDennis Schroder  | PG       | Atlanta Hawks | 1.7634\nTim Hardaway Jr. | SG       | Atlanta Hawks | 1.30452\n... (4 rows omitted)",
      "text/html": "<table border=\"1\" class=\"dataframe\">\n    <thead>\n        <tr>\n            <th>PLAYER</th> <th>POSITION</th> <th>TEAM</th> <th>SALARY</th>\n        </tr>\n    </thead>\n    <tbody>\n        <tr>\n            <td>Paul Millsap    </td> <td>PF      </td> <td>Atlanta Hawks</td> <td>18.6717</td>\n        </tr>\n        <tr>\n            <td>Al Horford      </td> <td>C       </td> <td>Atlanta Hawks</td> <td>12     </td>\n        </tr>\n        <tr>\n            <td>Tiago Splitter  </td> <td>C       </td> <td>Atlanta Hawks</td> <td>9.75625</td>\n        </tr>\n        <tr>\n            <td>Jeff Teague     </td> <td>PG      </td> <td>Atlanta Hawks</td> <td>8      </td>\n        </tr>\n        <tr>\n            <td>Kyle Korver     </td> <td>SG      </td> <td>Atlanta Hawks</td> <td>5.74648</td>\n        </tr>\n        <tr>\n            <td>Thabo Sefolosha </td> <td>SF      </td> <td>Atlanta Hawks</td> <td>4      </td>\n        </tr>\n        <tr>\n            <td>Mike Scott      </td> <td>PF      </td> <td>Atlanta Hawks</td> <td>3.33333</td>\n        </tr>\n        <tr>\n            <td>Kent Bazemore   </td> <td>SF      </td> <td>Atlanta Hawks</td> <td>2      </td>\n        </tr>\n        <tr>\n            <td>Dennis Schroder </td> <td>PG      </td> <td>Atlanta Hawks</td> <td>1.7634 </td>\n        </tr>\n        <tr>\n            <td>Tim Hardaway Jr.</td> <td>SG      </td> <td>Atlanta Hawks</td> <td>1.30452</td>\n        </tr>\n    </tbody>\n</table>\n<p>... (4 rows omitted)</p>"
     },
     "metadata": {},
     "execution_count": 17
    }
   ],
   "source": [
    "hawks = nba.where('TEAM', 'Atlanta Hawks')\n",
    "hawks"
   ]
  },
  {
   "source": [
    "## show\n",
    "\n",
    "it will show the entire file"
   ],
   "cell_type": "markdown",
   "metadata": {}
  },
  {
   "cell_type": "code",
   "execution_count": 18,
   "metadata": {},
   "outputs": [
    {
     "output_type": "display_data",
     "data": {
      "text/plain": "<IPython.core.display.HTML object>",
      "text/html": "<table border=\"1\" class=\"dataframe\">\n    <thead>\n        <tr>\n            <th>PLAYER</th> <th>POSITION</th> <th>TEAM</th> <th>SALARY</th>\n        </tr>\n    </thead>\n    <tbody>\n        <tr>\n            <td>Paul Millsap    </td> <td>PF      </td> <td>Atlanta Hawks</td> <td>18.6717 </td>\n        </tr>\n        <tr>\n            <td>Al Horford      </td> <td>C       </td> <td>Atlanta Hawks</td> <td>12      </td>\n        </tr>\n        <tr>\n            <td>Tiago Splitter  </td> <td>C       </td> <td>Atlanta Hawks</td> <td>9.75625 </td>\n        </tr>\n        <tr>\n            <td>Jeff Teague     </td> <td>PG      </td> <td>Atlanta Hawks</td> <td>8       </td>\n        </tr>\n        <tr>\n            <td>Kyle Korver     </td> <td>SG      </td> <td>Atlanta Hawks</td> <td>5.74648 </td>\n        </tr>\n        <tr>\n            <td>Thabo Sefolosha </td> <td>SF      </td> <td>Atlanta Hawks</td> <td>4       </td>\n        </tr>\n        <tr>\n            <td>Mike Scott      </td> <td>PF      </td> <td>Atlanta Hawks</td> <td>3.33333 </td>\n        </tr>\n        <tr>\n            <td>Kent Bazemore   </td> <td>SF      </td> <td>Atlanta Hawks</td> <td>2       </td>\n        </tr>\n        <tr>\n            <td>Dennis Schroder </td> <td>PG      </td> <td>Atlanta Hawks</td> <td>1.7634  </td>\n        </tr>\n        <tr>\n            <td>Tim Hardaway Jr.</td> <td>SG      </td> <td>Atlanta Hawks</td> <td>1.30452 </td>\n        </tr>\n        <tr>\n            <td>Walter Tavares  </td> <td>C       </td> <td>Atlanta Hawks</td> <td>1       </td>\n        </tr>\n        <tr>\n            <td>Jason Richardson</td> <td>SG      </td> <td>Atlanta Hawks</td> <td>0.947276</td>\n        </tr>\n        <tr>\n            <td>Lamar Patterson </td> <td>SG      </td> <td>Atlanta Hawks</td> <td>0.525093</td>\n        </tr>\n        <tr>\n            <td>Terran Petteway </td> <td>SG      </td> <td>Atlanta Hawks</td> <td>0.525093</td>\n        </tr>\n    </tbody>\n</table>"
     },
     "metadata": {}
    }
   ],
   "source": [
    "hawks.show()"
   ]
  },
  {
   "source": [
    "let us see who gets the most salary"
   ],
   "cell_type": "markdown",
   "metadata": {}
  },
  {
   "cell_type": "code",
   "execution_count": 19,
   "metadata": {},
   "outputs": [
    {
     "output_type": "execute_result",
     "data": {
      "text/plain": "PLAYER          | POSITION | TEAM                  | SALARY\nKobe Bryant     | SF       | Los Angeles Lakers    | 25\nJoe Johnson     | SF       | Brooklyn Nets         | 24.8949\nLeBron James    | SF       | Cleveland Cavaliers   | 22.9705\nCarmelo Anthony | SF       | New York Knicks       | 22.875\nDwight Howard   | C        | Houston Rockets       | 22.3594\nChris Bosh      | PF       | Miami Heat            | 22.1927\nChris Paul      | PG       | Los Angeles Clippers  | 21.4687\nKevin Durant    | SF       | Oklahoma City Thunder | 20.1586\nDerrick Rose    | PG       | Chicago Bulls         | 20.0931\nDwyane Wade     | SG       | Miami Heat            | 20\n... (407 rows omitted)",
      "text/html": "<table border=\"1\" class=\"dataframe\">\n    <thead>\n        <tr>\n            <th>PLAYER</th> <th>POSITION</th> <th>TEAM</th> <th>SALARY</th>\n        </tr>\n    </thead>\n    <tbody>\n        <tr>\n            <td>Kobe Bryant    </td> <td>SF      </td> <td>Los Angeles Lakers   </td> <td>25     </td>\n        </tr>\n        <tr>\n            <td>Joe Johnson    </td> <td>SF      </td> <td>Brooklyn Nets        </td> <td>24.8949</td>\n        </tr>\n        <tr>\n            <td>LeBron James   </td> <td>SF      </td> <td>Cleveland Cavaliers  </td> <td>22.9705</td>\n        </tr>\n        <tr>\n            <td>Carmelo Anthony</td> <td>SF      </td> <td>New York Knicks      </td> <td>22.875 </td>\n        </tr>\n        <tr>\n            <td>Dwight Howard  </td> <td>C       </td> <td>Houston Rockets      </td> <td>22.3594</td>\n        </tr>\n        <tr>\n            <td>Chris Bosh     </td> <td>PF      </td> <td>Miami Heat           </td> <td>22.1927</td>\n        </tr>\n        <tr>\n            <td>Chris Paul     </td> <td>PG      </td> <td>Los Angeles Clippers </td> <td>21.4687</td>\n        </tr>\n        <tr>\n            <td>Kevin Durant   </td> <td>SF      </td> <td>Oklahoma City Thunder</td> <td>20.1586</td>\n        </tr>\n        <tr>\n            <td>Derrick Rose   </td> <td>PG      </td> <td>Chicago Bulls        </td> <td>20.0931</td>\n        </tr>\n        <tr>\n            <td>Dwyane Wade    </td> <td>SG      </td> <td>Miami Heat           </td> <td>20     </td>\n        </tr>\n    </tbody>\n</table>\n<p>... (407 rows omitted)</p>"
     },
     "metadata": {},
     "execution_count": 19
    }
   ],
   "source": [
    "nba.sort('SALARY', descending=True)"
   ]
  },
  {
   "cell_type": "code",
   "execution_count": 20,
   "metadata": {},
   "outputs": [
    {
     "output_type": "execute_result",
     "data": {
      "text/plain": "PLAYER          | POSITION | TEAM                | SALARY\nJoe Johnson     | SF       | Brooklyn Nets       | 24.8949\nLeBron James    | SF       | Cleveland Cavaliers | 22.9705\nDwight Howard   | C        | Houston Rockets     | 22.3594\nKobe Bryant     | SF       | Los Angeles Lakers  | 25\nChris Bosh      | PF       | Miami Heat          | 22.1927\nCarmelo Anthony | SF       | New York Knicks     | 22.875",
      "text/html": "<table border=\"1\" class=\"dataframe\">\n    <thead>\n        <tr>\n            <th>PLAYER</th> <th>POSITION</th> <th>TEAM</th> <th>SALARY</th>\n        </tr>\n    </thead>\n    <tbody>\n        <tr>\n            <td>Joe Johnson    </td> <td>SF      </td> <td>Brooklyn Nets      </td> <td>24.8949</td>\n        </tr>\n        <tr>\n            <td>LeBron James   </td> <td>SF      </td> <td>Cleveland Cavaliers</td> <td>22.9705</td>\n        </tr>\n        <tr>\n            <td>Dwight Howard  </td> <td>C       </td> <td>Houston Rockets    </td> <td>22.3594</td>\n        </tr>\n        <tr>\n            <td>Kobe Bryant    </td> <td>SF      </td> <td>Los Angeles Lakers </td> <td>25     </td>\n        </tr>\n        <tr>\n            <td>Chris Bosh     </td> <td>PF      </td> <td>Miami Heat         </td> <td>22.1927</td>\n        </tr>\n        <tr>\n            <td>Carmelo Anthony</td> <td>SF      </td> <td>New York Knicks    </td> <td>22.875 </td>\n        </tr>\n    </tbody>\n</table>"
     },
     "metadata": {},
     "execution_count": 20
    }
   ],
   "source": [
    "nba.where('SALARY', are.above(22))"
   ]
  },
  {
   "cell_type": "code",
   "execution_count": 21,
   "metadata": {
    "tags": []
   },
   "outputs": [
    {
     "output_type": "execute_result",
     "data": {
      "text/plain": "PLAYER      | POSITION | TEAM               | SALARY\nJoe Johnson | SF       | Brooklyn Nets      | 24.8949\nKobe Bryant | SF       | Los Angeles Lakers | 25",
      "text/html": "<table border=\"1\" class=\"dataframe\">\n    <thead>\n        <tr>\n            <th>PLAYER</th> <th>POSITION</th> <th>TEAM</th> <th>SALARY</th>\n        </tr>\n    </thead>\n    <tbody>\n        <tr>\n            <td>Joe Johnson</td> <td>SF      </td> <td>Brooklyn Nets     </td> <td>24.8949</td>\n        </tr>\n        <tr>\n            <td>Kobe Bryant</td> <td>SF      </td> <td>Los Angeles Lakers</td> <td>25     </td>\n        </tr>\n    </tbody>\n</table>"
     },
     "metadata": {},
     "execution_count": 21
    }
   ],
   "source": [
    "nba.where(nba.column('SALARY') > 23)"
   ]
  },
  {
   "source": [
    "## String methods"
   ],
   "cell_type": "markdown",
   "metadata": {}
  },
  {
   "cell_type": "code",
   "execution_count": 22,
   "metadata": {},
   "outputs": [
    {
     "output_type": "execute_result",
     "data": {
      "text/plain": "'HELLO'"
     },
     "metadata": {},
     "execution_count": 22
    }
   ],
   "source": [
    "\"hello\".upper()"
   ]
  },
  {
   "cell_type": "code",
   "execution_count": 23,
   "metadata": {},
   "outputs": [
    {
     "output_type": "execute_result",
     "data": {
      "text/plain": "'abdul aziz'"
     },
     "metadata": {},
     "execution_count": 23
    }
   ],
   "source": [
    "\"abdul baqi\".replace('baqi', 'aziz')"
   ]
  },
  {
   "source": [
    "## Array"
   ],
   "cell_type": "markdown",
   "metadata": {}
  },
  {
   "cell_type": "code",
   "execution_count": 24,
   "metadata": {},
   "outputs": [],
   "source": [
    "pos = make_array(\"verb\", 'noun', 'adjective', 'pronoun', 'adverb')"
   ]
  },
  {
   "cell_type": "code",
   "execution_count": 25,
   "metadata": {},
   "outputs": [
    {
     "output_type": "execute_result",
     "data": {
      "text/plain": "array(['verb', 'noun', 'adjective', 'pronoun', 'adverb'], dtype='<U9')"
     },
     "metadata": {},
     "execution_count": 25
    }
   ],
   "source": [
    "pos"
   ]
  },
  {
   "cell_type": "code",
   "execution_count": 26,
   "metadata": {},
   "outputs": [
    {
     "output_type": "execute_result",
     "data": {
      "text/plain": "array([13.6  , 14.387, 14.585, 15.164])"
     },
     "metadata": {},
     "execution_count": 26
    }
   ],
   "source": [
    "baseline_high = 14.48\n",
    "highs = make_array(baseline_high - 0.880, \n",
    "                   baseline_high - 0.093,\n",
    "                   baseline_high + 0.105, \n",
    "                   baseline_high + 0.684)\n",
    "highs"
   ]
  },
  {
   "cell_type": "code",
   "execution_count": 27,
   "metadata": {},
   "outputs": [
    {
     "output_type": "execute_result",
     "data": {
      "text/plain": "array([56.48  , 57.8966, 58.253 , 59.2952])"
     },
     "metadata": {},
     "execution_count": 27
    }
   ],
   "source": [
    "(9/5) * highs + 32"
   ]
  },
  {
   "source": [
    "## array functions"
   ],
   "cell_type": "markdown",
   "metadata": {}
  },
  {
   "cell_type": "code",
   "execution_count": 28,
   "metadata": {},
   "outputs": [
    {
     "output_type": "execute_result",
     "data": {
      "text/plain": "4"
     },
     "metadata": {},
     "execution_count": 28
    }
   ],
   "source": [
    "highs.size"
   ]
  },
  {
   "cell_type": "code",
   "execution_count": 29,
   "metadata": {},
   "outputs": [
    {
     "output_type": "execute_result",
     "data": {
      "text/plain": "57.736000000000004"
     },
     "metadata": {},
     "execution_count": 29
    }
   ],
   "source": [
    "highs.sum()"
   ]
  },
  {
   "cell_type": "code",
   "execution_count": 30,
   "metadata": {},
   "outputs": [
    {
     "output_type": "execute_result",
     "data": {
      "text/plain": "14.434000000000001"
     },
     "metadata": {},
     "execution_count": 30
    }
   ],
   "source": [
    "highs.mean()"
   ]
  },
  {
   "source": [
    "## NP array functions\n",
    "\n",
    "the diff function computes the difference between each adjacent pair of elements in an array. The first element of the diff is the second element minus the first."
   ],
   "cell_type": "markdown",
   "metadata": {}
  },
  {
   "cell_type": "code",
   "execution_count": 31,
   "metadata": {},
   "outputs": [
    {
     "output_type": "execute_result",
     "data": {
      "text/plain": "array([0.787, 0.198, 0.579])"
     },
     "metadata": {},
     "execution_count": 31
    }
   ],
   "source": [
    "np.diff(highs)"
   ]
  },
  {
   "cell_type": "code",
   "execution_count": 32,
   "metadata": {},
   "outputs": [
    {
     "output_type": "execute_result",
     "data": {
      "text/plain": "43274.231214608"
     },
     "metadata": {},
     "execution_count": 32
    }
   ],
   "source": [
    "np.prod(highs)"
   ]
  },
  {
   "cell_type": "code",
   "execution_count": 33,
   "metadata": {},
   "outputs": [
    {
     "output_type": "execute_result",
     "data": {
      "text/plain": "57.736000000000004"
     },
     "metadata": {},
     "execution_count": 33
    }
   ],
   "source": [
    "np.sum(highs)"
   ]
  },
  {
   "source": [
    "check many useful `np` functions in this page:\n",
    "https://docs.microsoft.com/en-us/learn/modules/introduction-python-using-datascience-library/12-sequences "
   ],
   "cell_type": "markdown",
   "metadata": {}
  },
  {
   "source": [
    "## Ranges"
   ],
   "cell_type": "markdown",
   "metadata": {}
  },
  {
   "cell_type": "code",
   "execution_count": 34,
   "metadata": {},
   "outputs": [
    {
     "output_type": "execute_result",
     "data": {
      "text/plain": "array([0, 1, 2, 3, 4, 5, 6, 7, 8, 9])"
     },
     "metadata": {},
     "execution_count": 34
    }
   ],
   "source": [
    "np.arange(10)"
   ]
  },
  {
   "cell_type": "code",
   "execution_count": 35,
   "metadata": {},
   "outputs": [
    {
     "output_type": "execute_result",
     "data": {
      "text/plain": "array([70, 71, 72, 73, 74, 75, 76, 77, 78, 79, 80, 81, 82, 83, 84, 85, 86,\n       87, 88, 89, 90, 91, 92, 93, 94, 95, 96, 97, 98, 99])"
     },
     "metadata": {},
     "execution_count": 35
    }
   ],
   "source": [
    "np.arange(70, 100)"
   ]
  },
  {
   "cell_type": "code",
   "execution_count": 36,
   "metadata": {},
   "outputs": [
    {
     "output_type": "execute_result",
     "data": {
      "text/plain": "array([1, 3, 5, 7, 9])"
     },
     "metadata": {},
     "execution_count": 36
    }
   ],
   "source": [
    "#with steps\n",
    "np.arange(1,10,2)"
   ]
  },
  {
   "source": [
    "## Back to Tables"
   ],
   "cell_type": "markdown",
   "metadata": {}
  },
  {
   "source": [
    "The with_columns method on a table constructs a new table with additional labeled columns. Each column of a table is an array. To add one new column to a table, call with_columns with a label and an array. (The with_column method can be used with the same effect.)"
   ],
   "cell_type": "markdown",
   "metadata": {}
  },
  {
   "cell_type": "code",
   "execution_count": 37,
   "metadata": {},
   "outputs": [
    {
     "output_type": "execute_result",
     "data": {
      "text/plain": "Number of petals\n8\n43\n9",
      "text/html": "<table border=\"1\" class=\"dataframe\">\n    <thead>\n        <tr>\n            <th>Number of petals</th>\n        </tr>\n    </thead>\n    <tbody>\n        <tr>\n            <td>8               </td>\n        </tr>\n        <tr>\n            <td>43              </td>\n        </tr>\n        <tr>\n            <td>9               </td>\n        </tr>\n    </tbody>\n</table>"
     },
     "metadata": {},
     "execution_count": 37
    }
   ],
   "source": [
    "Table().with_columns('Number of petals', make_array(8,43,9))"
   ]
  },
  {
   "cell_type": "code",
   "execution_count": 38,
   "metadata": {},
   "outputs": [
    {
     "output_type": "execute_result",
     "data": {
      "text/plain": "Number of petals | Name      | Color\n8                | lotus     | pink\n34               | sunflower | yellow\n5                | rose      | red",
      "text/html": "<table border=\"1\" class=\"dataframe\">\n    <thead>\n        <tr>\n            <th>Number of petals</th> <th>Name</th> <th>Color</th>\n        </tr>\n    </thead>\n    <tbody>\n        <tr>\n            <td>8               </td> <td>lotus    </td> <td>pink  </td>\n        </tr>\n        <tr>\n            <td>34              </td> <td>sunflower</td> <td>yellow</td>\n        </tr>\n        <tr>\n            <td>5               </td> <td>rose     </td> <td>red   </td>\n        </tr>\n    </tbody>\n</table>"
     },
     "metadata": {},
     "execution_count": 38
    }
   ],
   "source": [
    "flowers = Table().with_columns(\n",
    "    'Number of petals', make_array(8, 34, 5),\n",
    "    'Name', make_array('lotus', 'sunflower', 'rose')\n",
    ")\n",
    "\n",
    "flowers.with_columns(\n",
    "    'Color', make_array('pink', 'yellow', 'red')\n",
    ")"
   ]
  },
  {
   "cell_type": "code",
   "execution_count": 39,
   "metadata": {},
   "outputs": [
    {
     "output_type": "execute_result",
     "data": {
      "text/plain": "Longitude | Latitude | City        | Direction | Survivors\n32        | 54.8     | Smolensk    | Advance   | 145000\n33.2      | 54.9     | Dorogobouge | Advance   | 140000\n34.4      | 55.5     | Chjat       | Advance   | 127100\n37.6      | 55.8     | Moscou      | Advance   | 100000\n34.3      | 55.2     | Wixma       | Retreat   | 55000\n32        | 54.6     | Smolensk    | Retreat   | 24000\n30.4      | 54.4     | Orscha      | Retreat   | 20000\n26.8      | 54.3     | Moiodexno   | Retreat   | 12000",
      "text/html": "<table border=\"1\" class=\"dataframe\">\n    <thead>\n        <tr>\n            <th>Longitude</th> <th>Latitude</th> <th>City</th> <th>Direction</th> <th>Survivors</th>\n        </tr>\n    </thead>\n    <tbody>\n        <tr>\n            <td>32       </td> <td>54.8    </td> <td>Smolensk   </td> <td>Advance  </td> <td>145000   </td>\n        </tr>\n        <tr>\n            <td>33.2     </td> <td>54.9    </td> <td>Dorogobouge</td> <td>Advance  </td> <td>140000   </td>\n        </tr>\n        <tr>\n            <td>34.4     </td> <td>55.5    </td> <td>Chjat      </td> <td>Advance  </td> <td>127100   </td>\n        </tr>\n        <tr>\n            <td>37.6     </td> <td>55.8    </td> <td>Moscou     </td> <td>Advance  </td> <td>100000   </td>\n        </tr>\n        <tr>\n            <td>34.3     </td> <td>55.2    </td> <td>Wixma      </td> <td>Retreat  </td> <td>55000    </td>\n        </tr>\n        <tr>\n            <td>32       </td> <td>54.6    </td> <td>Smolensk   </td> <td>Retreat  </td> <td>24000    </td>\n        </tr>\n        <tr>\n            <td>30.4     </td> <td>54.4    </td> <td>Orscha     </td> <td>Retreat  </td> <td>20000    </td>\n        </tr>\n        <tr>\n            <td>26.8     </td> <td>54.3    </td> <td>Moiodexno  </td> <td>Retreat  </td> <td>12000    </td>\n        </tr>\n    </tbody>\n</table>"
     },
     "metadata": {},
     "execution_count": 39
    }
   ],
   "source": [
    "minard = Table.read_table(path_data+'minard.csv')\n",
    "minard"
   ]
  },
  {
   "source": [
    "## table properties"
   ],
   "cell_type": "markdown",
   "metadata": {}
  },
  {
   "cell_type": "code",
   "execution_count": 40,
   "metadata": {},
   "outputs": [
    {
     "output_type": "execute_result",
     "data": {
      "text/plain": "5"
     },
     "metadata": {},
     "execution_count": 40
    }
   ],
   "source": [
    "minard.num_columns"
   ]
  },
  {
   "cell_type": "code",
   "execution_count": 41,
   "metadata": {},
   "outputs": [
    {
     "output_type": "execute_result",
     "data": {
      "text/plain": "8"
     },
     "metadata": {},
     "execution_count": 41
    }
   ],
   "source": [
    "minard.num_rows"
   ]
  },
  {
   "cell_type": "code",
   "execution_count": 42,
   "metadata": {},
   "outputs": [
    {
     "output_type": "execute_result",
     "data": {
      "text/plain": "('Longitude', 'Latitude', 'City', 'Direction', 'Survivors')"
     },
     "metadata": {},
     "execution_count": 42
    }
   ],
   "source": [
    "minard.labels"
   ]
  },
  {
   "cell_type": "code",
   "execution_count": 43,
   "metadata": {},
   "outputs": [
    {
     "output_type": "execute_result",
     "data": {
      "text/plain": "Longitude | Latitude | City name   | Direction | Survivors\n32        | 54.8     | Smolensk    | Advance   | 145000\n33.2      | 54.9     | Dorogobouge | Advance   | 140000\n34.4      | 55.5     | Chjat       | Advance   | 127100\n37.6      | 55.8     | Moscou      | Advance   | 100000\n34.3      | 55.2     | Wixma       | Retreat   | 55000\n32        | 54.6     | Smolensk    | Retreat   | 24000\n30.4      | 54.4     | Orscha      | Retreat   | 20000\n26.8      | 54.3     | Moiodexno   | Retreat   | 12000",
      "text/html": "<table border=\"1\" class=\"dataframe\">\n    <thead>\n        <tr>\n            <th>Longitude</th> <th>Latitude</th> <th>City name</th> <th>Direction</th> <th>Survivors</th>\n        </tr>\n    </thead>\n    <tbody>\n        <tr>\n            <td>32       </td> <td>54.8    </td> <td>Smolensk   </td> <td>Advance  </td> <td>145000   </td>\n        </tr>\n        <tr>\n            <td>33.2     </td> <td>54.9    </td> <td>Dorogobouge</td> <td>Advance  </td> <td>140000   </td>\n        </tr>\n        <tr>\n            <td>34.4     </td> <td>55.5    </td> <td>Chjat      </td> <td>Advance  </td> <td>127100   </td>\n        </tr>\n        <tr>\n            <td>37.6     </td> <td>55.8    </td> <td>Moscou     </td> <td>Advance  </td> <td>100000   </td>\n        </tr>\n        <tr>\n            <td>34.3     </td> <td>55.2    </td> <td>Wixma      </td> <td>Retreat  </td> <td>55000    </td>\n        </tr>\n        <tr>\n            <td>32       </td> <td>54.6    </td> <td>Smolensk   </td> <td>Retreat  </td> <td>24000    </td>\n        </tr>\n        <tr>\n            <td>30.4     </td> <td>54.4    </td> <td>Orscha     </td> <td>Retreat  </td> <td>20000    </td>\n        </tr>\n        <tr>\n            <td>26.8     </td> <td>54.3    </td> <td>Moiodexno  </td> <td>Retreat  </td> <td>12000    </td>\n        </tr>\n    </tbody>\n</table>"
     },
     "metadata": {},
     "execution_count": 43
    }
   ],
   "source": [
    "minard.relabeled('City', 'City name')"
   ]
  },
  {
   "cell_type": "code",
   "execution_count": 44,
   "metadata": {},
   "outputs": [
    {
     "output_type": "execute_result",
     "data": {
      "text/plain": "Longitude | Latitude | City        | Direction | Survivors\n32        | 54.8     | Smolensk    | Advance   | 145000\n33.2      | 54.9     | Dorogobouge | Advance   | 140000\n34.4      | 55.5     | Chjat       | Advance   | 127100\n37.6      | 55.8     | Moscou      | Advance   | 100000\n34.3      | 55.2     | Wixma       | Retreat   | 55000\n32        | 54.6     | Smolensk    | Retreat   | 24000\n30.4      | 54.4     | Orscha      | Retreat   | 20000\n26.8      | 54.3     | Moiodexno   | Retreat   | 12000",
      "text/html": "<table border=\"1\" class=\"dataframe\">\n    <thead>\n        <tr>\n            <th>Longitude</th> <th>Latitude</th> <th>City</th> <th>Direction</th> <th>Survivors</th>\n        </tr>\n    </thead>\n    <tbody>\n        <tr>\n            <td>32       </td> <td>54.8    </td> <td>Smolensk   </td> <td>Advance  </td> <td>145000   </td>\n        </tr>\n        <tr>\n            <td>33.2     </td> <td>54.9    </td> <td>Dorogobouge</td> <td>Advance  </td> <td>140000   </td>\n        </tr>\n        <tr>\n            <td>34.4     </td> <td>55.5    </td> <td>Chjat      </td> <td>Advance  </td> <td>127100   </td>\n        </tr>\n        <tr>\n            <td>37.6     </td> <td>55.8    </td> <td>Moscou     </td> <td>Advance  </td> <td>100000   </td>\n        </tr>\n        <tr>\n            <td>34.3     </td> <td>55.2    </td> <td>Wixma      </td> <td>Retreat  </td> <td>55000    </td>\n        </tr>\n        <tr>\n            <td>32       </td> <td>54.6    </td> <td>Smolensk   </td> <td>Retreat  </td> <td>24000    </td>\n        </tr>\n        <tr>\n            <td>30.4     </td> <td>54.4    </td> <td>Orscha     </td> <td>Retreat  </td> <td>20000    </td>\n        </tr>\n        <tr>\n            <td>26.8     </td> <td>54.3    </td> <td>Moiodexno  </td> <td>Retreat  </td> <td>12000    </td>\n        </tr>\n    </tbody>\n</table>"
     },
     "metadata": {},
     "execution_count": 44
    }
   ],
   "source": [
    "minard"
   ]
  },
  {
   "source": [
    "to access data in column"
   ],
   "cell_type": "markdown",
   "metadata": {}
  },
  {
   "cell_type": "code",
   "execution_count": 45,
   "metadata": {},
   "outputs": [
    {
     "output_type": "execute_result",
     "data": {
      "text/plain": "array([145000, 140000, 127100, 100000,  55000,  24000,  20000,  12000])"
     },
     "metadata": {},
     "execution_count": 45
    }
   ],
   "source": [
    "minard.column('Survivors')"
   ]
  },
  {
   "cell_type": "code",
   "execution_count": 46,
   "metadata": {},
   "outputs": [
    {
     "output_type": "execute_result",
     "data": {
      "text/plain": "array(['Advance', 'Advance', 'Advance', 'Advance', 'Retreat', 'Retreat',\n       'Retreat', 'Retreat'], dtype='<U7')"
     },
     "metadata": {},
     "execution_count": 46
    }
   ],
   "source": [
    "minard.column(3)"
   ]
  },
  {
   "cell_type": "code",
   "execution_count": 47,
   "metadata": {},
   "outputs": [
    {
     "output_type": "execute_result",
     "data": {
      "text/plain": "55.8"
     },
     "metadata": {},
     "execution_count": 47
    }
   ],
   "source": [
    "minard.column(1).item(3)"
   ]
  },
  {
   "source": [
    "Because columns are arrays, we can use array operations on them to discover new information. For example, we can create a new column that contains the percent of all survivors at each city after Smolensk."
   ],
   "cell_type": "markdown",
   "metadata": {}
  },
  {
   "cell_type": "code",
   "execution_count": 48,
   "metadata": {},
   "outputs": [
    {
     "output_type": "execute_result",
     "data": {
      "text/plain": "Longitude | Latitude | City        | Direction | Survivors | % surviving\n32        | 54.8     | Smolensk    | Advance   | 145000    | 1\n33.2      | 54.9     | Dorogobouge | Advance   | 140000    | 0.965517\n34.4      | 55.5     | Chjat       | Advance   | 127100    | 0.876552\n37.6      | 55.8     | Moscou      | Advance   | 100000    | 0.689655\n34.3      | 55.2     | Wixma       | Retreat   | 55000     | 0.37931\n32        | 54.6     | Smolensk    | Retreat   | 24000     | 0.165517\n30.4      | 54.4     | Orscha      | Retreat   | 20000     | 0.137931\n26.8      | 54.3     | Moiodexno   | Retreat   | 12000     | 0.0827586",
      "text/html": "<table border=\"1\" class=\"dataframe\">\n    <thead>\n        <tr>\n            <th>Longitude</th> <th>Latitude</th> <th>City</th> <th>Direction</th> <th>Survivors</th> <th>% surviving</th>\n        </tr>\n    </thead>\n    <tbody>\n        <tr>\n            <td>32       </td> <td>54.8    </td> <td>Smolensk   </td> <td>Advance  </td> <td>145000   </td> <td>1          </td>\n        </tr>\n        <tr>\n            <td>33.2     </td> <td>54.9    </td> <td>Dorogobouge</td> <td>Advance  </td> <td>140000   </td> <td>0.965517   </td>\n        </tr>\n        <tr>\n            <td>34.4     </td> <td>55.5    </td> <td>Chjat      </td> <td>Advance  </td> <td>127100   </td> <td>0.876552   </td>\n        </tr>\n        <tr>\n            <td>37.6     </td> <td>55.8    </td> <td>Moscou     </td> <td>Advance  </td> <td>100000   </td> <td>0.689655   </td>\n        </tr>\n        <tr>\n            <td>34.3     </td> <td>55.2    </td> <td>Wixma      </td> <td>Retreat  </td> <td>55000    </td> <td>0.37931    </td>\n        </tr>\n        <tr>\n            <td>32       </td> <td>54.6    </td> <td>Smolensk   </td> <td>Retreat  </td> <td>24000    </td> <td>0.165517   </td>\n        </tr>\n        <tr>\n            <td>30.4     </td> <td>54.4    </td> <td>Orscha     </td> <td>Retreat  </td> <td>20000    </td> <td>0.137931   </td>\n        </tr>\n        <tr>\n            <td>26.8     </td> <td>54.3    </td> <td>Moiodexno  </td> <td>Retreat  </td> <td>12000    </td> <td>0.0827586  </td>\n        </tr>\n    </tbody>\n</table>"
     },
     "metadata": {},
     "execution_count": 48
    }
   ],
   "source": [
    "initial = minard.column('Survivors').item(0)\n",
    "minard = minard.with_columns('% surviving', minard.column('Survivors')/initial)\n",
    "minard"
   ]
  },
  {
   "cell_type": "code",
   "execution_count": 49,
   "metadata": {},
   "outputs": [
    {
     "output_type": "execute_result",
     "data": {
      "text/plain": "Longitude | Latitude | City        | Direction | Survivors | % surviving\n32        | 54.8     | Smolensk    | Advance   | 145000    | 100.00%\n33.2      | 54.9     | Dorogobouge | Advance   | 140000    | 96.55%\n34.4      | 55.5     | Chjat       | Advance   | 127100    | 87.66%\n37.6      | 55.8     | Moscou      | Advance   | 100000    | 68.97%\n34.3      | 55.2     | Wixma       | Retreat   | 55000     | 37.93%\n32        | 54.6     | Smolensk    | Retreat   | 24000     | 16.55%\n30.4      | 54.4     | Orscha      | Retreat   | 20000     | 13.79%\n26.8      | 54.3     | Moiodexno   | Retreat   | 12000     | 8.28%",
      "text/html": "<table border=\"1\" class=\"dataframe\">\n    <thead>\n        <tr>\n            <th>Longitude</th> <th>Latitude</th> <th>City</th> <th>Direction</th> <th>Survivors</th> <th>% surviving</th>\n        </tr>\n    </thead>\n    <tbody>\n        <tr>\n            <td>32       </td> <td>54.8    </td> <td>Smolensk   </td> <td>Advance  </td> <td>145000   </td> <td>100.00%    </td>\n        </tr>\n        <tr>\n            <td>33.2     </td> <td>54.9    </td> <td>Dorogobouge</td> <td>Advance  </td> <td>140000   </td> <td>96.55%     </td>\n        </tr>\n        <tr>\n            <td>34.4     </td> <td>55.5    </td> <td>Chjat      </td> <td>Advance  </td> <td>127100   </td> <td>87.66%     </td>\n        </tr>\n        <tr>\n            <td>37.6     </td> <td>55.8    </td> <td>Moscou     </td> <td>Advance  </td> <td>100000   </td> <td>68.97%     </td>\n        </tr>\n        <tr>\n            <td>34.3     </td> <td>55.2    </td> <td>Wixma      </td> <td>Retreat  </td> <td>55000    </td> <td>37.93%     </td>\n        </tr>\n        <tr>\n            <td>32       </td> <td>54.6    </td> <td>Smolensk   </td> <td>Retreat  </td> <td>24000    </td> <td>16.55%     </td>\n        </tr>\n        <tr>\n            <td>30.4     </td> <td>54.4    </td> <td>Orscha     </td> <td>Retreat  </td> <td>20000    </td> <td>13.79%     </td>\n        </tr>\n        <tr>\n            <td>26.8     </td> <td>54.3    </td> <td>Moiodexno  </td> <td>Retreat  </td> <td>12000    </td> <td>8.28%      </td>\n        </tr>\n    </tbody>\n</table>"
     },
     "metadata": {},
     "execution_count": 49
    }
   ],
   "source": [
    "minard.set_format('% surviving', PercentFormatter)"
   ]
  },
  {
   "source": [
    "## select columns"
   ],
   "cell_type": "markdown",
   "metadata": {}
  },
  {
   "cell_type": "code",
   "execution_count": 50,
   "metadata": {},
   "outputs": [
    {
     "output_type": "execute_result",
     "data": {
      "text/plain": "Longitude | Latitude\n32        | 54.8\n33.2      | 54.9\n34.4      | 55.5\n37.6      | 55.8\n34.3      | 55.2\n32        | 54.6\n30.4      | 54.4\n26.8      | 54.3",
      "text/html": "<table border=\"1\" class=\"dataframe\">\n    <thead>\n        <tr>\n            <th>Longitude</th> <th>Latitude</th>\n        </tr>\n    </thead>\n    <tbody>\n        <tr>\n            <td>32       </td> <td>54.8    </td>\n        </tr>\n        <tr>\n            <td>33.2     </td> <td>54.9    </td>\n        </tr>\n        <tr>\n            <td>34.4     </td> <td>55.5    </td>\n        </tr>\n        <tr>\n            <td>37.6     </td> <td>55.8    </td>\n        </tr>\n        <tr>\n            <td>34.3     </td> <td>55.2    </td>\n        </tr>\n        <tr>\n            <td>32       </td> <td>54.6    </td>\n        </tr>\n        <tr>\n            <td>30.4     </td> <td>54.4    </td>\n        </tr>\n        <tr>\n            <td>26.8     </td> <td>54.3    </td>\n        </tr>\n    </tbody>\n</table>"
     },
     "metadata": {},
     "execution_count": 50
    }
   ],
   "source": [
    "minard.select(0,1)"
   ]
  },
  {
   "cell_type": "code",
   "execution_count": 51,
   "metadata": {},
   "outputs": [
    {
     "output_type": "execute_result",
     "data": {
      "text/plain": "Longitude | Latitude | Direction | % surviving\n32        | 54.8     | Advance   | 100.00%\n33.2      | 54.9     | Advance   | 96.55%\n34.4      | 55.5     | Advance   | 87.66%\n37.6      | 55.8     | Advance   | 68.97%\n34.3      | 55.2     | Retreat   | 37.93%\n32        | 54.6     | Retreat   | 16.55%\n30.4      | 54.4     | Retreat   | 13.79%\n26.8      | 54.3     | Retreat   | 8.28%",
      "text/html": "<table border=\"1\" class=\"dataframe\">\n    <thead>\n        <tr>\n            <th>Longitude</th> <th>Latitude</th> <th>Direction</th> <th>% surviving</th>\n        </tr>\n    </thead>\n    <tbody>\n        <tr>\n            <td>32       </td> <td>54.8    </td> <td>Advance  </td> <td>100.00%    </td>\n        </tr>\n        <tr>\n            <td>33.2     </td> <td>54.9    </td> <td>Advance  </td> <td>96.55%     </td>\n        </tr>\n        <tr>\n            <td>34.4     </td> <td>55.5    </td> <td>Advance  </td> <td>87.66%     </td>\n        </tr>\n        <tr>\n            <td>37.6     </td> <td>55.8    </td> <td>Advance  </td> <td>68.97%     </td>\n        </tr>\n        <tr>\n            <td>34.3     </td> <td>55.2    </td> <td>Retreat  </td> <td>37.93%     </td>\n        </tr>\n        <tr>\n            <td>32       </td> <td>54.6    </td> <td>Retreat  </td> <td>16.55%     </td>\n        </tr>\n        <tr>\n            <td>30.4     </td> <td>54.4    </td> <td>Retreat  </td> <td>13.79%     </td>\n        </tr>\n        <tr>\n            <td>26.8     </td> <td>54.3    </td> <td>Retreat  </td> <td>8.28%      </td>\n        </tr>\n    </tbody>\n</table>"
     },
     "metadata": {},
     "execution_count": 51
    }
   ],
   "source": [
    "minard.drop(2,4)"
   ]
  },
  {
   "cell_type": "code",
   "execution_count": 52,
   "metadata": {},
   "outputs": [
    {
     "output_type": "execute_result",
     "data": {
      "text/plain": "PLAYER           | POSITION | TEAM          | SALARY\nPaul Millsap     | PF       | Atlanta Hawks | 18.6717\nAl Horford       | C        | Atlanta Hawks | 12\nTiago Splitter   | C        | Atlanta Hawks | 9.75625\nJeff Teague      | PG       | Atlanta Hawks | 8\nKyle Korver      | SG       | Atlanta Hawks | 5.74648\nThabo Sefolosha  | SF       | Atlanta Hawks | 4\nMike Scott       | PF       | Atlanta Hawks | 3.33333\nKent Bazemore    | SF       | Atlanta Hawks | 2\nDennis Schroder  | PG       | Atlanta Hawks | 1.7634\nTim Hardaway Jr. | SG       | Atlanta Hawks | 1.30452\n... (407 rows omitted)",
      "text/html": "<table border=\"1\" class=\"dataframe\">\n    <thead>\n        <tr>\n            <th>PLAYER</th> <th>POSITION</th> <th>TEAM</th> <th>SALARY</th>\n        </tr>\n    </thead>\n    <tbody>\n        <tr>\n            <td>Paul Millsap    </td> <td>PF      </td> <td>Atlanta Hawks</td> <td>18.6717</td>\n        </tr>\n        <tr>\n            <td>Al Horford      </td> <td>C       </td> <td>Atlanta Hawks</td> <td>12     </td>\n        </tr>\n        <tr>\n            <td>Tiago Splitter  </td> <td>C       </td> <td>Atlanta Hawks</td> <td>9.75625</td>\n        </tr>\n        <tr>\n            <td>Jeff Teague     </td> <td>PG      </td> <td>Atlanta Hawks</td> <td>8      </td>\n        </tr>\n        <tr>\n            <td>Kyle Korver     </td> <td>SG      </td> <td>Atlanta Hawks</td> <td>5.74648</td>\n        </tr>\n        <tr>\n            <td>Thabo Sefolosha </td> <td>SF      </td> <td>Atlanta Hawks</td> <td>4      </td>\n        </tr>\n        <tr>\n            <td>Mike Scott      </td> <td>PF      </td> <td>Atlanta Hawks</td> <td>3.33333</td>\n        </tr>\n        <tr>\n            <td>Kent Bazemore   </td> <td>SF      </td> <td>Atlanta Hawks</td> <td>2      </td>\n        </tr>\n        <tr>\n            <td>Dennis Schroder </td> <td>PG      </td> <td>Atlanta Hawks</td> <td>1.7634 </td>\n        </tr>\n        <tr>\n            <td>Tim Hardaway Jr.</td> <td>SG      </td> <td>Atlanta Hawks</td> <td>1.30452</td>\n        </tr>\n    </tbody>\n</table>\n<p>... (407 rows omitted)</p>"
     },
     "metadata": {},
     "execution_count": 52
    }
   ],
   "source": [
    "nba"
   ]
  },
  {
   "cell_type": "code",
   "execution_count": 53,
   "metadata": {},
   "outputs": [
    {
     "output_type": "display_data",
     "data": {
      "text/plain": "<IPython.core.display.HTML object>",
      "text/html": "<table border=\"1\" class=\"dataframe\">\n    <thead>\n        <tr>\n            <th>PLAYER</th>\n        </tr>\n    </thead>\n    <tbody>\n        <tr>\n            <td>Kobe Bryant      </td>\n        </tr>\n        <tr>\n            <td>Joe Johnson      </td>\n        </tr>\n        <tr>\n            <td>LeBron James     </td>\n        </tr>\n        <tr>\n            <td>Carmelo Anthony  </td>\n        </tr>\n        <tr>\n            <td>Dwight Howard    </td>\n        </tr>\n        <tr>\n            <td>Chris Bosh       </td>\n        </tr>\n        <tr>\n            <td>Chris Paul       </td>\n        </tr>\n        <tr>\n            <td>Kevin Durant     </td>\n        </tr>\n        <tr>\n            <td>Derrick Rose     </td>\n        </tr>\n        <tr>\n            <td>Dwyane Wade      </td>\n        </tr>\n        <tr>\n            <td>LaMarcus Aldridge</td>\n        </tr>\n        <tr>\n            <td>Kevin Love       </td>\n        </tr>\n        <tr>\n            <td>Marc Gasol       </td>\n        </tr>\n        <tr>\n            <td>Blake Griffin    </td>\n        </tr>\n        <tr>\n            <td>Paul Millsap     </td>\n        </tr>\n        <tr>\n            <td>Paul George      </td>\n        </tr>\n        <tr>\n            <td>Russell Westbrook</td>\n        </tr>\n        <tr>\n            <td>Kyrie Irving     </td>\n        </tr>\n        <tr>\n            <td>Kawhi Leonard    </td>\n        </tr>\n        <tr>\n            <td>Enes Kanter      </td>\n        </tr>\n    </tbody>\n</table>\n<p>... (397 rows omitted)</p>"
     },
     "metadata": {}
    }
   ],
   "source": [
    "nba.sort('SALARY', descending=True).select(0).show(20)"
   ]
  },
  {
   "source": [
    "## Take"
   ],
   "cell_type": "markdown",
   "metadata": {}
  },
  {
   "cell_type": "code",
   "execution_count": 54,
   "metadata": {},
   "outputs": [
    {
     "output_type": "execute_result",
     "data": {
      "text/plain": "PLAYER         | POSITION | TEAM          | SALARY\nTiago Splitter | C        | Atlanta Hawks | 9.75625",
      "text/html": "<table border=\"1\" class=\"dataframe\">\n    <thead>\n        <tr>\n            <th>PLAYER</th> <th>POSITION</th> <th>TEAM</th> <th>SALARY</th>\n        </tr>\n    </thead>\n    <tbody>\n        <tr>\n            <td>Tiago Splitter</td> <td>C       </td> <td>Atlanta Hawks</td> <td>9.75625</td>\n        </tr>\n    </tbody>\n</table>"
     },
     "metadata": {},
     "execution_count": 54
    }
   ],
   "source": [
    "nba.take(2)"
   ]
  },
  {
   "cell_type": "code",
   "execution_count": 55,
   "metadata": {},
   "outputs": [
    {
     "output_type": "execute_result",
     "data": {
      "text/plain": "PLAYER          | POSITION | TEAM          | SALARY\nJeff Teague     | PG       | Atlanta Hawks | 8\nKyle Korver     | SG       | Atlanta Hawks | 5.74648\nThabo Sefolosha | SF       | Atlanta Hawks | 4\nMike Scott      | PF       | Atlanta Hawks | 3.33333\nKent Bazemore   | SF       | Atlanta Hawks | 2\nDennis Schroder | PG       | Atlanta Hawks | 1.7634",
      "text/html": "<table border=\"1\" class=\"dataframe\">\n    <thead>\n        <tr>\n            <th>PLAYER</th> <th>POSITION</th> <th>TEAM</th> <th>SALARY</th>\n        </tr>\n    </thead>\n    <tbody>\n        <tr>\n            <td>Jeff Teague    </td> <td>PG      </td> <td>Atlanta Hawks</td> <td>8      </td>\n        </tr>\n        <tr>\n            <td>Kyle Korver    </td> <td>SG      </td> <td>Atlanta Hawks</td> <td>5.74648</td>\n        </tr>\n        <tr>\n            <td>Thabo Sefolosha</td> <td>SF      </td> <td>Atlanta Hawks</td> <td>4      </td>\n        </tr>\n        <tr>\n            <td>Mike Scott     </td> <td>PF      </td> <td>Atlanta Hawks</td> <td>3.33333</td>\n        </tr>\n        <tr>\n            <td>Kent Bazemore  </td> <td>SF      </td> <td>Atlanta Hawks</td> <td>2      </td>\n        </tr>\n        <tr>\n            <td>Dennis Schroder</td> <td>PG      </td> <td>Atlanta Hawks</td> <td>1.7634 </td>\n        </tr>\n    </tbody>\n</table>"
     },
     "metadata": {},
     "execution_count": 55
    }
   ],
   "source": [
    "nba.take(range(3,9))"
   ]
  },
  {
   "cell_type": "code",
   "execution_count": 56,
   "metadata": {},
   "outputs": [
    {
     "output_type": "execute_result",
     "data": {
      "text/plain": "PLAYER          | POSITION | TEAM                | SALARY\nKobe Bryant     | SF       | Los Angeles Lakers  | 25\nJoe Johnson     | SF       | Brooklyn Nets       | 24.8949\nLeBron James    | SF       | Cleveland Cavaliers | 22.9705\nCarmelo Anthony | SF       | New York Knicks     | 22.875\nDwight Howard   | C        | Houston Rockets     | 22.3594",
      "text/html": "<table border=\"1\" class=\"dataframe\">\n    <thead>\n        <tr>\n            <th>PLAYER</th> <th>POSITION</th> <th>TEAM</th> <th>SALARY</th>\n        </tr>\n    </thead>\n    <tbody>\n        <tr>\n            <td>Kobe Bryant    </td> <td>SF      </td> <td>Los Angeles Lakers </td> <td>25     </td>\n        </tr>\n        <tr>\n            <td>Joe Johnson    </td> <td>SF      </td> <td>Brooklyn Nets      </td> <td>24.8949</td>\n        </tr>\n        <tr>\n            <td>LeBron James   </td> <td>SF      </td> <td>Cleveland Cavaliers</td> <td>22.9705</td>\n        </tr>\n        <tr>\n            <td>Carmelo Anthony</td> <td>SF      </td> <td>New York Knicks    </td> <td>22.875 </td>\n        </tr>\n        <tr>\n            <td>Dwight Howard  </td> <td>C       </td> <td>Houston Rockets    </td> <td>22.3594</td>\n        </tr>\n    </tbody>\n</table>"
     },
     "metadata": {},
     "execution_count": 56
    }
   ],
   "source": [
    "nba.sort(3, descending=True).take(range(5))"
   ]
  },
  {
   "cell_type": "code",
   "execution_count": 60,
   "metadata": {},
   "outputs": [
    {
     "output_type": "display_data",
     "data": {
      "text/plain": "<IPython.core.display.HTML object>",
      "text/html": "<table border=\"1\" class=\"dataframe\">\n    <thead>\n        <tr>\n            <th>PLAYER</th> <th>POSITION</th> <th>TEAM</th> <th>SALARY</th>\n        </tr>\n    </thead>\n    <tbody>\n        <tr>\n            <td>Klay Thompson    </td> <td>SG      </td> <td>Golden State Warriors</td> <td>15.501  </td>\n        </tr>\n        <tr>\n            <td>Draymond Green   </td> <td>PF      </td> <td>Golden State Warriors</td> <td>14.2609 </td>\n        </tr>\n        <tr>\n            <td>Andrew Bogut     </td> <td>C       </td> <td>Golden State Warriors</td> <td>13.8    </td>\n        </tr>\n        <tr>\n            <td>Andre Iguodala   </td> <td>SF      </td> <td>Golden State Warriors</td> <td>11.7105 </td>\n        </tr>\n        <tr>\n            <td>Stephen Curry    </td> <td>PG      </td> <td>Golden State Warriors</td> <td>11.3708 </td>\n        </tr>\n        <tr>\n            <td>Jason Thompson   </td> <td>PF      </td> <td>Golden State Warriors</td> <td>7.00847 </td>\n        </tr>\n        <tr>\n            <td>Shaun Livingston </td> <td>PG      </td> <td>Golden State Warriors</td> <td>5.54373 </td>\n        </tr>\n        <tr>\n            <td>Harrison Barnes  </td> <td>SF      </td> <td>Golden State Warriors</td> <td>3.8734  </td>\n        </tr>\n        <tr>\n            <td>Marreese Speights</td> <td>C       </td> <td>Golden State Warriors</td> <td>3.815   </td>\n        </tr>\n        <tr>\n            <td>Leandro Barbosa  </td> <td>SG      </td> <td>Golden State Warriors</td> <td>2.5     </td>\n        </tr>\n        <tr>\n            <td>Festus Ezeli     </td> <td>C       </td> <td>Golden State Warriors</td> <td>2.00875 </td>\n        </tr>\n        <tr>\n            <td>Brandon Rush     </td> <td>SF      </td> <td>Golden State Warriors</td> <td>1.27096 </td>\n        </tr>\n        <tr>\n            <td>Kevon Looney     </td> <td>SF      </td> <td>Golden State Warriors</td> <td>1.13196 </td>\n        </tr>\n        <tr>\n            <td>Anderson Varejao </td> <td>PF      </td> <td>Golden State Warriors</td> <td>0.289755</td>\n        </tr>\n    </tbody>\n</table>"
     },
     "metadata": {}
    }
   ],
   "source": [
    "nba.where('TEAM', are.equal_to('Golden State Warriors')).show()"
   ]
  },
  {
   "cell_type": "code",
   "execution_count": 62,
   "metadata": {},
   "outputs": [
    {
     "output_type": "execute_result",
     "data": {
      "text/plain": "PLAYER            | POSITION | TEAM           | SALARY\nDanilo Gallinari  | SF       | Denver Nuggets | 14\nKenneth Faried    | PF       | Denver Nuggets | 11.236\nWilson Chandler   | SF       | Denver Nuggets | 10.4494\nJJ Hickson        | C        | Denver Nuggets | 5.6135\nJameer Nelson     | PG       | Denver Nuggets | 4.345\nWill Barton       | SF       | Denver Nuggets | 3.53333\nEmmanuel Mudiay   | PG       | Denver Nuggets | 3.10224\nDarrell Arthur    | PF       | Denver Nuggets | 2.814\nJusuf Nurkic      | C        | Denver Nuggets | 1.842\nJoffrey Lauvergne | C        | Denver Nuggets | 1.70972\n... (4 rows omitted)",
      "text/html": "<table border=\"1\" class=\"dataframe\">\n    <thead>\n        <tr>\n            <th>PLAYER</th> <th>POSITION</th> <th>TEAM</th> <th>SALARY</th>\n        </tr>\n    </thead>\n    <tbody>\n        <tr>\n            <td>Danilo Gallinari </td> <td>SF      </td> <td>Denver Nuggets</td> <td>14     </td>\n        </tr>\n        <tr>\n            <td>Kenneth Faried   </td> <td>PF      </td> <td>Denver Nuggets</td> <td>11.236 </td>\n        </tr>\n        <tr>\n            <td>Wilson Chandler  </td> <td>SF      </td> <td>Denver Nuggets</td> <td>10.4494</td>\n        </tr>\n        <tr>\n            <td>JJ Hickson       </td> <td>C       </td> <td>Denver Nuggets</td> <td>5.6135 </td>\n        </tr>\n        <tr>\n            <td>Jameer Nelson    </td> <td>PG      </td> <td>Denver Nuggets</td> <td>4.345  </td>\n        </tr>\n        <tr>\n            <td>Will Barton      </td> <td>SF      </td> <td>Denver Nuggets</td> <td>3.53333</td>\n        </tr>\n        <tr>\n            <td>Emmanuel Mudiay  </td> <td>PG      </td> <td>Denver Nuggets</td> <td>3.10224</td>\n        </tr>\n        <tr>\n            <td>Darrell Arthur   </td> <td>PF      </td> <td>Denver Nuggets</td> <td>2.814  </td>\n        </tr>\n        <tr>\n            <td>Jusuf Nurkic     </td> <td>C       </td> <td>Denver Nuggets</td> <td>1.842  </td>\n        </tr>\n        <tr>\n            <td>Joffrey Lauvergne</td> <td>C       </td> <td>Denver Nuggets</td> <td>1.70972</td>\n        </tr>\n    </tbody>\n</table>\n<p>... (4 rows omitted)</p>"
     },
     "metadata": {},
     "execution_count": 62
    }
   ],
   "source": [
    "nba.where('TEAM', 'Denver Nuggets') # equivalent to nba.where('Team', are.equal_to('Denver Nuggets'))"
   ]
  },
  {
   "cell_type": "code",
   "execution_count": 66,
   "metadata": {},
   "outputs": [
    {
     "output_type": "display_data",
     "data": {
      "text/plain": "<IPython.core.display.HTML object>",
      "text/html": "<table border=\"1\" class=\"dataframe\">\n    <thead>\n        <tr>\n            <th>PLAYER</th> <th>POSITION</th> <th>TEAM</th> <th>SALARY</th>\n        </tr>\n    </thead>\n    <tbody>\n        <tr>\n            <td>Al Horford      </td> <td>C       </td> <td>Atlanta Hawks         </td> <td>12     </td>\n        </tr>\n        <tr>\n            <td>Al Jefferson    </td> <td>C       </td> <td>Charlotte Hornets     </td> <td>13.5   </td>\n        </tr>\n        <tr>\n            <td>Joakim Noah     </td> <td>C       </td> <td>Chicago Bulls         </td> <td>13.4   </td>\n        </tr>\n        <tr>\n            <td>Tristan Thompson</td> <td>C       </td> <td>Cleveland Cavaliers   </td> <td>14.2609</td>\n        </tr>\n        <tr>\n            <td>Brendan Haywood </td> <td>C       </td> <td>Cleveland Cavaliers   </td> <td>10.5225</td>\n        </tr>\n        <tr>\n            <td>Andrew Bogut    </td> <td>C       </td> <td>Golden State Warriors </td> <td>13.8   </td>\n        </tr>\n        <tr>\n            <td>Dwight Howard   </td> <td>C       </td> <td>Houston Rockets       </td> <td>22.3594</td>\n        </tr>\n        <tr>\n            <td>Roy Hibbert     </td> <td>C       </td> <td>Los Angeles Lakers    </td> <td>15.5922</td>\n        </tr>\n        <tr>\n            <td>Marc Gasol      </td> <td>C       </td> <td>Memphis Grizzlies     </td> <td>19.688 </td>\n        </tr>\n        <tr>\n            <td>Nikola Pekovic  </td> <td>C       </td> <td>Minnesota Timberwolves</td> <td>12.1   </td>\n        </tr>\n        <tr>\n            <td>Robin Lopez     </td> <td>C       </td> <td>New York Knicks       </td> <td>12.65  </td>\n        </tr>\n        <tr>\n            <td>Enes Kanter     </td> <td>C       </td> <td>Oklahoma City Thunder </td> <td>16.4075</td>\n        </tr>\n        <tr>\n            <td>Nikola Vucevic  </td> <td>C       </td> <td>Orlando Magic         </td> <td>11.25  </td>\n        </tr>\n        <tr>\n            <td>Tyson Chandler  </td> <td>C       </td> <td>Phoenix Suns          </td> <td>13     </td>\n        </tr>\n        <tr>\n            <td>DeMarcus Cousins</td> <td>C       </td> <td>Sacramento Kings      </td> <td>15.852 </td>\n        </tr>\n        <tr>\n            <td>Nene Hilario    </td> <td>C       </td> <td>Washington Wizards    </td> <td>13     </td>\n        </tr>\n        <tr>\n            <td>Marcin Gortat   </td> <td>C       </td> <td>Washington Wizards    </td> <td>11.2174</td>\n        </tr>\n    </tbody>\n</table>"
     },
     "metadata": {}
    }
   ],
   "source": [
    "nba.where('POSITION', 'C').where('SALARY', are.above(10)).show()"
   ]
  },
  {
   "cell_type": "code",
   "execution_count": 68,
   "metadata": {},
   "outputs": [
    {
     "output_type": "display_data",
     "data": {
      "text/plain": "<IPython.core.display.HTML object>",
      "text/html": "<table border=\"1\" class=\"dataframe\">\n    <thead>\n        <tr>\n            <th>PLAYER</th> <th>POSITION</th> <th>TEAM</th> <th>SALARY</th>\n        </tr>\n    </thead>\n    <tbody>\n        <tr>\n            <td>Klay Thompson    </td> <td>SG      </td> <td>Golden State Warriors</td> <td>15.501  </td>\n        </tr>\n        <tr>\n            <td>Draymond Green   </td> <td>PF      </td> <td>Golden State Warriors</td> <td>14.2609 </td>\n        </tr>\n        <tr>\n            <td>Andrew Bogut     </td> <td>C       </td> <td>Golden State Warriors</td> <td>13.8    </td>\n        </tr>\n        <tr>\n            <td>Andre Iguodala   </td> <td>SF      </td> <td>Golden State Warriors</td> <td>11.7105 </td>\n        </tr>\n        <tr>\n            <td>Stephen Curry    </td> <td>PG      </td> <td>Golden State Warriors</td> <td>11.3708 </td>\n        </tr>\n        <tr>\n            <td>Jason Thompson   </td> <td>PF      </td> <td>Golden State Warriors</td> <td>7.00847 </td>\n        </tr>\n        <tr>\n            <td>Shaun Livingston </td> <td>PG      </td> <td>Golden State Warriors</td> <td>5.54373 </td>\n        </tr>\n        <tr>\n            <td>Harrison Barnes  </td> <td>SF      </td> <td>Golden State Warriors</td> <td>3.8734  </td>\n        </tr>\n        <tr>\n            <td>Marreese Speights</td> <td>C       </td> <td>Golden State Warriors</td> <td>3.815   </td>\n        </tr>\n        <tr>\n            <td>Leandro Barbosa  </td> <td>SG      </td> <td>Golden State Warriors</td> <td>2.5     </td>\n        </tr>\n        <tr>\n            <td>Festus Ezeli     </td> <td>C       </td> <td>Golden State Warriors</td> <td>2.00875 </td>\n        </tr>\n        <tr>\n            <td>Brandon Rush     </td> <td>SF      </td> <td>Golden State Warriors</td> <td>1.27096 </td>\n        </tr>\n        <tr>\n            <td>Kevon Looney     </td> <td>SF      </td> <td>Golden State Warriors</td> <td>1.13196 </td>\n        </tr>\n        <tr>\n            <td>Anderson Varejao </td> <td>PF      </td> <td>Golden State Warriors</td> <td>0.289755</td>\n        </tr>\n    </tbody>\n</table>"
     },
     "metadata": {}
    }
   ],
   "source": [
    "nba.where('TEAM', are.containing('Warriors')).show()"
   ]
  },
  {
   "source": [
    "## reading data from online"
   ],
   "cell_type": "markdown",
   "metadata": {}
  },
  {
   "cell_type": "code",
   "execution_count": 69,
   "metadata": {},
   "outputs": [
    {
     "output_type": "execute_result",
     "data": {
      "text/plain": "SEX  | AGE  | CENSUS2010POP | ESTIMATESBASE2010 | POPESTIMATE2010 | POPESTIMATE2011 | POPESTIMATE2012 | POPESTIMATE2013 | POPESTIMATE2014 | POPESTIMATE2015\n0    | 0    | 3944153       | 3944160           | 3951330         | 3963087         | 3926540         | 3931141         | 3949775         | 3978038\n0    | 1    | 3978070       | 3978090           | 3957888         | 3966551         | 3977939         | 3942872         | 3949776         | 3968564\n0    | 2    | 4096929       | 4096939           | 4090862         | 3971565         | 3980095         | 3992720         | 3959664         | 3966583\n0    | 3    | 4119040       | 4119051           | 4111920         | 4102470         | 3983157         | 3992734         | 4007079         | 3974061\n0    | 4    | 4063170       | 4063186           | 4077551         | 4122294         | 4112849         | 3994449         | 4005716         | 4020035\n0    | 5    | 4056858       | 4056872           | 4064653         | 4087709         | 4132242         | 4123626         | 4006900         | 4018158\n0    | 6    | 4066381       | 4066412           | 4073013         | 4074993         | 4097605         | 4142916         | 4135930         | 4019207\n0    | 7    | 4030579       | 4030594           | 4043046         | 4083225         | 4084913         | 4108349         | 4155326         | 4148360\n0    | 8    | 4046486       | 4046497           | 4025604         | 4053203         | 4093177         | 4095711         | 4120903         | 4167887\n0    | 9    | 4148353       | 4148369           | 4125415         | 4035710         | 4063152         | 4104072         | 4108349         | 4133564\n... (296 rows omitted)",
      "text/html": "<table border=\"1\" class=\"dataframe\">\n    <thead>\n        <tr>\n            <th>SEX</th> <th>AGE</th> <th>CENSUS2010POP</th> <th>ESTIMATESBASE2010</th> <th>POPESTIMATE2010</th> <th>POPESTIMATE2011</th> <th>POPESTIMATE2012</th> <th>POPESTIMATE2013</th> <th>POPESTIMATE2014</th> <th>POPESTIMATE2015</th>\n        </tr>\n    </thead>\n    <tbody>\n        <tr>\n            <td>0   </td> <td>0   </td> <td>3944153      </td> <td>3944160          </td> <td>3951330        </td> <td>3963087        </td> <td>3926540        </td> <td>3931141        </td> <td>3949775        </td> <td>3978038        </td>\n        </tr>\n        <tr>\n            <td>0   </td> <td>1   </td> <td>3978070      </td> <td>3978090          </td> <td>3957888        </td> <td>3966551        </td> <td>3977939        </td> <td>3942872        </td> <td>3949776        </td> <td>3968564        </td>\n        </tr>\n        <tr>\n            <td>0   </td> <td>2   </td> <td>4096929      </td> <td>4096939          </td> <td>4090862        </td> <td>3971565        </td> <td>3980095        </td> <td>3992720        </td> <td>3959664        </td> <td>3966583        </td>\n        </tr>\n        <tr>\n            <td>0   </td> <td>3   </td> <td>4119040      </td> <td>4119051          </td> <td>4111920        </td> <td>4102470        </td> <td>3983157        </td> <td>3992734        </td> <td>4007079        </td> <td>3974061        </td>\n        </tr>\n        <tr>\n            <td>0   </td> <td>4   </td> <td>4063170      </td> <td>4063186          </td> <td>4077551        </td> <td>4122294        </td> <td>4112849        </td> <td>3994449        </td> <td>4005716        </td> <td>4020035        </td>\n        </tr>\n        <tr>\n            <td>0   </td> <td>5   </td> <td>4056858      </td> <td>4056872          </td> <td>4064653        </td> <td>4087709        </td> <td>4132242        </td> <td>4123626        </td> <td>4006900        </td> <td>4018158        </td>\n        </tr>\n        <tr>\n            <td>0   </td> <td>6   </td> <td>4066381      </td> <td>4066412          </td> <td>4073013        </td> <td>4074993        </td> <td>4097605        </td> <td>4142916        </td> <td>4135930        </td> <td>4019207        </td>\n        </tr>\n        <tr>\n            <td>0   </td> <td>7   </td> <td>4030579      </td> <td>4030594          </td> <td>4043046        </td> <td>4083225        </td> <td>4084913        </td> <td>4108349        </td> <td>4155326        </td> <td>4148360        </td>\n        </tr>\n        <tr>\n            <td>0   </td> <td>8   </td> <td>4046486      </td> <td>4046497          </td> <td>4025604        </td> <td>4053203        </td> <td>4093177        </td> <td>4095711        </td> <td>4120903        </td> <td>4167887        </td>\n        </tr>\n        <tr>\n            <td>0   </td> <td>9   </td> <td>4148353      </td> <td>4148369          </td> <td>4125415        </td> <td>4035710        </td> <td>4063152        </td> <td>4104072        </td> <td>4108349        </td> <td>4133564        </td>\n        </tr>\n    </tbody>\n</table>\n<p>... (296 rows omitted)</p>"
     },
     "metadata": {},
     "execution_count": 69
    }
   ],
   "source": [
    "# As of Jan 2017, this census file is online here: \n",
    "data = 'http://www2.census.gov/programs-surveys/popest/datasets/2010-2015/national/asrh/nc-est2015-agesex-res.csv'\n",
    "\n",
    "# A local copy can be accessed here in case census.gov moves the file:\n",
    "# data = path_data + 'nc-est2015-agesex-res.csv'\n",
    "\n",
    "full_census_table = Table.read_table(data)\n",
    "full_census_table"
   ]
  },
  {
   "source": [
    "in the above table, let us create a new column to record the percentage change in population between 2010 and 2015."
   ],
   "cell_type": "markdown",
   "metadata": {}
  },
  {
   "cell_type": "code",
   "execution_count": 81,
   "metadata": {},
   "outputs": [
    {
     "output_type": "execute_result",
     "data": {
      "text/plain": "SEX  | AGE  | 2010    | 2015    | change  | percent change\n0    | 0    | 3951330 | 3978038 | 26708   | 0.68%\n0    | 1    | 3957888 | 3968564 | 10676   | 0.27%\n0    | 2    | 4090862 | 3966583 | -124279 | -3.04%\n0    | 3    | 4111920 | 3974061 | -137859 | -3.35%\n0    | 4    | 4077551 | 4020035 | -57516  | -1.41%\n0    | 5    | 4064653 | 4018158 | -46495  | -1.14%\n0    | 6    | 4073013 | 4019207 | -53806  | -1.32%\n0    | 7    | 4043046 | 4148360 | 105314  | 2.60%\n0    | 8    | 4025604 | 4167887 | 142283  | 3.53%\n0    | 9    | 4125415 | 4133564 | 8149    | 0.20%\n... (296 rows omitted)",
      "text/html": "<table border=\"1\" class=\"dataframe\">\n    <thead>\n        <tr>\n            <th>SEX</th> <th>AGE</th> <th>2010</th> <th>2015</th> <th>change</th> <th>percent change</th>\n        </tr>\n    </thead>\n    <tbody>\n        <tr>\n            <td>0   </td> <td>0   </td> <td>3951330</td> <td>3978038</td> <td>26708  </td> <td>0.68%         </td>\n        </tr>\n        <tr>\n            <td>0   </td> <td>1   </td> <td>3957888</td> <td>3968564</td> <td>10676  </td> <td>0.27%         </td>\n        </tr>\n        <tr>\n            <td>0   </td> <td>2   </td> <td>4090862</td> <td>3966583</td> <td>-124279</td> <td>-3.04%        </td>\n        </tr>\n        <tr>\n            <td>0   </td> <td>3   </td> <td>4111920</td> <td>3974061</td> <td>-137859</td> <td>-3.35%        </td>\n        </tr>\n        <tr>\n            <td>0   </td> <td>4   </td> <td>4077551</td> <td>4020035</td> <td>-57516 </td> <td>-1.41%        </td>\n        </tr>\n        <tr>\n            <td>0   </td> <td>5   </td> <td>4064653</td> <td>4018158</td> <td>-46495 </td> <td>-1.14%        </td>\n        </tr>\n        <tr>\n            <td>0   </td> <td>6   </td> <td>4073013</td> <td>4019207</td> <td>-53806 </td> <td>-1.32%        </td>\n        </tr>\n        <tr>\n            <td>0   </td> <td>7   </td> <td>4043046</td> <td>4148360</td> <td>105314 </td> <td>2.60%         </td>\n        </tr>\n        <tr>\n            <td>0   </td> <td>8   </td> <td>4025604</td> <td>4167887</td> <td>142283 </td> <td>3.53%         </td>\n        </tr>\n        <tr>\n            <td>0   </td> <td>9   </td> <td>4125415</td> <td>4133564</td> <td>8149   </td> <td>0.20%         </td>\n        </tr>\n    </tbody>\n</table>\n<p>... (296 rows omitted)</p>"
     },
     "metadata": {},
     "execution_count": 81
    }
   ],
   "source": [
    "#first create a smaller table\n",
    "partial_table = full_census_table.select('SEX','AGE','POPESTIMATE2010', 'POPESTIMATE2015')\n",
    "# partial_table\n",
    "\n",
    "#RENAME\n",
    "partial_table = partial_table.relabeled('POPESTIMATE2010', '2010').relabeled('POPESTIMATE2015', '2015')\n",
    "# partial_table\n",
    "# now let us see the change\n",
    "change = partial_table.column('2015')- partial_table.column('2010')\n",
    "\n",
    "#now add to the file\n",
    "us_pop = partial_table.with_columns('change',change,\n",
    "    'percent change', change/partial_table.column('2010'))\n",
    "us_pop.set_format('percent change', PercentFormatter)\n",
    "us_pop"
   ]
  },
  {
   "cell_type": "code",
   "execution_count": 83,
   "metadata": {},
   "outputs": [
    {
     "output_type": "execute_result",
     "data": {
      "text/plain": "SEX  | AGE  | 2010    | 2015    | change  | percent change\n0    | 0    | 3951330 | 3978038 | 26708   | 0.68%\n0    | 1    | 3957888 | 3968564 | 10676   | 0.27%\n0    | 2    | 4090862 | 3966583 | -124279 | -3.04%\n0    | 3    | 4111920 | 3974061 | -137859 | -3.35%\n0    | 4    | 4077551 | 4020035 | -57516  | -1.41%\n0    | 5    | 4064653 | 4018158 | -46495  | -1.14%\n0    | 6    | 4073013 | 4019207 | -53806  | -1.32%\n0    | 7    | 4043046 | 4148360 | 105314  | 2.60%\n0    | 8    | 4025604 | 4167887 | 142283  | 3.53%\n0    | 9    | 4125415 | 4133564 | 8149    | 0.20%\n... (296 rows omitted)",
      "text/html": "<table border=\"1\" class=\"dataframe\">\n    <thead>\n        <tr>\n            <th>SEX</th> <th>AGE</th> <th>2010</th> <th>2015</th> <th>change</th> <th>percent change</th>\n        </tr>\n    </thead>\n    <tbody>\n        <tr>\n            <td>0   </td> <td>0   </td> <td>3951330</td> <td>3978038</td> <td>26708  </td> <td>0.68%         </td>\n        </tr>\n        <tr>\n            <td>0   </td> <td>1   </td> <td>3957888</td> <td>3968564</td> <td>10676  </td> <td>0.27%         </td>\n        </tr>\n        <tr>\n            <td>0   </td> <td>2   </td> <td>4090862</td> <td>3966583</td> <td>-124279</td> <td>-3.04%        </td>\n        </tr>\n        <tr>\n            <td>0   </td> <td>3   </td> <td>4111920</td> <td>3974061</td> <td>-137859</td> <td>-3.35%        </td>\n        </tr>\n        <tr>\n            <td>0   </td> <td>4   </td> <td>4077551</td> <td>4020035</td> <td>-57516 </td> <td>-1.41%        </td>\n        </tr>\n        <tr>\n            <td>0   </td> <td>5   </td> <td>4064653</td> <td>4018158</td> <td>-46495 </td> <td>-1.14%        </td>\n        </tr>\n        <tr>\n            <td>0   </td> <td>6   </td> <td>4073013</td> <td>4019207</td> <td>-53806 </td> <td>-1.32%        </td>\n        </tr>\n        <tr>\n            <td>0   </td> <td>7   </td> <td>4043046</td> <td>4148360</td> <td>105314 </td> <td>2.60%         </td>\n        </tr>\n        <tr>\n            <td>0   </td> <td>8   </td> <td>4025604</td> <td>4167887</td> <td>142283 </td> <td>3.53%         </td>\n        </tr>\n        <tr>\n            <td>0   </td> <td>9   </td> <td>4125415</td> <td>4133564</td> <td>8149   </td> <td>0.20%         </td>\n        </tr>\n    </tbody>\n</table>\n<p>... (296 rows omitted)</p>"
     },
     "metadata": {},
     "execution_count": 83
    }
   ],
   "source": [
    "# let us see infants who are 0 years old\n",
    "us_pop"
   ]
  },
  {
   "cell_type": "code",
   "execution_count": 87,
   "metadata": {},
   "outputs": [
    {
     "output_type": "execute_result",
     "data": {
      "text/plain": "SEX  | AGE  | 2015\n0    | 0    | 3978038\n0    | 1    | 3968564\n0    | 2    | 3966583\n0    | 3    | 3974061\n0    | 4    | 4020035\n0    | 5    | 4018158\n0    | 6    | 4019207\n0    | 7    | 4148360\n0    | 8    | 4167887\n0    | 9    | 4133564\n... (296 rows omitted)",
      "text/html": "<table border=\"1\" class=\"dataframe\">\n    <thead>\n        <tr>\n            <th>SEX</th> <th>AGE</th> <th>2015</th>\n        </tr>\n    </thead>\n    <tbody>\n        <tr>\n            <td>0   </td> <td>0   </td> <td>3978038</td>\n        </tr>\n        <tr>\n            <td>0   </td> <td>1   </td> <td>3968564</td>\n        </tr>\n        <tr>\n            <td>0   </td> <td>2   </td> <td>3966583</td>\n        </tr>\n        <tr>\n            <td>0   </td> <td>3   </td> <td>3974061</td>\n        </tr>\n        <tr>\n            <td>0   </td> <td>4   </td> <td>4020035</td>\n        </tr>\n        <tr>\n            <td>0   </td> <td>5   </td> <td>4018158</td>\n        </tr>\n        <tr>\n            <td>0   </td> <td>6   </td> <td>4019207</td>\n        </tr>\n        <tr>\n            <td>0   </td> <td>7   </td> <td>4148360</td>\n        </tr>\n        <tr>\n            <td>0   </td> <td>8   </td> <td>4167887</td>\n        </tr>\n        <tr>\n            <td>0   </td> <td>9   </td> <td>4133564</td>\n        </tr>\n    </tbody>\n</table>\n<p>... (296 rows omitted)</p>"
     },
     "metadata": {},
     "execution_count": 87
    }
   ],
   "source": [
    "us_pop_2015 = us_pop.drop('2010', 'change', 'percent change')\n",
    "us_pop_2015"
   ]
  },
  {
   "cell_type": "code",
   "execution_count": 88,
   "metadata": {},
   "outputs": [
    {
     "output_type": "execute_result",
     "data": {
      "text/plain": "SEX  | AGE  | 2015\n0    | 0    | 3978038\n1    | 0    | 2035134\n2    | 0    | 1942904",
      "text/html": "<table border=\"1\" class=\"dataframe\">\n    <thead>\n        <tr>\n            <th>SEX</th> <th>AGE</th> <th>2015</th>\n        </tr>\n    </thead>\n    <tbody>\n        <tr>\n            <td>0   </td> <td>0   </td> <td>3978038</td>\n        </tr>\n        <tr>\n            <td>1   </td> <td>0   </td> <td>2035134</td>\n        </tr>\n        <tr>\n            <td>2   </td> <td>0   </td> <td>1942904</td>\n        </tr>\n    </tbody>\n</table>"
     },
     "metadata": {},
     "execution_count": 88
    }
   ],
   "source": [
    "infants = us_pop_2015.where('AGE', 0)\n",
    "infants"
   ]
  },
  {
   "cell_type": "code",
   "execution_count": 94,
   "metadata": {},
   "outputs": [
    {
     "output_type": "execute_result",
     "data": {
      "text/plain": "SEX  | AGE  | 2015    | percent\n0    | 0    | 3978038 | 100.00%\n1    | 0    | 2035134 | 51.16%\n2    | 0    | 1942904 | 48.84%",
      "text/html": "<table border=\"1\" class=\"dataframe\">\n    <thead>\n        <tr>\n            <th>SEX</th> <th>AGE</th> <th>2015</th> <th>percent</th>\n        </tr>\n    </thead>\n    <tbody>\n        <tr>\n            <td>0   </td> <td>0   </td> <td>3978038</td> <td>100.00%</td>\n        </tr>\n        <tr>\n            <td>1   </td> <td>0   </td> <td>2035134</td> <td>51.16% </td>\n        </tr>\n        <tr>\n            <td>2   </td> <td>0   </td> <td>1942904</td> <td>48.84% </td>\n        </tr>\n    </tbody>\n</table>"
     },
     "metadata": {},
     "execution_count": 94
    }
   ],
   "source": [
    "tot_infants = infants.column('2015').item(0)\n",
    "infants.with_columns('percent', infants.column('2015')/tot_infants).set_format('percent',PercentFormatter)"
   ]
  },
  {
   "source": [
    "Let us find all female, and then male who are not age 999 group"
   ],
   "cell_type": "markdown",
   "metadata": {}
  },
  {
   "cell_type": "code",
   "execution_count": 107,
   "metadata": {},
   "outputs": [],
   "source": [
    "female = us_pop_2015.where('SEX', 2).where('AGE', are.not_equal_to(999))\n",
    "males = us_pop_2015.where('SEX', 1).where('AGE', are.not_equal_to(999))"
   ]
  },
  {
   "source": [
    "now we will create a new Table with the ratio of the female to male"
   ],
   "cell_type": "markdown",
   "metadata": {}
  },
  {
   "cell_type": "code",
   "execution_count": 109,
   "metadata": {},
   "outputs": [
    {
     "output_type": "execute_result",
     "data": {
      "text/plain": "SEX  | AGE  | 2015\n1    | 0    | 2035134\n1    | 1    | 2029295\n1    | 2    | 2026604\n1    | 3    | 2030644\n1    | 4    | 2055924\n1    | 5    | 2050848\n1    | 6    | 2050663\n1    | 7    | 2117118\n1    | 8    | 2128825\n1    | 9    | 2111678\n... (91 rows omitted)",
      "text/html": "<table border=\"1\" class=\"dataframe\">\n    <thead>\n        <tr>\n            <th>SEX</th> <th>AGE</th> <th>2015</th>\n        </tr>\n    </thead>\n    <tbody>\n        <tr>\n            <td>1   </td> <td>0   </td> <td>2035134</td>\n        </tr>\n        <tr>\n            <td>1   </td> <td>1   </td> <td>2029295</td>\n        </tr>\n        <tr>\n            <td>1   </td> <td>2   </td> <td>2026604</td>\n        </tr>\n        <tr>\n            <td>1   </td> <td>3   </td> <td>2030644</td>\n        </tr>\n        <tr>\n            <td>1   </td> <td>4   </td> <td>2055924</td>\n        </tr>\n        <tr>\n            <td>1   </td> <td>5   </td> <td>2050848</td>\n        </tr>\n        <tr>\n            <td>1   </td> <td>6   </td> <td>2050663</td>\n        </tr>\n        <tr>\n            <td>1   </td> <td>7   </td> <td>2117118</td>\n        </tr>\n        <tr>\n            <td>1   </td> <td>8   </td> <td>2128825</td>\n        </tr>\n        <tr>\n            <td>1   </td> <td>9   </td> <td>2111678</td>\n        </tr>\n    </tbody>\n</table>\n<p>... (91 rows omitted)</p>"
     },
     "metadata": {},
     "execution_count": 109
    }
   ],
   "source": [
    "males"
   ]
  },
  {
   "cell_type": "code",
   "execution_count": 110,
   "metadata": {},
   "outputs": [
    {
     "output_type": "execute_result",
     "data": {
      "text/plain": "SEX  | AGE  | 2015\n2    | 0    | 1942904\n2    | 1    | 1939269\n2    | 2    | 1939979\n2    | 3    | 1943417\n2    | 4    | 1964111\n2    | 5    | 1967310\n2    | 6    | 1968544\n2    | 7    | 2031242\n2    | 8    | 2039062\n2    | 9    | 2021886\n... (91 rows omitted)",
      "text/html": "<table border=\"1\" class=\"dataframe\">\n    <thead>\n        <tr>\n            <th>SEX</th> <th>AGE</th> <th>2015</th>\n        </tr>\n    </thead>\n    <tbody>\n        <tr>\n            <td>2   </td> <td>0   </td> <td>1942904</td>\n        </tr>\n        <tr>\n            <td>2   </td> <td>1   </td> <td>1939269</td>\n        </tr>\n        <tr>\n            <td>2   </td> <td>2   </td> <td>1939979</td>\n        </tr>\n        <tr>\n            <td>2   </td> <td>3   </td> <td>1943417</td>\n        </tr>\n        <tr>\n            <td>2   </td> <td>4   </td> <td>1964111</td>\n        </tr>\n        <tr>\n            <td>2   </td> <td>5   </td> <td>1967310</td>\n        </tr>\n        <tr>\n            <td>2   </td> <td>6   </td> <td>1968544</td>\n        </tr>\n        <tr>\n            <td>2   </td> <td>7   </td> <td>2031242</td>\n        </tr>\n        <tr>\n            <td>2   </td> <td>8   </td> <td>2039062</td>\n        </tr>\n        <tr>\n            <td>2   </td> <td>9   </td> <td>2021886</td>\n        </tr>\n    </tbody>\n</table>\n<p>... (91 rows omitted)</p>"
     },
     "metadata": {},
     "execution_count": 110
    }
   ],
   "source": [
    "female"
   ]
  },
  {
   "cell_type": "code",
   "execution_count": null,
   "metadata": {},
   "outputs": [],
   "source": [
    "males"
   ]
  },
  {
   "cell_type": "code",
   "execution_count": 111,
   "metadata": {},
   "outputs": [
    {
     "output_type": "execute_result",
     "data": {
      "text/plain": "AGE  | RATIO\n0    | 0.954681\n1    | 0.955637\n2    | 0.957256\n3    | 0.957045\n4    | 0.955342\n5    | 0.959267\n6    | 0.959955\n7    | 0.959437\n8    | 0.957834\n9    | 0.957478\n... (91 rows omitted)",
      "text/html": "<table border=\"1\" class=\"dataframe\">\n    <thead>\n        <tr>\n            <th>AGE</th> <th>RATIO</th>\n        </tr>\n    </thead>\n    <tbody>\n        <tr>\n            <td>0   </td> <td>0.954681</td>\n        </tr>\n        <tr>\n            <td>1   </td> <td>0.955637</td>\n        </tr>\n        <tr>\n            <td>2   </td> <td>0.957256</td>\n        </tr>\n        <tr>\n            <td>3   </td> <td>0.957045</td>\n        </tr>\n        <tr>\n            <td>4   </td> <td>0.955342</td>\n        </tr>\n        <tr>\n            <td>5   </td> <td>0.959267</td>\n        </tr>\n        <tr>\n            <td>6   </td> <td>0.959955</td>\n        </tr>\n        <tr>\n            <td>7   </td> <td>0.959437</td>\n        </tr>\n        <tr>\n            <td>8   </td> <td>0.957834</td>\n        </tr>\n        <tr>\n            <td>9   </td> <td>0.957478</td>\n        </tr>\n    </tbody>\n</table>\n<p>... (91 rows omitted)</p>"
     },
     "metadata": {},
     "execution_count": 111
    }
   ],
   "source": [
    "ratio = Table().with_columns(\n",
    "    'AGE', female.column('AGE'),\n",
    "    'RATIO', female.column('2015')/males.column('2015')\n",
    ")\n",
    "ratio"
   ]
  },
  {
   "cell_type": "code",
   "execution_count": 112,
   "metadata": {},
   "outputs": [
    {
     "output_type": "execute_result",
     "data": {
      "text/plain": "AGE  | RATIO\n71   | 1.15581\n72   | 1.16508\n73   | 1.18174\n74   | 1.20486\n75   | 1.21757\n76   | 1.22268\n77   | 1.24979\n78   | 1.27447\n79   | 1.30076\n80   | 1.33674\n... (20 rows omitted)",
      "text/html": "<table border=\"1\" class=\"dataframe\">\n    <thead>\n        <tr>\n            <th>AGE</th> <th>RATIO</th>\n        </tr>\n    </thead>\n    <tbody>\n        <tr>\n            <td>71  </td> <td>1.15581</td>\n        </tr>\n        <tr>\n            <td>72  </td> <td>1.16508</td>\n        </tr>\n        <tr>\n            <td>73  </td> <td>1.18174</td>\n        </tr>\n        <tr>\n            <td>74  </td> <td>1.20486</td>\n        </tr>\n        <tr>\n            <td>75  </td> <td>1.21757</td>\n        </tr>\n        <tr>\n            <td>76  </td> <td>1.22268</td>\n        </tr>\n        <tr>\n            <td>77  </td> <td>1.24979</td>\n        </tr>\n        <tr>\n            <td>78  </td> <td>1.27447</td>\n        </tr>\n        <tr>\n            <td>79  </td> <td>1.30076</td>\n        </tr>\n        <tr>\n            <td>80  </td> <td>1.33674</td>\n        </tr>\n    </tbody>\n</table>\n<p>... (20 rows omitted)</p>"
     },
     "metadata": {},
     "execution_count": 112
    }
   ],
   "source": [
    "ratio.where('AGE', are.above(70))"
   ]
  },
  {
   "cell_type": "code",
   "execution_count": 113,
   "metadata": {},
   "outputs": [
    {
     "output_type": "display_data",
     "data": {
      "text/plain": "<Figure size 432x288 with 1 Axes>",
      "image/svg+xml": "<?xml version=\"1.0\" encoding=\"utf-8\" standalone=\"no\"?>\n<!DOCTYPE svg PUBLIC \"-//W3C//DTD SVG 1.1//EN\"\n  \"http://www.w3.org/Graphics/SVG/1.1/DTD/svg11.dtd\">\n<!-- Created with matplotlib (https://matplotlib.org/) -->\n<svg height=\"284.214375pt\" version=\"1.1\" viewBox=\"0 0 435.489375 284.214375\" width=\"435.489375pt\" xmlns=\"http://www.w3.org/2000/svg\" xmlns:xlink=\"http://www.w3.org/1999/xlink\">\n <metadata>\n  <rdf:RDF xmlns:cc=\"http://creativecommons.org/ns#\" xmlns:dc=\"http://purl.org/dc/elements/1.1/\" xmlns:rdf=\"http://www.w3.org/1999/02/22-rdf-syntax-ns#\">\n   <cc:Work>\n    <dc:type rdf:resource=\"http://purl.org/dc/dcmitype/StillImage\"/>\n    <dc:date>2020-09-22T16:57:34.159431</dc:date>\n    <dc:format>image/svg+xml</dc:format>\n    <dc:creator>\n     <cc:Agent>\n      <dc:title>Matplotlib v3.3.1, https://matplotlib.org/</dc:title>\n     </cc:Agent>\n    </dc:creator>\n   </cc:Work>\n  </rdf:RDF>\n </metadata>\n <defs>\n  <style type=\"text/css\">*{stroke-linecap:butt;stroke-linejoin:round;}</style>\n </defs>\n <g id=\"figure_1\">\n  <g id=\"patch_1\">\n   <path d=\"M 0 284.214375 \nL 435.489375 284.214375 \nL 435.489375 0 \nL 0 0 \nz\n\" style=\"fill:#f0f0f0;\"/>\n  </g>\n  <g id=\"axes_1\">\n   <g id=\"patch_2\">\n    <path d=\"M 52.449375 240.48 \nL 428.289375 240.48 \nL 428.289375 7.2 \nL 52.449375 7.2 \nz\n\" style=\"fill:#f0f0f0;\"/>\n   </g>\n   <g id=\"matplotlib.axis_1\">\n    <g id=\"xtick_1\">\n     <g id=\"line2d_1\">\n      <path clip-path=\"url(#p707d967fd7)\" d=\"M 69.533011 240.48 \nL 69.533011 7.2 \n\" style=\"fill:none;stroke:#cbcbcb;\"/>\n     </g>\n     <g id=\"line2d_2\"/>\n     <g id=\"text_1\">\n      <!-- 0 -->\n      <g transform=\"translate(65.079261 254.617813)scale(0.14 -0.14)\">\n       <defs>\n        <path d=\"M 31.78125 66.40625 \nQ 24.171875 66.40625 20.328125 58.90625 \nQ 16.5 51.421875 16.5 36.375 \nQ 16.5 21.390625 20.328125 13.890625 \nQ 24.171875 6.390625 31.78125 6.390625 \nQ 39.453125 6.390625 43.28125 13.890625 \nQ 47.125 21.390625 47.125 36.375 \nQ 47.125 51.421875 43.28125 58.90625 \nQ 39.453125 66.40625 31.78125 66.40625 \nz\nM 31.78125 74.21875 \nQ 44.046875 74.21875 50.515625 64.515625 \nQ 56.984375 54.828125 56.984375 36.375 \nQ 56.984375 17.96875 50.515625 8.265625 \nQ 44.046875 -1.421875 31.78125 -1.421875 \nQ 19.53125 -1.421875 13.0625 8.265625 \nQ 6.59375 17.96875 6.59375 36.375 \nQ 6.59375 54.828125 13.0625 64.515625 \nQ 19.53125 74.21875 31.78125 74.21875 \nz\n\" id=\"DejaVuSans-48\"/>\n       </defs>\n       <use xlink:href=\"#DejaVuSans-48\"/>\n      </g>\n     </g>\n    </g>\n    <g id=\"xtick_2\">\n     <g id=\"line2d_3\">\n      <path clip-path=\"url(#p707d967fd7)\" d=\"M 137.867557 240.48 \nL 137.867557 7.2 \n\" style=\"fill:none;stroke:#cbcbcb;\"/>\n     </g>\n     <g id=\"line2d_4\"/>\n     <g id=\"text_2\">\n      <!-- 20 -->\n      <g transform=\"translate(128.960057 254.617813)scale(0.14 -0.14)\">\n       <defs>\n        <path d=\"M 19.1875 8.296875 \nL 53.609375 8.296875 \nL 53.609375 0 \nL 7.328125 0 \nL 7.328125 8.296875 \nQ 12.9375 14.109375 22.625 23.890625 \nQ 32.328125 33.6875 34.8125 36.53125 \nQ 39.546875 41.84375 41.421875 45.53125 \nQ 43.3125 49.21875 43.3125 52.78125 \nQ 43.3125 58.59375 39.234375 62.25 \nQ 35.15625 65.921875 28.609375 65.921875 \nQ 23.96875 65.921875 18.8125 64.3125 \nQ 13.671875 62.703125 7.8125 59.421875 \nL 7.8125 69.390625 \nQ 13.765625 71.78125 18.9375 73 \nQ 24.125 74.21875 28.421875 74.21875 \nQ 39.75 74.21875 46.484375 68.546875 \nQ 53.21875 62.890625 53.21875 53.421875 \nQ 53.21875 48.921875 51.53125 44.890625 \nQ 49.859375 40.875 45.40625 35.40625 \nQ 44.1875 33.984375 37.640625 27.21875 \nQ 31.109375 20.453125 19.1875 8.296875 \nz\n\" id=\"DejaVuSans-50\"/>\n       </defs>\n       <use xlink:href=\"#DejaVuSans-50\"/>\n       <use x=\"63.623047\" xlink:href=\"#DejaVuSans-48\"/>\n      </g>\n     </g>\n    </g>\n    <g id=\"xtick_3\">\n     <g id=\"line2d_5\">\n      <path clip-path=\"url(#p707d967fd7)\" d=\"M 206.202102 240.48 \nL 206.202102 7.2 \n\" style=\"fill:none;stroke:#cbcbcb;\"/>\n     </g>\n     <g id=\"line2d_6\"/>\n     <g id=\"text_3\">\n      <!-- 40 -->\n      <g transform=\"translate(197.294602 254.617813)scale(0.14 -0.14)\">\n       <defs>\n        <path d=\"M 37.796875 64.3125 \nL 12.890625 25.390625 \nL 37.796875 25.390625 \nz\nM 35.203125 72.90625 \nL 47.609375 72.90625 \nL 47.609375 25.390625 \nL 58.015625 25.390625 \nL 58.015625 17.1875 \nL 47.609375 17.1875 \nL 47.609375 0 \nL 37.796875 0 \nL 37.796875 17.1875 \nL 4.890625 17.1875 \nL 4.890625 26.703125 \nz\n\" id=\"DejaVuSans-52\"/>\n       </defs>\n       <use xlink:href=\"#DejaVuSans-52\"/>\n       <use x=\"63.623047\" xlink:href=\"#DejaVuSans-48\"/>\n      </g>\n     </g>\n    </g>\n    <g id=\"xtick_4\">\n     <g id=\"line2d_7\">\n      <path clip-path=\"url(#p707d967fd7)\" d=\"M 274.536648 240.48 \nL 274.536648 7.2 \n\" style=\"fill:none;stroke:#cbcbcb;\"/>\n     </g>\n     <g id=\"line2d_8\"/>\n     <g id=\"text_4\">\n      <!-- 60 -->\n      <g transform=\"translate(265.629148 254.617813)scale(0.14 -0.14)\">\n       <defs>\n        <path d=\"M 33.015625 40.375 \nQ 26.375 40.375 22.484375 35.828125 \nQ 18.609375 31.296875 18.609375 23.390625 \nQ 18.609375 15.53125 22.484375 10.953125 \nQ 26.375 6.390625 33.015625 6.390625 \nQ 39.65625 6.390625 43.53125 10.953125 \nQ 47.40625 15.53125 47.40625 23.390625 \nQ 47.40625 31.296875 43.53125 35.828125 \nQ 39.65625 40.375 33.015625 40.375 \nz\nM 52.59375 71.296875 \nL 52.59375 62.3125 \nQ 48.875 64.0625 45.09375 64.984375 \nQ 41.3125 65.921875 37.59375 65.921875 \nQ 27.828125 65.921875 22.671875 59.328125 \nQ 17.53125 52.734375 16.796875 39.40625 \nQ 19.671875 43.65625 24.015625 45.921875 \nQ 28.375 48.1875 33.59375 48.1875 \nQ 44.578125 48.1875 50.953125 41.515625 \nQ 57.328125 34.859375 57.328125 23.390625 \nQ 57.328125 12.15625 50.6875 5.359375 \nQ 44.046875 -1.421875 33.015625 -1.421875 \nQ 20.359375 -1.421875 13.671875 8.265625 \nQ 6.984375 17.96875 6.984375 36.375 \nQ 6.984375 53.65625 15.1875 63.9375 \nQ 23.390625 74.21875 37.203125 74.21875 \nQ 40.921875 74.21875 44.703125 73.484375 \nQ 48.484375 72.75 52.59375 71.296875 \nz\n\" id=\"DejaVuSans-54\"/>\n       </defs>\n       <use xlink:href=\"#DejaVuSans-54\"/>\n       <use x=\"63.623047\" xlink:href=\"#DejaVuSans-48\"/>\n      </g>\n     </g>\n    </g>\n    <g id=\"xtick_5\">\n     <g id=\"line2d_9\">\n      <path clip-path=\"url(#p707d967fd7)\" d=\"M 342.871193 240.48 \nL 342.871193 7.2 \n\" style=\"fill:none;stroke:#cbcbcb;\"/>\n     </g>\n     <g id=\"line2d_10\"/>\n     <g id=\"text_5\">\n      <!-- 80 -->\n      <g transform=\"translate(333.963693 254.617813)scale(0.14 -0.14)\">\n       <defs>\n        <path d=\"M 31.78125 34.625 \nQ 24.75 34.625 20.71875 30.859375 \nQ 16.703125 27.09375 16.703125 20.515625 \nQ 16.703125 13.921875 20.71875 10.15625 \nQ 24.75 6.390625 31.78125 6.390625 \nQ 38.8125 6.390625 42.859375 10.171875 \nQ 46.921875 13.96875 46.921875 20.515625 \nQ 46.921875 27.09375 42.890625 30.859375 \nQ 38.875 34.625 31.78125 34.625 \nz\nM 21.921875 38.8125 \nQ 15.578125 40.375 12.03125 44.71875 \nQ 8.5 49.078125 8.5 55.328125 \nQ 8.5 64.0625 14.71875 69.140625 \nQ 20.953125 74.21875 31.78125 74.21875 \nQ 42.671875 74.21875 48.875 69.140625 \nQ 55.078125 64.0625 55.078125 55.328125 \nQ 55.078125 49.078125 51.53125 44.71875 \nQ 48 40.375 41.703125 38.8125 \nQ 48.828125 37.15625 52.796875 32.3125 \nQ 56.78125 27.484375 56.78125 20.515625 \nQ 56.78125 9.90625 50.3125 4.234375 \nQ 43.84375 -1.421875 31.78125 -1.421875 \nQ 19.734375 -1.421875 13.25 4.234375 \nQ 6.78125 9.90625 6.78125 20.515625 \nQ 6.78125 27.484375 10.78125 32.3125 \nQ 14.796875 37.15625 21.921875 38.8125 \nz\nM 18.3125 54.390625 \nQ 18.3125 48.734375 21.84375 45.5625 \nQ 25.390625 42.390625 31.78125 42.390625 \nQ 38.140625 42.390625 41.71875 45.5625 \nQ 45.3125 48.734375 45.3125 54.390625 \nQ 45.3125 60.0625 41.71875 63.234375 \nQ 38.140625 66.40625 31.78125 66.40625 \nQ 25.390625 66.40625 21.84375 63.234375 \nQ 18.3125 60.0625 18.3125 54.390625 \nz\n\" id=\"DejaVuSans-56\"/>\n       </defs>\n       <use xlink:href=\"#DejaVuSans-56\"/>\n       <use x=\"63.623047\" xlink:href=\"#DejaVuSans-48\"/>\n      </g>\n     </g>\n    </g>\n    <g id=\"xtick_6\">\n     <g id=\"line2d_11\">\n      <path clip-path=\"url(#p707d967fd7)\" d=\"M 411.205739 240.48 \nL 411.205739 7.2 \n\" style=\"fill:none;stroke:#cbcbcb;\"/>\n     </g>\n     <g id=\"line2d_12\"/>\n     <g id=\"text_6\">\n      <!-- 100 -->\n      <g transform=\"translate(397.844489 254.617813)scale(0.14 -0.14)\">\n       <defs>\n        <path d=\"M 12.40625 8.296875 \nL 28.515625 8.296875 \nL 28.515625 63.921875 \nL 10.984375 60.40625 \nL 10.984375 69.390625 \nL 28.421875 72.90625 \nL 38.28125 72.90625 \nL 38.28125 8.296875 \nL 54.390625 8.296875 \nL 54.390625 0 \nL 12.40625 0 \nz\n\" id=\"DejaVuSans-49\"/>\n       </defs>\n       <use xlink:href=\"#DejaVuSans-49\"/>\n       <use x=\"63.623047\" xlink:href=\"#DejaVuSans-48\"/>\n       <use x=\"127.246094\" xlink:href=\"#DejaVuSans-48\"/>\n      </g>\n     </g>\n    </g>\n    <g id=\"text_7\">\n     <!-- AGE -->\n     <g transform=\"translate(223.783125 273.686875)scale(0.16 -0.16)\">\n      <defs>\n       <path d=\"M 34.1875 63.1875 \nL 20.796875 26.90625 \nL 47.609375 26.90625 \nz\nM 28.609375 72.90625 \nL 39.796875 72.90625 \nL 67.578125 0 \nL 57.328125 0 \nL 50.6875 18.703125 \nL 17.828125 18.703125 \nL 11.1875 0 \nL 0.78125 0 \nz\n\" id=\"DejaVuSans-65\"/>\n       <path d=\"M 59.515625 10.40625 \nL 59.515625 29.984375 \nL 43.40625 29.984375 \nL 43.40625 38.09375 \nL 69.28125 38.09375 \nL 69.28125 6.78125 \nQ 63.578125 2.734375 56.6875 0.65625 \nQ 49.8125 -1.421875 42 -1.421875 \nQ 24.90625 -1.421875 15.25 8.5625 \nQ 5.609375 18.5625 5.609375 36.375 \nQ 5.609375 54.25 15.25 64.234375 \nQ 24.90625 74.21875 42 74.21875 \nQ 49.125 74.21875 55.546875 72.453125 \nQ 61.96875 70.703125 67.390625 67.28125 \nL 67.390625 56.78125 \nQ 61.921875 61.421875 55.765625 63.765625 \nQ 49.609375 66.109375 42.828125 66.109375 \nQ 29.4375 66.109375 22.71875 58.640625 \nQ 16.015625 51.171875 16.015625 36.375 \nQ 16.015625 21.625 22.71875 14.15625 \nQ 29.4375 6.6875 42.828125 6.6875 \nQ 48.046875 6.6875 52.140625 7.59375 \nQ 56.25 8.5 59.515625 10.40625 \nz\n\" id=\"DejaVuSans-71\"/>\n       <path d=\"M 9.8125 72.90625 \nL 55.90625 72.90625 \nL 55.90625 64.59375 \nL 19.671875 64.59375 \nL 19.671875 43.015625 \nL 54.390625 43.015625 \nL 54.390625 34.71875 \nL 19.671875 34.71875 \nL 19.671875 8.296875 \nL 56.78125 8.296875 \nL 56.78125 0 \nL 9.8125 0 \nz\n\" id=\"DejaVuSans-69\"/>\n      </defs>\n      <use xlink:href=\"#DejaVuSans-65\"/>\n      <use x=\"66.658203\" xlink:href=\"#DejaVuSans-71\"/>\n      <use x=\"144.148438\" xlink:href=\"#DejaVuSans-69\"/>\n     </g>\n    </g>\n   </g>\n   <g id=\"matplotlib.axis_2\">\n    <g id=\"ytick_1\">\n     <g id=\"line2d_13\">\n      <path clip-path=\"url(#p707d967fd7)\" d=\"M 52.449375 226.020743 \nL 428.289375 226.020743 \n\" style=\"fill:none;stroke:#cbcbcb;\"/>\n     </g>\n     <g id=\"line2d_14\"/>\n     <g id=\"text_8\">\n      <!-- 1.0 -->\n      <g transform=\"translate(26.685 231.339649)scale(0.14 -0.14)\">\n       <defs>\n        <path d=\"M 10.6875 12.40625 \nL 21 12.40625 \nL 21 0 \nL 10.6875 0 \nz\n\" id=\"DejaVuSans-46\"/>\n       </defs>\n       <use xlink:href=\"#DejaVuSans-49\"/>\n       <use x=\"63.623047\" xlink:href=\"#DejaVuSans-46\"/>\n       <use x=\"95.410156\" xlink:href=\"#DejaVuSans-48\"/>\n      </g>\n     </g>\n    </g>\n    <g id=\"ytick_2\">\n     <g id=\"line2d_15\">\n      <path clip-path=\"url(#p707d967fd7)\" d=\"M 52.449375 192.455423 \nL 428.289375 192.455423 \n\" style=\"fill:none;stroke:#cbcbcb;\"/>\n     </g>\n     <g id=\"line2d_16\"/>\n     <g id=\"text_9\">\n      <!-- 1.5 -->\n      <g transform=\"translate(26.685 197.774329)scale(0.14 -0.14)\">\n       <defs>\n        <path d=\"M 10.796875 72.90625 \nL 49.515625 72.90625 \nL 49.515625 64.59375 \nL 19.828125 64.59375 \nL 19.828125 46.734375 \nQ 21.96875 47.46875 24.109375 47.828125 \nQ 26.265625 48.1875 28.421875 48.1875 \nQ 40.625 48.1875 47.75 41.5 \nQ 54.890625 34.8125 54.890625 23.390625 \nQ 54.890625 11.625 47.5625 5.09375 \nQ 40.234375 -1.421875 26.90625 -1.421875 \nQ 22.3125 -1.421875 17.546875 -0.640625 \nQ 12.796875 0.140625 7.71875 1.703125 \nL 7.71875 11.625 \nQ 12.109375 9.234375 16.796875 8.0625 \nQ 21.484375 6.890625 26.703125 6.890625 \nQ 35.15625 6.890625 40.078125 11.328125 \nQ 45.015625 15.765625 45.015625 23.390625 \nQ 45.015625 31 40.078125 35.4375 \nQ 35.15625 39.890625 26.703125 39.890625 \nQ 22.75 39.890625 18.8125 39.015625 \nQ 14.890625 38.140625 10.796875 36.28125 \nz\n\" id=\"DejaVuSans-53\"/>\n       </defs>\n       <use xlink:href=\"#DejaVuSans-49\"/>\n       <use x=\"63.623047\" xlink:href=\"#DejaVuSans-46\"/>\n       <use x=\"95.410156\" xlink:href=\"#DejaVuSans-53\"/>\n      </g>\n     </g>\n    </g>\n    <g id=\"ytick_3\">\n     <g id=\"line2d_17\">\n      <path clip-path=\"url(#p707d967fd7)\" d=\"M 52.449375 158.890103 \nL 428.289375 158.890103 \n\" style=\"fill:none;stroke:#cbcbcb;\"/>\n     </g>\n     <g id=\"line2d_18\"/>\n     <g id=\"text_10\">\n      <!-- 2.0 -->\n      <g transform=\"translate(26.685 164.209009)scale(0.14 -0.14)\">\n       <use xlink:href=\"#DejaVuSans-50\"/>\n       <use x=\"63.623047\" xlink:href=\"#DejaVuSans-46\"/>\n       <use x=\"95.410156\" xlink:href=\"#DejaVuSans-48\"/>\n      </g>\n     </g>\n    </g>\n    <g id=\"ytick_4\">\n     <g id=\"line2d_19\">\n      <path clip-path=\"url(#p707d967fd7)\" d=\"M 52.449375 125.324783 \nL 428.289375 125.324783 \n\" style=\"fill:none;stroke:#cbcbcb;\"/>\n     </g>\n     <g id=\"line2d_20\"/>\n     <g id=\"text_11\">\n      <!-- 2.5 -->\n      <g transform=\"translate(26.685 130.643689)scale(0.14 -0.14)\">\n       <use xlink:href=\"#DejaVuSans-50\"/>\n       <use x=\"63.623047\" xlink:href=\"#DejaVuSans-46\"/>\n       <use x=\"95.410156\" xlink:href=\"#DejaVuSans-53\"/>\n      </g>\n     </g>\n    </g>\n    <g id=\"ytick_5\">\n     <g id=\"line2d_21\">\n      <path clip-path=\"url(#p707d967fd7)\" d=\"M 52.449375 91.759462 \nL 428.289375 91.759462 \n\" style=\"fill:none;stroke:#cbcbcb;\"/>\n     </g>\n     <g id=\"line2d_22\"/>\n     <g id=\"text_12\">\n      <!-- 3.0 -->\n      <g transform=\"translate(26.685 97.078369)scale(0.14 -0.14)\">\n       <defs>\n        <path d=\"M 40.578125 39.3125 \nQ 47.65625 37.796875 51.625 33 \nQ 55.609375 28.21875 55.609375 21.1875 \nQ 55.609375 10.40625 48.1875 4.484375 \nQ 40.765625 -1.421875 27.09375 -1.421875 \nQ 22.515625 -1.421875 17.65625 -0.515625 \nQ 12.796875 0.390625 7.625 2.203125 \nL 7.625 11.71875 \nQ 11.71875 9.328125 16.59375 8.109375 \nQ 21.484375 6.890625 26.8125 6.890625 \nQ 36.078125 6.890625 40.9375 10.546875 \nQ 45.796875 14.203125 45.796875 21.1875 \nQ 45.796875 27.640625 41.28125 31.265625 \nQ 36.765625 34.90625 28.71875 34.90625 \nL 20.21875 34.90625 \nL 20.21875 43.015625 \nL 29.109375 43.015625 \nQ 36.375 43.015625 40.234375 45.921875 \nQ 44.09375 48.828125 44.09375 54.296875 \nQ 44.09375 59.90625 40.109375 62.90625 \nQ 36.140625 65.921875 28.71875 65.921875 \nQ 24.65625 65.921875 20.015625 65.03125 \nQ 15.375 64.15625 9.8125 62.3125 \nL 9.8125 71.09375 \nQ 15.4375 72.65625 20.34375 73.4375 \nQ 25.25 74.21875 29.59375 74.21875 \nQ 40.828125 74.21875 47.359375 69.109375 \nQ 53.90625 64.015625 53.90625 55.328125 \nQ 53.90625 49.265625 50.4375 45.09375 \nQ 46.96875 40.921875 40.578125 39.3125 \nz\n\" id=\"DejaVuSans-51\"/>\n       </defs>\n       <use xlink:href=\"#DejaVuSans-51\"/>\n       <use x=\"63.623047\" xlink:href=\"#DejaVuSans-46\"/>\n       <use x=\"95.410156\" xlink:href=\"#DejaVuSans-48\"/>\n      </g>\n     </g>\n    </g>\n    <g id=\"ytick_6\">\n     <g id=\"line2d_23\">\n      <path clip-path=\"url(#p707d967fd7)\" d=\"M 52.449375 58.194142 \nL 428.289375 58.194142 \n\" style=\"fill:none;stroke:#cbcbcb;\"/>\n     </g>\n     <g id=\"line2d_24\"/>\n     <g id=\"text_13\">\n      <!-- 3.5 -->\n      <g transform=\"translate(26.685 63.513048)scale(0.14 -0.14)\">\n       <use xlink:href=\"#DejaVuSans-51\"/>\n       <use x=\"63.623047\" xlink:href=\"#DejaVuSans-46\"/>\n       <use x=\"95.410156\" xlink:href=\"#DejaVuSans-53\"/>\n      </g>\n     </g>\n    </g>\n    <g id=\"ytick_7\">\n     <g id=\"line2d_25\">\n      <path clip-path=\"url(#p707d967fd7)\" d=\"M 52.449375 24.628822 \nL 428.289375 24.628822 \n\" style=\"fill:none;stroke:#cbcbcb;\"/>\n     </g>\n     <g id=\"line2d_26\"/>\n     <g id=\"text_14\">\n      <!-- 4.0 -->\n      <g transform=\"translate(26.685 29.947728)scale(0.14 -0.14)\">\n       <use xlink:href=\"#DejaVuSans-52\"/>\n       <use x=\"63.623047\" xlink:href=\"#DejaVuSans-46\"/>\n       <use x=\"95.410156\" xlink:href=\"#DejaVuSans-48\"/>\n      </g>\n     </g>\n    </g>\n    <g id=\"text_15\">\n     <!-- RATIO -->\n     <g transform=\"translate(19.3575 147.475)rotate(-90)scale(0.16 -0.16)\">\n      <defs>\n       <path d=\"M 44.390625 34.1875 \nQ 47.5625 33.109375 50.5625 29.59375 \nQ 53.5625 26.078125 56.59375 19.921875 \nL 66.609375 0 \nL 56 0 \nL 46.6875 18.703125 \nQ 43.0625 26.03125 39.671875 28.421875 \nQ 36.28125 30.8125 30.421875 30.8125 \nL 19.671875 30.8125 \nL 19.671875 0 \nL 9.8125 0 \nL 9.8125 72.90625 \nL 32.078125 72.90625 \nQ 44.578125 72.90625 50.734375 67.671875 \nQ 56.890625 62.453125 56.890625 51.90625 \nQ 56.890625 45.015625 53.6875 40.46875 \nQ 50.484375 35.9375 44.390625 34.1875 \nz\nM 19.671875 64.796875 \nL 19.671875 38.921875 \nL 32.078125 38.921875 \nQ 39.203125 38.921875 42.84375 42.21875 \nQ 46.484375 45.515625 46.484375 51.90625 \nQ 46.484375 58.296875 42.84375 61.546875 \nQ 39.203125 64.796875 32.078125 64.796875 \nz\n\" id=\"DejaVuSans-82\"/>\n       <path d=\"M -0.296875 72.90625 \nL 61.375 72.90625 \nL 61.375 64.59375 \nL 35.5 64.59375 \nL 35.5 0 \nL 25.59375 0 \nL 25.59375 64.59375 \nL -0.296875 64.59375 \nz\n\" id=\"DejaVuSans-84\"/>\n       <path d=\"M 9.8125 72.90625 \nL 19.671875 72.90625 \nL 19.671875 0 \nL 9.8125 0 \nz\n\" id=\"DejaVuSans-73\"/>\n       <path d=\"M 39.40625 66.21875 \nQ 28.65625 66.21875 22.328125 58.203125 \nQ 16.015625 50.203125 16.015625 36.375 \nQ 16.015625 22.609375 22.328125 14.59375 \nQ 28.65625 6.59375 39.40625 6.59375 \nQ 50.140625 6.59375 56.421875 14.59375 \nQ 62.703125 22.609375 62.703125 36.375 \nQ 62.703125 50.203125 56.421875 58.203125 \nQ 50.140625 66.21875 39.40625 66.21875 \nz\nM 39.40625 74.21875 \nQ 54.734375 74.21875 63.90625 63.9375 \nQ 73.09375 53.65625 73.09375 36.375 \nQ 73.09375 19.140625 63.90625 8.859375 \nQ 54.734375 -1.421875 39.40625 -1.421875 \nQ 24.03125 -1.421875 14.8125 8.828125 \nQ 5.609375 19.09375 5.609375 36.375 \nQ 5.609375 53.65625 14.8125 63.9375 \nQ 24.03125 74.21875 39.40625 74.21875 \nz\n\" id=\"DejaVuSans-79\"/>\n      </defs>\n      <use xlink:href=\"#DejaVuSans-82\"/>\n      <use x=\"65.482422\" xlink:href=\"#DejaVuSans-65\"/>\n      <use x=\"126.140625\" xlink:href=\"#DejaVuSans-84\"/>\n      <use x=\"187.224609\" xlink:href=\"#DejaVuSans-73\"/>\n      <use x=\"216.716797\" xlink:href=\"#DejaVuSans-79\"/>\n     </g>\n    </g>\n   </g>\n   <g id=\"line2d_27\">\n    <path clip-path=\"url(#p707d967fd7)\" d=\"M 69.533011 229.063029 \nL 72.949739 228.998872 \nL 76.366466 228.89017 \nL 79.783193 228.904362 \nL 83.19992 229.018648 \nL 86.616648 228.755202 \nL 90.033375 228.708996 \nL 93.450102 228.743742 \nL 96.86683 228.851341 \nL 100.283557 228.875247 \nL 103.700284 228.783799 \nL 107.117011 228.670482 \nL 110.533739 228.606684 \nL 113.950466 228.634859 \nL 117.367193 228.75635 \nL 120.78392 228.993783 \nL 124.200648 228.978196 \nL 127.617375 229.026888 \nL 131.034102 228.950242 \nL 134.45083 229.284477 \nL 137.867557 229.535705 \nL 141.284284 229.632948 \nL 144.701011 229.876364 \nL 148.117739 229.490457 \nL 151.534466 228.756263 \nL 154.951193 228.403859 \nL 158.36792 228.273456 \nL 161.784648 228.088314 \nL 165.201375 227.9851 \nL 168.618102 227.833236 \nL 172.03483 227.396079 \nL 175.451557 226.871958 \nL 178.868284 226.596651 \nL 182.285011 226.314119 \nL 185.701739 226.101848 \nL 189.118466 226.604851 \nL 192.535193 225.949437 \nL 195.95192 225.771081 \nL 199.368648 225.360575 \nL 202.785375 225.403786 \nL 206.202102 225.635585 \nL 209.61883 225.07276 \nL 213.035557 224.650834 \nL 216.452284 224.832161 \nL 219.869011 224.746444 \nL 223.285739 225.270935 \nL 226.702466 225.020171 \nL 230.119193 224.87461 \nL 233.53592 224.436884 \nL 236.952648 224.490082 \nL 240.369375 224.343745 \nL 243.786102 223.758984 \nL 247.20283 223.4467 \nL 250.619557 223.239107 \nL 254.036284 222.876264 \nL 257.453011 223.117148 \nL 260.869739 222.495522 \nL 264.286466 222.161321 \nL 267.703193 221.654967 \nL 271.11992 221.153533 \nL 274.536648 220.893023 \nL 277.953375 220.090375 \nL 281.370102 219.732234 \nL 284.78683 219.530729 \nL 288.203557 218.904944 \nL 291.620284 218.882362 \nL 295.037011 218.496937 \nL 298.453739 218.364003 \nL 301.870466 218.228494 \nL 305.287193 217.16653 \nL 308.70392 216.370026 \nL 312.120648 215.561328 \nL 315.537375 214.938562 \nL 318.954102 213.82021 \nL 322.37083 212.268194 \nL 325.787557 211.415446 \nL 329.204284 211.071928 \nL 332.621011 209.251927 \nL 336.037739 207.595686 \nL 339.454466 205.830406 \nL 342.871193 203.415234 \nL 346.28792 201.563997 \nL 349.704648 198.79766 \nL 353.121375 195.928362 \nL 356.538102 192.619109 \nL 359.95483 188.677708 \nL 363.371557 184.718502 \nL 366.788284 179.331821 \nL 370.205011 174.230758 \nL 373.621739 167.732242 \nL 377.038466 160.191943 \nL 380.455193 153.388839 \nL 383.87192 147.59276 \nL 387.288648 137.821107 \nL 390.705375 130.600353 \nL 394.122102 116.994096 \nL 397.53883 107.11391 \nL 400.955557 91.733299 \nL 404.372284 77.552523 \nL 407.789011 54.377432 \nL 411.205739 17.803636 \n\" style=\"fill:none;stroke:#001e42;stroke-opacity:0.7;stroke-width:4;\"/>\n   </g>\n   <g id=\"patch_3\">\n    <path d=\"M 52.449375 240.48 \nL 52.449375 7.2 \n\" style=\"fill:none;stroke:#f0f0f0;stroke-linecap:square;stroke-linejoin:miter;stroke-width:3;\"/>\n   </g>\n   <g id=\"patch_4\">\n    <path d=\"M 428.289375 240.48 \nL 428.289375 7.2 \n\" style=\"fill:none;stroke:#f0f0f0;stroke-linecap:square;stroke-linejoin:miter;stroke-width:3;\"/>\n   </g>\n   <g id=\"patch_5\">\n    <path d=\"M 52.449375 240.48 \nL 428.289375 240.48 \n\" style=\"fill:none;stroke:#f0f0f0;stroke-linecap:square;stroke-linejoin:miter;stroke-width:3;\"/>\n   </g>\n   <g id=\"patch_6\">\n    <path d=\"M 52.449375 7.2 \nL 428.289375 7.2 \n\" style=\"fill:none;stroke:#f0f0f0;stroke-linecap:square;stroke-linejoin:miter;stroke-width:3;\"/>\n   </g>\n  </g>\n </g>\n <defs>\n  <clipPath id=\"p707d967fd7\">\n   <rect height=\"233.28\" width=\"375.84\" x=\"52.449375\" y=\"7.2\"/>\n  </clipPath>\n </defs>\n</svg>\n",
      "image/png": "[encoded data removed]"
     },
     "metadata": {}
    }
   ],
   "source": [
    "ratio.plot('AGE')"
   ]
  },
  {
   "cell_type": "code",
   "execution_count": null,
   "metadata": {},
   "outputs": [],
   "source": []
  }
 ]
}