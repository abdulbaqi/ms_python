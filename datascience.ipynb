{
 "metadata": {
  "language_info": {
   "codemirror_mode": {
    "name": "ipython",
    "version": 3
   },
   "file_extension": ".py",
   "mimetype": "text/x-python",
   "name": "python",
   "nbconvert_exporter": "python",
   "pygments_lexer": "ipython3",
   "version": "3.7.9-final"
  },
  "orig_nbformat": 2,
  "kernelspec": {
   "name": "python_defaultSpec_1600862343856",
   "display_name": "Python 3.7.9 64-bit ('myenv': conda)"
  }
 },
 "nbformat": 4,
 "nbformat_minor": 2,
 "cells": [
  {
   "cell_type": "code",
   "execution_count": null,
   "metadata": {},
   "outputs": [],
   "source": [
    "import pandas as pd"
   ]
  },
  {
   "cell_type": "code",
   "execution_count": null,
   "metadata": {},
   "outputs": [],
   "source": [
    "import math\n",
    "import operator\n",
    "math.sqrt(operator.add(4,5))"
   ]
  },
  {
   "cell_type": "code",
   "execution_count": null,
   "metadata": {},
   "outputs": [],
   "source": [
    "from datascience import *"
   ]
  },
  {
   "source": [
    "the above datascience module can be found in the following link \n",
    "https://github.com/data-8/datascience "
   ],
   "cell_type": "markdown",
   "metadata": {}
  },
  {
   "cell_type": "code",
   "execution_count": null,
   "metadata": {},
   "outputs": [],
   "source": [
    "path_data = 'data/'\n",
    "import numpy as np \n",
    "%matplotlib inline\n",
    "import matplotlib.pyplot as plots\n",
    "plots.style.use('fivethirtyeight')"
   ]
  },
  {
   "cell_type": "code",
   "execution_count": null,
   "metadata": {},
   "outputs": [],
   "source": [
    "np.set_printoptions(threshold=50)"
   ]
  },
  {
   "cell_type": "code",
   "execution_count": null,
   "metadata": {},
   "outputs": [],
   "source": [
    "cones = Table.read_table(path_data + 'cones.csv')"
   ]
  },
  {
   "cell_type": "code",
   "execution_count": null,
   "metadata": {},
   "outputs": [],
   "source": [
    "cones"
   ]
  },
  {
   "source": [
    "## show\n",
    "the table method `show` can be used to show only some rows "
   ],
   "cell_type": "markdown",
   "metadata": {}
  },
  {
   "cell_type": "code",
   "execution_count": null,
   "metadata": {},
   "outputs": [],
   "source": [
    "cones.show(2)"
   ]
  },
  {
   "source": [
    "## Select\n",
    "to chose some columns"
   ],
   "cell_type": "markdown",
   "metadata": {}
  },
  {
   "cell_type": "code",
   "execution_count": null,
   "metadata": {},
   "outputs": [],
   "source": [
    "cones.select('Flavor')"
   ]
  },
  {
   "cell_type": "code",
   "execution_count": null,
   "metadata": {},
   "outputs": [],
   "source": [
    "cones.select('Flavor', 'Price')"
   ]
  },
  {
   "source": [
    "## drop"
   ],
   "cell_type": "markdown",
   "metadata": {}
  },
  {
   "cell_type": "code",
   "execution_count": null,
   "metadata": {},
   "outputs": [],
   "source": [
    "no_color = cones.drop('Color')\n",
    "no_color"
   ]
  },
  {
   "source": [
    "## sorting"
   ],
   "cell_type": "markdown",
   "metadata": {}
  },
  {
   "cell_type": "code",
   "execution_count": null,
   "metadata": {},
   "outputs": [],
   "source": [
    "cones.sort('Price')"
   ]
  },
  {
   "cell_type": "code",
   "execution_count": null,
   "metadata": {},
   "outputs": [],
   "source": [
    "cones.sort('Price', descending=True)"
   ]
  },
  {
   "source": [
    "## where"
   ],
   "cell_type": "markdown",
   "metadata": {}
  },
  {
   "cell_type": "code",
   "execution_count": null,
   "metadata": {},
   "outputs": [],
   "source": [
    "cones.where('Flavor', 'chocolate')"
   ]
  },
  {
   "source": [
    "## NBA salary data"
   ],
   "cell_type": "markdown",
   "metadata": {}
  },
  {
   "cell_type": "code",
   "execution_count": null,
   "metadata": {},
   "outputs": [],
   "source": [
    "nba = Table.read_table(path_data+'nba_salaries.csv').relabeled(3, 'SALARY')"
   ]
  },
  {
   "cell_type": "code",
   "execution_count": null,
   "metadata": {},
   "outputs": [],
   "source": [
    "nba"
   ]
  },
  {
   "cell_type": "code",
   "execution_count": null,
   "metadata": {},
   "outputs": [],
   "source": [
    "hawks = nba.where('TEAM', 'Atlanta Hawks')\n",
    "hawks"
   ]
  },
  {
   "source": [
    "## show\n",
    "\n",
    "it will show the entire file"
   ],
   "cell_type": "markdown",
   "metadata": {}
  },
  {
   "cell_type": "code",
   "execution_count": null,
   "metadata": {},
   "outputs": [],
   "source": [
    "hawks.show()"
   ]
  },
  {
   "source": [
    "let us see who gets the most salary"
   ],
   "cell_type": "markdown",
   "metadata": {}
  },
  {
   "cell_type": "code",
   "execution_count": null,
   "metadata": {},
   "outputs": [],
   "source": [
    "nba.sort('SALARY', descending=True)"
   ]
  },
  {
   "cell_type": "code",
   "execution_count": null,
   "metadata": {},
   "outputs": [],
   "source": [
    "nba.where('SALARY', are.above(22))"
   ]
  },
  {
   "cell_type": "code",
   "execution_count": null,
   "metadata": {
    "tags": []
   },
   "outputs": [],
   "source": [
    "nba.where(nba.column('SALARY') > 23)"
   ]
  },
  {
   "source": [
    "## String methods"
   ],
   "cell_type": "markdown",
   "metadata": {}
  },
  {
   "cell_type": "code",
   "execution_count": null,
   "metadata": {},
   "outputs": [],
   "source": [
    "\"hello\".upper()"
   ]
  },
  {
   "cell_type": "code",
   "execution_count": null,
   "metadata": {},
   "outputs": [],
   "source": [
    "\"abdul baqi\".replace('baqi', 'aziz')"
   ]
  },
  {
   "source": [
    "## Array"
   ],
   "cell_type": "markdown",
   "metadata": {}
  },
  {
   "cell_type": "code",
   "execution_count": null,
   "metadata": {},
   "outputs": [],
   "source": [
    "pos = make_array(\"verb\", 'noun', 'adjective', 'pronoun', 'adverb')"
   ]
  },
  {
   "cell_type": "code",
   "execution_count": null,
   "metadata": {},
   "outputs": [],
   "source": [
    "pos"
   ]
  },
  {
   "cell_type": "code",
   "execution_count": null,
   "metadata": {},
   "outputs": [],
   "source": [
    "baseline_high = 14.48\n",
    "highs = make_array(baseline_high - 0.880, \n",
    "                   baseline_high - 0.093,\n",
    "                   baseline_high + 0.105, \n",
    "                   baseline_high + 0.684)\n",
    "highs"
   ]
  },
  {
   "cell_type": "code",
   "execution_count": null,
   "metadata": {},
   "outputs": [],
   "source": [
    "(9/5) * highs + 32"
   ]
  },
  {
   "source": [
    "## array functions"
   ],
   "cell_type": "markdown",
   "metadata": {}
  },
  {
   "cell_type": "code",
   "execution_count": null,
   "metadata": {},
   "outputs": [],
   "source": [
    "highs.size"
   ]
  },
  {
   "cell_type": "code",
   "execution_count": null,
   "metadata": {},
   "outputs": [],
   "source": [
    "highs.sum()"
   ]
  },
  {
   "cell_type": "code",
   "execution_count": null,
   "metadata": {},
   "outputs": [],
   "source": [
    "highs.mean()"
   ]
  },
  {
   "source": [
    "## NP array functions\n",
    "\n",
    "the diff function computes the difference between each adjacent pair of elements in an array. The first element of the diff is the second element minus the first."
   ],
   "cell_type": "markdown",
   "metadata": {}
  },
  {
   "cell_type": "code",
   "execution_count": null,
   "metadata": {},
   "outputs": [],
   "source": [
    "np.diff(highs)"
   ]
  },
  {
   "cell_type": "code",
   "execution_count": null,
   "metadata": {},
   "outputs": [],
   "source": [
    "np.prod(highs)"
   ]
  },
  {
   "cell_type": "code",
   "execution_count": null,
   "metadata": {},
   "outputs": [],
   "source": [
    "np.sum(highs)"
   ]
  },
  {
   "source": [
    "check many useful `np` functions in this page:\n",
    "https://docs.microsoft.com/en-us/learn/modules/introduction-python-using-datascience-library/12-sequences "
   ],
   "cell_type": "markdown",
   "metadata": {}
  },
  {
   "source": [
    "## Ranges"
   ],
   "cell_type": "markdown",
   "metadata": {}
  },
  {
   "cell_type": "code",
   "execution_count": null,
   "metadata": {},
   "outputs": [],
   "source": [
    "np.arange(10)"
   ]
  },
  {
   "cell_type": "code",
   "execution_count": null,
   "metadata": {},
   "outputs": [],
   "source": [
    "np.arange(70, 100)"
   ]
  },
  {
   "cell_type": "code",
   "execution_count": null,
   "metadata": {},
   "outputs": [],
   "source": [
    "#with steps\n",
    "np.arange(1,10,2)"
   ]
  },
  {
   "source": [
    "## Back to Tables"
   ],
   "cell_type": "markdown",
   "metadata": {}
  },
  {
   "source": [
    "The with_columns method on a table constructs a new table with additional labeled columns. Each column of a table is an array. To add one new column to a table, call with_columns with a label and an array. (The with_column method can be used with the same effect.)"
   ],
   "cell_type": "markdown",
   "metadata": {}
  },
  {
   "cell_type": "code",
   "execution_count": null,
   "metadata": {},
   "outputs": [],
   "source": [
    "Table().with_columns('Number of petals', make_array(8,43,9))"
   ]
  },
  {
   "cell_type": "code",
   "execution_count": null,
   "metadata": {},
   "outputs": [],
   "source": [
    "flowers = Table().with_columns(\n",
    "    'Number of petals', make_array(8, 34, 5),\n",
    "    'Name', make_array('lotus', 'sunflower', 'rose')\n",
    ")\n",
    "\n",
    "flowers.with_columns(\n",
    "    'Color', make_array('pink', 'yellow', 'red')\n",
    ")"
   ]
  },
  {
   "cell_type": "code",
   "execution_count": null,
   "metadata": {},
   "outputs": [],
   "source": [
    "minard = Table.read_table(path_data+'minard.csv')\n",
    "minard"
   ]
  },
  {
   "source": [
    "## table properties"
   ],
   "cell_type": "markdown",
   "metadata": {}
  },
  {
   "cell_type": "code",
   "execution_count": null,
   "metadata": {},
   "outputs": [],
   "source": [
    "minard.num_columns"
   ]
  },
  {
   "cell_type": "code",
   "execution_count": null,
   "metadata": {},
   "outputs": [],
   "source": [
    "minard.num_rows"
   ]
  },
  {
   "cell_type": "code",
   "execution_count": null,
   "metadata": {},
   "outputs": [],
   "source": [
    "minard.labels"
   ]
  },
  {
   "cell_type": "code",
   "execution_count": null,
   "metadata": {},
   "outputs": [],
   "source": [
    "minard.relabeled('City', 'City name')"
   ]
  },
  {
   "cell_type": "code",
   "execution_count": null,
   "metadata": {},
   "outputs": [],
   "source": [
    "minard"
   ]
  },
  {
   "source": [
    "to access data in column"
   ],
   "cell_type": "markdown",
   "metadata": {}
  },
  {
   "cell_type": "code",
   "execution_count": null,
   "metadata": {},
   "outputs": [],
   "source": [
    "minard.column('Survivors')"
   ]
  },
  {
   "cell_type": "code",
   "execution_count": null,
   "metadata": {},
   "outputs": [],
   "source": [
    "minard.column(3)"
   ]
  },
  {
   "cell_type": "code",
   "execution_count": null,
   "metadata": {},
   "outputs": [],
   "source": [
    "minard.column(1).item(3)"
   ]
  },
  {
   "source": [
    "Because columns are arrays, we can use array operations on them to discover new information. For example, we can create a new column that contains the percent of all survivors at each city after Smolensk."
   ],
   "cell_type": "markdown",
   "metadata": {}
  },
  {
   "cell_type": "code",
   "execution_count": null,
   "metadata": {},
   "outputs": [],
   "source": [
    "initial = minard.column('Survivors').item(0)\n",
    "minard = minard.with_columns('% surviving', minard.column('Survivors')/initial)\n",
    "minard"
   ]
  },
  {
   "cell_type": "code",
   "execution_count": null,
   "metadata": {},
   "outputs": [],
   "source": [
    "minard.set_format('% surviving', PercentFormatter)"
   ]
  },
  {
   "source": [
    "## select columns"
   ],
   "cell_type": "markdown",
   "metadata": {}
  },
  {
   "cell_type": "code",
   "execution_count": null,
   "metadata": {},
   "outputs": [],
   "source": [
    "minard.select(0,1)"
   ]
  },
  {
   "cell_type": "code",
   "execution_count": null,
   "metadata": {},
   "outputs": [],
   "source": [
    "minard.drop(2,4)"
   ]
  },
  {
   "cell_type": "code",
   "execution_count": null,
   "metadata": {},
   "outputs": [],
   "source": [
    "nba"
   ]
  },
  {
   "cell_type": "code",
   "execution_count": null,
   "metadata": {},
   "outputs": [],
   "source": [
    "nba.sort('SALARY', descending=True).select(0).show(20)"
   ]
  },
  {
   "source": [
    "## Take"
   ],
   "cell_type": "markdown",
   "metadata": {}
  },
  {
   "cell_type": "code",
   "execution_count": null,
   "metadata": {},
   "outputs": [],
   "source": [
    "nba.take(2)"
   ]
  },
  {
   "cell_type": "code",
   "execution_count": null,
   "metadata": {},
   "outputs": [],
   "source": [
    "nba.take(range(3,9))"
   ]
  },
  {
   "cell_type": "code",
   "execution_count": null,
   "metadata": {},
   "outputs": [],
   "source": [
    "nba.sort(3, descending=True).take(range(5))"
   ]
  },
  {
   "cell_type": "code",
   "execution_count": null,
   "metadata": {},
   "outputs": [],
   "source": [
    "nba.where('TEAM', are.equal_to('Golden State Warriors')).show()"
   ]
  },
  {
   "cell_type": "code",
   "execution_count": null,
   "metadata": {},
   "outputs": [],
   "source": [
    "nba.where('TEAM', 'Denver Nuggets') # equivalent to nba.where('Team', are.equal_to('Denver Nuggets'))"
   ]
  },
  {
   "cell_type": "code",
   "execution_count": null,
   "metadata": {},
   "outputs": [],
   "source": [
    "nba.where('POSITION', 'C').where('SALARY', are.above(10)).show()"
   ]
  },
  {
   "cell_type": "code",
   "execution_count": null,
   "metadata": {},
   "outputs": [],
   "source": [
    "nba.where('TEAM', are.containing('Warriors')).show()"
   ]
  },
  {
   "source": [
    "## reading data from online"
   ],
   "cell_type": "markdown",
   "metadata": {}
  },
  {
   "cell_type": "code",
   "execution_count": null,
   "metadata": {},
   "outputs": [],
   "source": [
    "# As of Jan 2017, this census file is online here: \n",
    "data = 'http://www2.census.gov/programs-surveys/popest/datasets/2010-2015/national/asrh/nc-est2015-agesex-res.csv'\n",
    "\n",
    "# A local copy can be accessed here in case census.gov moves the file:\n",
    "# data = path_data + 'nc-est2015-agesex-res.csv'\n",
    "\n",
    "full_census_table = Table.read_table(data)\n",
    "full_census_table"
   ]
  },
  {
   "source": [
    "in the above table, let us create a new column to record the percentage change in population between 2010 and 2015."
   ],
   "cell_type": "markdown",
   "metadata": {}
  },
  {
   "cell_type": "code",
   "execution_count": null,
   "metadata": {},
   "outputs": [],
   "source": [
    "#first create a smaller table\n",
    "partial_table = full_census_table.select('SEX','AGE','POPESTIMATE2010', 'POPESTIMATE2015')\n",
    "# partial_table\n",
    "\n",
    "#RENAME\n",
    "partial_table = partial_table.relabeled('POPESTIMATE2010', '2010').relabeled('POPESTIMATE2015', '2015')\n",
    "# partial_table\n",
    "# now let us see the change\n",
    "change = partial_table.column('2015')- partial_table.column('2010')\n",
    "\n",
    "#now add to the file\n",
    "us_pop = partial_table.with_columns('change',change,\n",
    "    'percent change', change/partial_table.column('2010'))\n",
    "us_pop.set_format('percent change', PercentFormatter)\n",
    "us_pop"
   ]
  },
  {
   "cell_type": "code",
   "execution_count": null,
   "metadata": {},
   "outputs": [],
   "source": [
    "# let us see infants who are 0 years old\n",
    "us_pop"
   ]
  },
  {
   "cell_type": "code",
   "execution_count": null,
   "metadata": {},
   "outputs": [],
   "source": [
    "us_pop_2015 = us_pop.drop('2010', 'change', 'percent change')\n",
    "us_pop_2015"
   ]
  },
  {
   "cell_type": "code",
   "execution_count": null,
   "metadata": {},
   "outputs": [],
   "source": [
    "infants = us_pop_2015.where('AGE', 0)\n",
    "infants"
   ]
  },
  {
   "cell_type": "code",
   "execution_count": null,
   "metadata": {},
   "outputs": [],
   "source": [
    "tot_infants = infants.column('2015').item(0)\n",
    "infants.with_columns('percent', infants.column('2015')/tot_infants).set_format('percent',PercentFormatter)"
   ]
  },
  {
   "source": [
    "Let us find all female, and then male who are not age 999 group"
   ],
   "cell_type": "markdown",
   "metadata": {}
  },
  {
   "cell_type": "code",
   "execution_count": null,
   "metadata": {},
   "outputs": [],
   "source": [
    "female = us_pop_2015.where('SEX', 2).where('AGE', are.not_equal_to(999))\n",
    "males = us_pop_2015.where('SEX', 1).where('AGE', are.not_equal_to(999))"
   ]
  },
  {
   "source": [
    "now we will create a new Table with the ratio of the female to male"
   ],
   "cell_type": "markdown",
   "metadata": {}
  },
  {
   "cell_type": "code",
   "execution_count": null,
   "metadata": {},
   "outputs": [],
   "source": [
    "males"
   ]
  },
  {
   "cell_type": "code",
   "execution_count": null,
   "metadata": {},
   "outputs": [],
   "source": [
    "female"
   ]
  },
  {
   "cell_type": "code",
   "execution_count": null,
   "metadata": {},
   "outputs": [],
   "source": [
    "males"
   ]
  },
  {
   "cell_type": "code",
   "execution_count": null,
   "metadata": {},
   "outputs": [],
   "source": [
    "ratio = Table().with_columns(\n",
    "    'AGE', female.column('AGE'),\n",
    "    'RATIO', female.column('2015')/males.column('2015')\n",
    ")\n",
    "ratio"
   ]
  },
  {
   "cell_type": "code",
   "execution_count": null,
   "metadata": {},
   "outputs": [],
   "source": [
    "ratio.where('AGE', are.above(70))"
   ]
  },
  {
   "cell_type": "code",
   "execution_count": null,
   "metadata": {},
   "outputs": [],
   "source": [
    "ratio.plot('AGE')"
   ]
  },
  {
   "source": [
    "## Apply method to a column"
   ],
   "cell_type": "markdown",
   "metadata": {}
  },
  {
   "cell_type": "code",
   "execution_count": null,
   "metadata": {},
   "outputs": [],
   "source": [
    "#let us create a table\n",
    "sample = Table().with_columns(\n",
    "    'Persons', make_array('a','b', 'c','d','e'),\n",
    "    'Age', make_array(23,45,12,3,117)\n",
    ")\n",
    "sample"
   ]
  },
  {
   "cell_type": "code",
   "execution_count": null,
   "metadata": {},
   "outputs": [],
   "source": [
    "#let us define a function \n",
    "def cut_off_at_100(x):\n",
    "    \"\"\" return the smaller x or 100 \"\"\"\n",
    "    return min(x,100)"
   ]
  },
  {
   "cell_type": "code",
   "execution_count": null,
   "metadata": {},
   "outputs": [],
   "source": [
    "sample.apply(cut_off_at_100, 'Age')"
   ]
  },
  {
   "source": [
    "## Prediction - the Galton Data"
   ],
   "cell_type": "markdown",
   "metadata": {}
  },
  {
   "cell_type": "code",
   "execution_count": null,
   "metadata": {},
   "outputs": [],
   "source": [
    "# Galton's data on heights of parents and their adult children\n",
    "galton = Table.read_table(path_data + 'galton.csv')\n",
    "galton"
   ]
  },
  {
   "cell_type": "code",
   "execution_count": null,
   "metadata": {},
   "outputs": [],
   "source": [
    "#let us take only two columns: the midparent height and the child height\n",
    "heights = galton.select(3,7).relabeled(0,'MidParent').relabeled(1,'child')\n",
    "heights"
   ]
  },
  {
   "cell_type": "code",
   "execution_count": null,
   "metadata": {},
   "outputs": [],
   "source": [
    "heights.scatter(0)"
   ]
  },
  {
   "source": [
    "let us try to predict the height of a child for a midparent height of 68. So let us take the range of 67.5 to 68.5 slice "
   ],
   "cell_type": "markdown",
   "metadata": {}
  },
  {
   "source": [
    "in that strip we took the average of heights of children and found out that the average is 66.24 inch. "
   ],
   "cell_type": "markdown",
   "metadata": {}
  },
  {
   "cell_type": "code",
   "execution_count": null,
   "metadata": {},
   "outputs": [],
   "source": [
    "heights.scatter('MidParent')\n",
    "_ = plots.plot([67.5, 67.5], [50, 85], color='red', lw=2)\n",
    "_ = plots.plot([68.5, 68.5], [50, 85], color='red', lw=2)\n",
    "_ = plots.scatter(68, 66.24, color='gold', s=40)"
   ]
  },
  {
   "source": [
    "so, first let us find all the points in this strip of 67.5 and 68.5"
   ],
   "cell_type": "markdown",
   "metadata": {}
  },
  {
   "cell_type": "code",
   "execution_count": null,
   "metadata": {},
   "outputs": [],
   "source": [
    "close_to_68 = heights.where('MidParent', are.between(67.5,68.5))\n",
    "close_to_68"
   ]
  },
  {
   "cell_type": "code",
   "execution_count": null,
   "metadata": {},
   "outputs": [],
   "source": [
    "#now find the mean of the `child` column\n",
    "close_to_68.column(1).mean()"
   ]
  },
  {
   "source": [
    "let us encapsulate that into a function"
   ],
   "cell_type": "markdown",
   "metadata": {}
  },
  {
   "cell_type": "code",
   "execution_count": null,
   "metadata": {},
   "outputs": [],
   "source": [
    "def predict_child(mpht):\n",
    "    \"\"\"Predict the height of a child whose parents have a midparent height of mpht.\n",
    "    \n",
    "    The prediction is the average height of the children whose midparent height is\n",
    "    in the range mpht plus or minus 0.5.\n",
    "    \"\"\"\n",
    "    \n",
    "    close_points = heights.where('MidParent', are.between(mpht-0.5, mpht + 0.5))\n",
    "    return close_points.column('child').mean()"
   ]
  },
  {
   "cell_type": "code",
   "execution_count": null,
   "metadata": {},
   "outputs": [],
   "source": [
    "#test the function\n",
    "predict_child(68)"
   ]
  },
  {
   "cell_type": "code",
   "execution_count": null,
   "metadata": {},
   "outputs": [],
   "source": [
    "#let us apply this function on each midparent height\n",
    "heights.apply(predict_child, 'MidParent')"
   ]
  },
  {
   "cell_type": "code",
   "execution_count": null,
   "metadata": {},
   "outputs": [],
   "source": [
    "#finally we can establish a table like the following\n",
    "heights_with_predictions = heights.with_columns(\n",
    "    \"Prediction\", heights.apply(predict_child, 'MidParent')\n",
    ")\n",
    "heights_with_predictions"
   ]
  },
  {
   "cell_type": "code",
   "execution_count": null,
   "metadata": {},
   "outputs": [],
   "source": [
    "#now let us draw the scatter plot\n",
    "heights_with_predictions.scatter('MidParent')"
   ]
  },
  {
   "source": [
    "## Grouping"
   ],
   "cell_type": "markdown",
   "metadata": {}
  },
  {
   "cell_type": "code",
   "execution_count": null,
   "metadata": {},
   "outputs": [],
   "source": [
    "#let us create a new table\n",
    "cones = Table().with_columns(\n",
    "    \"Flavor\", make_array('strawberry', 'chocolate', 'chocolate', 'strawberry', 'chocolate'),\n",
    "    \"Price\", make_array(3.55, 4.75, 6.55, 5.25,5.25)\n",
    ")\n",
    "cones "
   ]
  },
  {
   "cell_type": "code",
   "execution_count": null,
   "metadata": {},
   "outputs": [],
   "source": [
    "cones.group('Flavor')"
   ]
  },
  {
   "source": [
    "as you can see, the default grouping does the count, but we can be explicit by adding a intended function as the second argument, let us see examples. "
   ],
   "cell_type": "markdown",
   "metadata": {}
  },
  {
   "cell_type": "code",
   "execution_count": null,
   "metadata": {},
   "outputs": [],
   "source": [
    "cones.group('Flavor', sum)"
   ]
  },
  {
   "cell_type": "code",
   "execution_count": null,
   "metadata": {},
   "outputs": [],
   "source": [
    "#let us try max function\n",
    "cones.group('Flavor', max)"
   ]
  },
  {
   "source": [
    "## NBA Salary\n",
    "let us apply the concept to the NBA dataset"
   ],
   "cell_type": "markdown",
   "metadata": {}
  },
  {
   "cell_type": "code",
   "execution_count": 97,
   "metadata": {},
   "outputs": [
    {
     "output_type": "execute_result",
     "data": {
      "text/plain": "PLAYER           | POSITION | TEAM          | SALARY\nPaul Millsap     | PF       | Atlanta Hawks | 18.6717\nAl Horford       | C        | Atlanta Hawks | 12\nTiago Splitter   | C        | Atlanta Hawks | 9.75625\nJeff Teague      | PG       | Atlanta Hawks | 8\nKyle Korver      | SG       | Atlanta Hawks | 5.74648\nThabo Sefolosha  | SF       | Atlanta Hawks | 4\nMike Scott       | PF       | Atlanta Hawks | 3.33333\nKent Bazemore    | SF       | Atlanta Hawks | 2\nDennis Schroder  | PG       | Atlanta Hawks | 1.7634\nTim Hardaway Jr. | SG       | Atlanta Hawks | 1.30452\n... (407 rows omitted)",
      "text/html": "<table border=\"1\" class=\"dataframe\">\n    <thead>\n        <tr>\n            <th>PLAYER</th> <th>POSITION</th> <th>TEAM</th> <th>SALARY</th>\n        </tr>\n    </thead>\n    <tbody>\n        <tr>\n            <td>Paul Millsap    </td> <td>PF      </td> <td>Atlanta Hawks</td> <td>18.6717</td>\n        </tr>\n        <tr>\n            <td>Al Horford      </td> <td>C       </td> <td>Atlanta Hawks</td> <td>12     </td>\n        </tr>\n        <tr>\n            <td>Tiago Splitter  </td> <td>C       </td> <td>Atlanta Hawks</td> <td>9.75625</td>\n        </tr>\n        <tr>\n            <td>Jeff Teague     </td> <td>PG      </td> <td>Atlanta Hawks</td> <td>8      </td>\n        </tr>\n        <tr>\n            <td>Kyle Korver     </td> <td>SG      </td> <td>Atlanta Hawks</td> <td>5.74648</td>\n        </tr>\n        <tr>\n            <td>Thabo Sefolosha </td> <td>SF      </td> <td>Atlanta Hawks</td> <td>4      </td>\n        </tr>\n        <tr>\n            <td>Mike Scott      </td> <td>PF      </td> <td>Atlanta Hawks</td> <td>3.33333</td>\n        </tr>\n        <tr>\n            <td>Kent Bazemore   </td> <td>SF      </td> <td>Atlanta Hawks</td> <td>2      </td>\n        </tr>\n        <tr>\n            <td>Dennis Schroder </td> <td>PG      </td> <td>Atlanta Hawks</td> <td>1.7634 </td>\n        </tr>\n        <tr>\n            <td>Tim Hardaway Jr.</td> <td>SG      </td> <td>Atlanta Hawks</td> <td>1.30452</td>\n        </tr>\n    </tbody>\n</table>\n<p>... (407 rows omitted)</p>"
     },
     "metadata": {},
     "execution_count": 97
    }
   ],
   "source": [
    "nba"
   ]
  },
  {
   "cell_type": "code",
   "execution_count": 99,
   "metadata": {},
   "outputs": [
    {
     "output_type": "execute_result",
     "data": {
      "text/plain": "TEAM                  | PLAYER sum | POSITION sum | SALARY sum\nAtlanta Hawks         |            |              | 69.5731\nBoston Celtics        |            |              | 50.2855\nBrooklyn Nets         |            |              | 57.307\nCharlotte Hornets     |            |              | 84.1024\nChicago Bulls         |            |              | 78.8209\nCleveland Cavaliers   |            |              | 102.312\nDallas Mavericks      |            |              | 65.7626\nDenver Nuggets        |            |              | 62.4294\nDetroit Pistons       |            |              | 42.2118\nGolden State Warriors |            |              | 94.0851\n... (20 rows omitted)",
      "text/html": "<table border=\"1\" class=\"dataframe\">\n    <thead>\n        <tr>\n            <th>TEAM</th> <th>PLAYER sum</th> <th>POSITION sum</th> <th>SALARY sum</th>\n        </tr>\n    </thead>\n    <tbody>\n        <tr>\n            <td>Atlanta Hawks        </td> <td>          </td> <td>            </td> <td>69.5731   </td>\n        </tr>\n        <tr>\n            <td>Boston Celtics       </td> <td>          </td> <td>            </td> <td>50.2855   </td>\n        </tr>\n        <tr>\n            <td>Brooklyn Nets        </td> <td>          </td> <td>            </td> <td>57.307    </td>\n        </tr>\n        <tr>\n            <td>Charlotte Hornets    </td> <td>          </td> <td>            </td> <td>84.1024   </td>\n        </tr>\n        <tr>\n            <td>Chicago Bulls        </td> <td>          </td> <td>            </td> <td>78.8209   </td>\n        </tr>\n        <tr>\n            <td>Cleveland Cavaliers  </td> <td>          </td> <td>            </td> <td>102.312   </td>\n        </tr>\n        <tr>\n            <td>Dallas Mavericks     </td> <td>          </td> <td>            </td> <td>65.7626   </td>\n        </tr>\n        <tr>\n            <td>Denver Nuggets       </td> <td>          </td> <td>            </td> <td>62.4294   </td>\n        </tr>\n        <tr>\n            <td>Detroit Pistons      </td> <td>          </td> <td>            </td> <td>42.2118   </td>\n        </tr>\n        <tr>\n            <td>Golden State Warriors</td> <td>          </td> <td>            </td> <td>94.0851   </td>\n        </tr>\n    </tbody>\n</table>\n<p>... (20 rows omitted)</p>"
     },
     "metadata": {},
     "execution_count": 99
    }
   ],
   "source": [
    "# let us group by teams and sum the salary\n",
    "nba.group('TEAM', sum)"
   ]
  },
  {
   "cell_type": "code",
   "execution_count": 100,
   "metadata": {},
   "outputs": [
    {
     "output_type": "execute_result",
     "data": {
      "text/plain": "POSITION | count\nC        | 69\nPF       | 85\nPG       | 85\nSF       | 82\nSG       | 96",
      "text/html": "<table border=\"1\" class=\"dataframe\">\n    <thead>\n        <tr>\n            <th>POSITION</th> <th>count</th>\n        </tr>\n    </thead>\n    <tbody>\n        <tr>\n            <td>C       </td> <td>69   </td>\n        </tr>\n        <tr>\n            <td>PF      </td> <td>85   </td>\n        </tr>\n        <tr>\n            <td>PG      </td> <td>85   </td>\n        </tr>\n        <tr>\n            <td>SF      </td> <td>82   </td>\n        </tr>\n        <tr>\n            <td>SG      </td> <td>96   </td>\n        </tr>\n    </tbody>\n</table>"
     },
     "metadata": {},
     "execution_count": 100
    }
   ],
   "source": [
    "# no of players by position\n",
    "nba.group('POSITION')"
   ]
  },
  {
   "cell_type": "code",
   "execution_count": 102,
   "metadata": {},
   "outputs": [
    {
     "output_type": "execute_result",
     "data": {
      "text/plain": "POSITION | SALARY mean\nC        | 6.08291\nPF       | 4.95134\nPG       | 5.16549\nSF       | 5.53267\nSG       | 3.9882",
      "text/html": "<table border=\"1\" class=\"dataframe\">\n    <thead>\n        <tr>\n            <th>POSITION</th> <th>SALARY mean</th>\n        </tr>\n    </thead>\n    <tbody>\n        <tr>\n            <td>C       </td> <td>6.08291    </td>\n        </tr>\n        <tr>\n            <td>PF      </td> <td>4.95134    </td>\n        </tr>\n        <tr>\n            <td>PG      </td> <td>5.16549    </td>\n        </tr>\n        <tr>\n            <td>SF      </td> <td>5.53267    </td>\n        </tr>\n        <tr>\n            <td>SG      </td> <td>3.9882     </td>\n        </tr>\n    </tbody>\n</table>"
     },
     "metadata": {},
     "execution_count": 102
    }
   ],
   "source": [
    "#average salary per position\n",
    "nba.select('POSITION', 'SALARY').group('POSITION', np.mean)"
   ]
  },
  {
   "cell_type": "code",
   "execution_count": 104,
   "metadata": {},
   "outputs": [
    {
     "output_type": "execute_result",
     "data": {
      "text/plain": "POSITION | TEAM                  | PLAYER sum | SALARY sum\nC        | Atlanta Hawks         |            | 22.7563\nC        | Boston Celtics        |            | 7.3514\nC        | Brooklyn Nets         |            | 1.3629\nC        | Charlotte Hornets     |            | 20.3167\nC        | Chicago Bulls         |            | 20.8488\nC        | Cleveland Cavaliers   |            | 31.0094\nC        | Dallas Mavericks      |            | 6.47096\nC        | Denver Nuggets        |            | 10.4652\nC        | Detroit Pistons       |            | 12.2721\nC        | Golden State Warriors |            | 19.6237\n... (137 rows omitted)",
      "text/html": "<table border=\"1\" class=\"dataframe\">\n    <thead>\n        <tr>\n            <th>POSITION</th> <th>TEAM</th> <th>PLAYER sum</th> <th>SALARY sum</th>\n        </tr>\n    </thead>\n    <tbody>\n        <tr>\n            <td>C       </td> <td>Atlanta Hawks        </td> <td>          </td> <td>22.7563   </td>\n        </tr>\n        <tr>\n            <td>C       </td> <td>Boston Celtics       </td> <td>          </td> <td>7.3514    </td>\n        </tr>\n        <tr>\n            <td>C       </td> <td>Brooklyn Nets        </td> <td>          </td> <td>1.3629    </td>\n        </tr>\n        <tr>\n            <td>C       </td> <td>Charlotte Hornets    </td> <td>          </td> <td>20.3167   </td>\n        </tr>\n        <tr>\n            <td>C       </td> <td>Chicago Bulls        </td> <td>          </td> <td>20.8488   </td>\n        </tr>\n        <tr>\n            <td>C       </td> <td>Cleveland Cavaliers  </td> <td>          </td> <td>31.0094   </td>\n        </tr>\n        <tr>\n            <td>C       </td> <td>Dallas Mavericks     </td> <td>          </td> <td>6.47096   </td>\n        </tr>\n        <tr>\n            <td>C       </td> <td>Denver Nuggets       </td> <td>          </td> <td>10.4652   </td>\n        </tr>\n        <tr>\n            <td>C       </td> <td>Detroit Pistons      </td> <td>          </td> <td>12.2721   </td>\n        </tr>\n        <tr>\n            <td>C       </td> <td>Golden State Warriors</td> <td>          </td> <td>19.6237   </td>\n        </tr>\n    </tbody>\n</table>\n<p>... (137 rows omitted)</p>"
     },
     "metadata": {},
     "execution_count": 104
    }
   ],
   "source": [
    "#we can do grouping on two items as well\n",
    "nba.group(['POSITION', 'TEAM'], sum)"
   ]
  },
  {
   "source": [
    "## Pivot"
   ],
   "cell_type": "markdown",
   "metadata": {}
  },
  {
   "cell_type": "code",
   "execution_count": 110,
   "metadata": {},
   "outputs": [
    {
     "output_type": "execute_result",
     "data": {
      "text/plain": "TEAM                  | C       | PF      | PG      | SF      | SG\nAtlanta Hawks         | 22.7563 | 22.005  | 9.7634  | 6       | 9.04846\nBoston Celtics        | 7.3514  | 6.17096 | 19.8986 | 8.83432 | 8.03022\nBrooklyn Nets         | 1.3629  | 13.3575 | 7.8     | 26.0806 | 8.70589\nCharlotte Hornets     | 20.3167 | 14.0573 | 17.9412 | 7.53284 | 24.2543\nChicago Bulls         | 20.8488 | 6.93489 | 22.3431 | 3.91632 | 24.7779\nCleveland Cavaliers   | 31.0094 | 19.689  | 19.6548 | 22.9705 | 8.98876\nDallas Mavericks      | 6.47096 | 23.827  | 17.6727 | 15.3615 | 2.43035\nDenver Nuggets        | 10.4652 | 14.05   | 7.44724 | 28.7831 | 1.6839\nDetroit Pistons       | 12.2721 | 0       | 13.913  | 6.86486 | 9.16176\nGolden State Warriors | 19.6237 | 21.5591 | 16.9145 | 17.9868 | 18.001\n... (20 rows omitted)",
      "text/html": "<table border=\"1\" class=\"dataframe\">\n    <thead>\n        <tr>\n            <th>TEAM</th> <th>C</th> <th>PF</th> <th>PG</th> <th>SF</th> <th>SG</th>\n        </tr>\n    </thead>\n    <tbody>\n        <tr>\n            <td>Atlanta Hawks        </td> <td>22.7563</td> <td>22.005 </td> <td>9.7634 </td> <td>6      </td> <td>9.04846</td>\n        </tr>\n        <tr>\n            <td>Boston Celtics       </td> <td>7.3514 </td> <td>6.17096</td> <td>19.8986</td> <td>8.83432</td> <td>8.03022</td>\n        </tr>\n        <tr>\n            <td>Brooklyn Nets        </td> <td>1.3629 </td> <td>13.3575</td> <td>7.8    </td> <td>26.0806</td> <td>8.70589</td>\n        </tr>\n        <tr>\n            <td>Charlotte Hornets    </td> <td>20.3167</td> <td>14.0573</td> <td>17.9412</td> <td>7.53284</td> <td>24.2543</td>\n        </tr>\n        <tr>\n            <td>Chicago Bulls        </td> <td>20.8488</td> <td>6.93489</td> <td>22.3431</td> <td>3.91632</td> <td>24.7779</td>\n        </tr>\n        <tr>\n            <td>Cleveland Cavaliers  </td> <td>31.0094</td> <td>19.689 </td> <td>19.6548</td> <td>22.9705</td> <td>8.98876</td>\n        </tr>\n        <tr>\n            <td>Dallas Mavericks     </td> <td>6.47096</td> <td>23.827 </td> <td>17.6727</td> <td>15.3615</td> <td>2.43035</td>\n        </tr>\n        <tr>\n            <td>Denver Nuggets       </td> <td>10.4652</td> <td>14.05  </td> <td>7.44724</td> <td>28.7831</td> <td>1.6839 </td>\n        </tr>\n        <tr>\n            <td>Detroit Pistons      </td> <td>12.2721</td> <td>0      </td> <td>13.913 </td> <td>6.86486</td> <td>9.16176</td>\n        </tr>\n        <tr>\n            <td>Golden State Warriors</td> <td>19.6237</td> <td>21.5591</td> <td>16.9145</td> <td>17.9868</td> <td>18.001 </td>\n        </tr>\n    </tbody>\n</table>\n<p>... (20 rows omitted)</p>"
     },
     "metadata": {},
     "execution_count": 110
    }
   ],
   "source": [
    "nba.pivot('POSITION', 'TEAM', values='SALARY', collect=sum)"
   ]
  },
  {
   "source": [
    "## Example: Education in California"
   ],
   "cell_type": "markdown",
   "metadata": {}
  },
  {
   "cell_type": "code",
   "execution_count": 112,
   "metadata": {},
   "outputs": [
    {
     "output_type": "execute_result",
     "data": {
      "text/plain": "Year        | Age       | Gender | Educational Attainment         | Personal Income     | Population Count\n1/1/14 0:00 | 18 to 64  | Female | No high school diploma         | H: 75,000 and over  | 2058\n1/1/14 0:00 | 65 to 80+ | Male   | No high school diploma         | H: 75,000 and over  | 2153\n1/1/14 0:00 | 65 to 80+ | Female | No high school diploma         | G: 50,000 to 74,999 | 4666\n1/1/14 0:00 | 65 to 80+ | Female | High school or equivalent      | H: 75,000 and over  | 7122\n1/1/14 0:00 | 65 to 80+ | Female | No high school diploma         | F: 35,000 to 49,999 | 7261\n1/1/14 0:00 | 65 to 80+ | Male   | No high school diploma         | G: 50,000 to 74,999 | 8569\n1/1/14 0:00 | 18 to 64  | Female | No high school diploma         | G: 50,000 to 74,999 | 14635\n1/1/14 0:00 | 65 to 80+ | Male   | No high school diploma         | F: 35,000 to 49,999 | 15212\n1/1/14 0:00 | 65 to 80+ | Male   | College, less than 4-yr degree | B: 5,000 to 9,999   | 15423\n1/1/14 0:00 | 65 to 80+ | Female | Bachelor's degree or higher    | A: 0 to 4,999       | 15459\n... (117 rows omitted)",
      "text/html": "<table border=\"1\" class=\"dataframe\">\n    <thead>\n        <tr>\n            <th>Year</th> <th>Age</th> <th>Gender</th> <th>Educational Attainment</th> <th>Personal Income</th> <th>Population Count</th>\n        </tr>\n    </thead>\n    <tbody>\n        <tr>\n            <td>1/1/14 0:00</td> <td>18 to 64 </td> <td>Female</td> <td>No high school diploma        </td> <td>H: 75,000 and over </td> <td>2058            </td>\n        </tr>\n        <tr>\n            <td>1/1/14 0:00</td> <td>65 to 80+</td> <td>Male  </td> <td>No high school diploma        </td> <td>H: 75,000 and over </td> <td>2153            </td>\n        </tr>\n        <tr>\n            <td>1/1/14 0:00</td> <td>65 to 80+</td> <td>Female</td> <td>No high school diploma        </td> <td>G: 50,000 to 74,999</td> <td>4666            </td>\n        </tr>\n        <tr>\n            <td>1/1/14 0:00</td> <td>65 to 80+</td> <td>Female</td> <td>High school or equivalent     </td> <td>H: 75,000 and over </td> <td>7122            </td>\n        </tr>\n        <tr>\n            <td>1/1/14 0:00</td> <td>65 to 80+</td> <td>Female</td> <td>No high school diploma        </td> <td>F: 35,000 to 49,999</td> <td>7261            </td>\n        </tr>\n        <tr>\n            <td>1/1/14 0:00</td> <td>65 to 80+</td> <td>Male  </td> <td>No high school diploma        </td> <td>G: 50,000 to 74,999</td> <td>8569            </td>\n        </tr>\n        <tr>\n            <td>1/1/14 0:00</td> <td>18 to 64 </td> <td>Female</td> <td>No high school diploma        </td> <td>G: 50,000 to 74,999</td> <td>14635           </td>\n        </tr>\n        <tr>\n            <td>1/1/14 0:00</td> <td>65 to 80+</td> <td>Male  </td> <td>No high school diploma        </td> <td>F: 35,000 to 49,999</td> <td>15212           </td>\n        </tr>\n        <tr>\n            <td>1/1/14 0:00</td> <td>65 to 80+</td> <td>Male  </td> <td>College, less than 4-yr degree</td> <td>B: 5,000 to 9,999  </td> <td>15423           </td>\n        </tr>\n        <tr>\n            <td>1/1/14 0:00</td> <td>65 to 80+</td> <td>Female</td> <td>Bachelor's degree or higher   </td> <td>A: 0 to 4,999      </td> <td>15459           </td>\n        </tr>\n    </tbody>\n</table>\n<p>... (117 rows omitted)</p>"
     },
     "metadata": {},
     "execution_count": 112
    }
   ],
   "source": [
    "full_table = Table.read_table(path_data + 'educ_inc.csv')\n",
    "ca_2014 = full_table.where('Year', are.equal_to('1/1/14 0:00')).where('Age', are.not_equal_to('00 to 17'))\n",
    "ca_2014\n"
   ]
  },
  {
   "cell_type": "code",
   "execution_count": 113,
   "metadata": {},
   "outputs": [
    {
     "output_type": "execute_result",
     "data": {
      "text/plain": "Educational Attainment         | Personal Income     | Population Count\nNo high school diploma         | H: 75,000 and over  | 2058\nNo high school diploma         | H: 75,000 and over  | 2153\nNo high school diploma         | G: 50,000 to 74,999 | 4666\nHigh school or equivalent      | H: 75,000 and over  | 7122\nNo high school diploma         | F: 35,000 to 49,999 | 7261\nNo high school diploma         | G: 50,000 to 74,999 | 8569\nNo high school diploma         | G: 50,000 to 74,999 | 14635\nNo high school diploma         | F: 35,000 to 49,999 | 15212\nCollege, less than 4-yr degree | B: 5,000 to 9,999   | 15423\nBachelor's degree or higher    | A: 0 to 4,999       | 15459\n... (117 rows omitted)",
      "text/html": "<table border=\"1\" class=\"dataframe\">\n    <thead>\n        <tr>\n            <th>Educational Attainment</th> <th>Personal Income</th> <th>Population Count</th>\n        </tr>\n    </thead>\n    <tbody>\n        <tr>\n            <td>No high school diploma        </td> <td>H: 75,000 and over </td> <td>2058            </td>\n        </tr>\n        <tr>\n            <td>No high school diploma        </td> <td>H: 75,000 and over </td> <td>2153            </td>\n        </tr>\n        <tr>\n            <td>No high school diploma        </td> <td>G: 50,000 to 74,999</td> <td>4666            </td>\n        </tr>\n        <tr>\n            <td>High school or equivalent     </td> <td>H: 75,000 and over </td> <td>7122            </td>\n        </tr>\n        <tr>\n            <td>No high school diploma        </td> <td>F: 35,000 to 49,999</td> <td>7261            </td>\n        </tr>\n        <tr>\n            <td>No high school diploma        </td> <td>G: 50,000 to 74,999</td> <td>8569            </td>\n        </tr>\n        <tr>\n            <td>No high school diploma        </td> <td>G: 50,000 to 74,999</td> <td>14635           </td>\n        </tr>\n        <tr>\n            <td>No high school diploma        </td> <td>F: 35,000 to 49,999</td> <td>15212           </td>\n        </tr>\n        <tr>\n            <td>College, less than 4-yr degree</td> <td>B: 5,000 to 9,999  </td> <td>15423           </td>\n        </tr>\n        <tr>\n            <td>Bachelor's degree or higher   </td> <td>A: 0 to 4,999      </td> <td>15459           </td>\n        </tr>\n    </tbody>\n</table>\n<p>... (117 rows omitted)</p>"
     },
     "metadata": {},
     "execution_count": 113
    }
   ],
   "source": [
    "#let us take a subset\n",
    "educ_inc = ca_2014.select('Educational Attainment', 'Personal Income', 'Population Count')\n",
    "educ_inc"
   ]
  },
  {
   "cell_type": "code",
   "execution_count": 120,
   "metadata": {},
   "outputs": [
    {
     "output_type": "execute_result",
     "data": {
      "text/plain": "Educational Attainment         | Personal Income sum | Population Count sum\nBachelor's degree or higher    |                     | 8525698\nCollege, less than 4-yr degree |                     | 7775497\nHigh school or equivalent      |                     | 6294141\nNo high school diploma         |                     | 4258277",
      "text/html": "<table border=\"1\" class=\"dataframe\">\n    <thead>\n        <tr>\n            <th>Educational Attainment</th> <th>Personal Income sum</th> <th>Population Count sum</th>\n        </tr>\n    </thead>\n    <tbody>\n        <tr>\n            <td>Bachelor's degree or higher   </td> <td>                   </td> <td>8525698             </td>\n        </tr>\n        <tr>\n            <td>College, less than 4-yr degree</td> <td>                   </td> <td>7775497             </td>\n        </tr>\n        <tr>\n            <td>High school or equivalent     </td> <td>                   </td> <td>6294141             </td>\n        </tr>\n        <tr>\n            <td>No high school diploma        </td> <td>                   </td> <td>4258277             </td>\n        </tr>\n    </tbody>\n</table>"
     },
     "metadata": {},
     "execution_count": 120
    }
   ],
   "source": [
    "education = educ_inc.group(0,sum)\n",
    "education"
   ]
  },
  {
   "cell_type": "code",
   "execution_count": 121,
   "metadata": {},
   "outputs": [
    {
     "output_type": "execute_result",
     "data": {
      "text/plain": "array([31.74879298, 28.95512421, 23.43871195, 15.85737085])"
     },
     "metadata": {},
     "execution_count": 121
    }
   ],
   "source": [
    "(education.column(2)/sum(education.column(2)))*100"
   ]
  },
  {
   "cell_type": "code",
   "execution_count": 124,
   "metadata": {},
   "outputs": [],
   "source": [
    "# let us formulate hte above logic as a function\n",
    "def percents (array_x):\n",
    "    \"\"\" return the percent of each row of an array to its sum \"\"\"\n",
    "    return np.round((array_x/sum(array_x))*100,2)"
   ]
  },
  {
   "cell_type": "code",
   "execution_count": 125,
   "metadata": {},
   "outputs": [
    {
     "output_type": "execute_result",
     "data": {
      "text/plain": "Educational Attainment         | Personal Income sum | Population Count sum | population %\nBachelor's degree or higher    |                     | 8525698              | 31.75\nCollege, less than 4-yr degree |                     | 7775497              | 28.96\nHigh school or equivalent      |                     | 6294141              | 23.44\nNo high school diploma         |                     | 4258277              | 15.86",
      "text/html": "<table border=\"1\" class=\"dataframe\">\n    <thead>\n        <tr>\n            <th>Educational Attainment</th> <th>Personal Income sum</th> <th>Population Count sum</th> <th>population %</th>\n        </tr>\n    </thead>\n    <tbody>\n        <tr>\n            <td>Bachelor's degree or higher   </td> <td>                   </td> <td>8525698             </td> <td>31.75       </td>\n        </tr>\n        <tr>\n            <td>College, less than 4-yr degree</td> <td>                   </td> <td>7775497             </td> <td>28.96       </td>\n        </tr>\n        <tr>\n            <td>High school or equivalent     </td> <td>                   </td> <td>6294141             </td> <td>23.44       </td>\n        </tr>\n        <tr>\n            <td>No high school diploma        </td> <td>                   </td> <td>4258277             </td> <td>15.86       </td>\n        </tr>\n    </tbody>\n</table>"
     },
     "metadata": {},
     "execution_count": 125
    }
   ],
   "source": [
    "education.with_columns(\"population %\", percents(education.column(2)))"
   ]
  },
  {
   "cell_type": "code",
   "execution_count": 126,
   "metadata": {},
   "outputs": [
    {
     "output_type": "execute_result",
     "data": {
      "text/plain": "Personal Income     | Bachelor's degree or higher | College, less than 4-yr degree | High school or equivalent | No high school diploma\nA: 0 to 4,999       | 575491                      | 985011                         | 1161873                   | 1204529\nB: 5,000 to 9,999   | 326020                      | 810641                         | 626499                    | 597039\nC: 10,000 to 14,999 | 452449                      | 798596                         | 692661                    | 664607\nD: 15,000 to 24,999 | 773684                      | 1345257                        | 1252377                   | 875498\nE: 25,000 to 34,999 | 693884                      | 1091642                        | 929218                    | 464564\nF: 35,000 to 49,999 | 1122791                     | 1112421                        | 782804                    | 260579\nG: 50,000 to 74,999 | 1594681                     | 883826                         | 525517                    | 132516\nH: 75,000 and over  | 2986698                     | 748103                         | 323192                    | 58945",
      "text/html": "<table border=\"1\" class=\"dataframe\">\n    <thead>\n        <tr>\n            <th>Personal Income</th> <th>Bachelor's degree or higher</th> <th>College, less than 4-yr degree</th> <th>High school or equivalent</th> <th>No high school diploma</th>\n        </tr>\n    </thead>\n    <tbody>\n        <tr>\n            <td>A: 0 to 4,999      </td> <td>575491                     </td> <td>985011                        </td> <td>1161873                  </td> <td>1204529               </td>\n        </tr>\n        <tr>\n            <td>B: 5,000 to 9,999  </td> <td>326020                     </td> <td>810641                        </td> <td>626499                   </td> <td>597039                </td>\n        </tr>\n        <tr>\n            <td>C: 10,000 to 14,999</td> <td>452449                     </td> <td>798596                        </td> <td>692661                   </td> <td>664607                </td>\n        </tr>\n        <tr>\n            <td>D: 15,000 to 24,999</td> <td>773684                     </td> <td>1345257                       </td> <td>1252377                  </td> <td>875498                </td>\n        </tr>\n        <tr>\n            <td>E: 25,000 to 34,999</td> <td>693884                     </td> <td>1091642                       </td> <td>929218                   </td> <td>464564                </td>\n        </tr>\n        <tr>\n            <td>F: 35,000 to 49,999</td> <td>1122791                    </td> <td>1112421                       </td> <td>782804                   </td> <td>260579                </td>\n        </tr>\n        <tr>\n            <td>G: 50,000 to 74,999</td> <td>1594681                    </td> <td>883826                        </td> <td>525517                   </td> <td>132516                </td>\n        </tr>\n        <tr>\n            <td>H: 75,000 and over </td> <td>2986698                    </td> <td>748103                        </td> <td>323192                   </td> <td>58945                 </td>\n        </tr>\n    </tbody>\n</table>"
     },
     "metadata": {},
     "execution_count": 126
    }
   ],
   "source": [
    "totals = educ_inc.pivot('Educational Attainment', 'Personal Income', values='Population Count', collect=sum)\n",
    "totals"
   ]
  },
  {
   "cell_type": "code",
   "execution_count": 127,
   "metadata": {},
   "outputs": [
    {
     "output_type": "execute_result",
     "data": {
      "text/plain": "Personal Income     | Bachelor's degree or higher | College, less than 4-yr degree | High school or equivalent | No high school diploma\nA: 0 to 4,999       | 6.75                        | 12.67                          | 18.46                     | 28.29\nB: 5,000 to 9,999   | 3.82                        | 10.43                          | 9.95                      | 14.02\nC: 10,000 to 14,999 | 5.31                        | 10.27                          | 11                        | 15.61\nD: 15,000 to 24,999 | 9.07                        | 17.3                           | 19.9                      | 20.56\nE: 25,000 to 34,999 | 8.14                        | 14.04                          | 14.76                     | 10.91\nF: 35,000 to 49,999 | 13.17                       | 14.31                          | 12.44                     | 6.12\nG: 50,000 to 74,999 | 18.7                        | 11.37                          | 8.35                      | 3.11\nH: 75,000 and over  | 35.03                       | 9.62                           | 5.13                      | 1.38",
      "text/html": "<table border=\"1\" class=\"dataframe\">\n    <thead>\n        <tr>\n            <th>Personal Income</th> <th>Bachelor's degree or higher</th> <th>College, less than 4-yr degree</th> <th>High school or equivalent</th> <th>No high school diploma</th>\n        </tr>\n    </thead>\n    <tbody>\n        <tr>\n            <td>A: 0 to 4,999      </td> <td>6.75                       </td> <td>12.67                         </td> <td>18.46                    </td> <td>28.29                 </td>\n        </tr>\n        <tr>\n            <td>B: 5,000 to 9,999  </td> <td>3.82                       </td> <td>10.43                         </td> <td>9.95                     </td> <td>14.02                 </td>\n        </tr>\n        <tr>\n            <td>C: 10,000 to 14,999</td> <td>5.31                       </td> <td>10.27                         </td> <td>11                       </td> <td>15.61                 </td>\n        </tr>\n        <tr>\n            <td>D: 15,000 to 24,999</td> <td>9.07                       </td> <td>17.3                          </td> <td>19.9                     </td> <td>20.56                 </td>\n        </tr>\n        <tr>\n            <td>E: 25,000 to 34,999</td> <td>8.14                       </td> <td>14.04                         </td> <td>14.76                    </td> <td>10.91                 </td>\n        </tr>\n        <tr>\n            <td>F: 35,000 to 49,999</td> <td>13.17                      </td> <td>14.31                         </td> <td>12.44                    </td> <td>6.12                  </td>\n        </tr>\n        <tr>\n            <td>G: 50,000 to 74,999</td> <td>18.7                       </td> <td>11.37                         </td> <td>8.35                     </td> <td>3.11                  </td>\n        </tr>\n        <tr>\n            <td>H: 75,000 and over </td> <td>35.03                      </td> <td>9.62                          </td> <td>5.13                     </td> <td>1.38                  </td>\n        </tr>\n    </tbody>\n</table>"
     },
     "metadata": {},
     "execution_count": 127
    }
   ],
   "source": [
    "distributions = totals.select(0).with_columns(\n",
    "    \"Bachelor's degree or higher\", percents(totals.column(1)),\n",
    "    'College, less than 4-yr degree', percents(totals.column(2)),\n",
    "    'High school or equivalent', percents(totals.column(3)),\n",
    "    'No high school diploma', percents(totals.column(4))   \n",
    "    )\n",
    "\n",
    "distributions"
   ]
  },
  {
   "cell_type": "code",
   "execution_count": 128,
   "metadata": {},
   "outputs": [
    {
     "output_type": "display_data",
     "data": {
      "text/plain": "<Figure size 432x288 with 1 Axes>",
      "image/svg+xml": "<?xml version=\"1.0\" encoding=\"utf-8\" standalone=\"no\"?>\n<!DOCTYPE svg PUBLIC \"-//W3C//DTD SVG 1.1//EN\"\n  \"http://www.w3.org/Graphics/SVG/1.1/DTD/svg11.dtd\">\n<!-- Created with matplotlib (https://matplotlib.org/) -->\n<svg height=\"264.729375pt\" version=\"1.1\" viewBox=\"0 0 825.47375 264.729375\" width=\"825.47375pt\" xmlns=\"http://www.w3.org/2000/svg\" xmlns:xlink=\"http://www.w3.org/1999/xlink\">\n <metadata>\n  <rdf:RDF xmlns:cc=\"http://creativecommons.org/ns#\" xmlns:dc=\"http://purl.org/dc/elements/1.1/\" xmlns:rdf=\"http://www.w3.org/1999/02/22-rdf-syntax-ns#\">\n   <cc:Work>\n    <dc:type rdf:resource=\"http://purl.org/dc/dcmitype/StillImage\"/>\n    <dc:date>2020-09-26T12:11:38.317629</dc:date>\n    <dc:format>image/svg+xml</dc:format>\n    <dc:creator>\n     <cc:Agent>\n      <dc:title>Matplotlib v3.3.1, https://matplotlib.org/</dc:title>\n     </cc:Agent>\n    </dc:creator>\n   </cc:Work>\n  </rdf:RDF>\n </metadata>\n <defs>\n  <style type=\"text/css\">*{stroke-linecap:butt;stroke-linejoin:round;}</style>\n </defs>\n <g id=\"figure_1\">\n  <g id=\"patch_1\">\n   <path d=\"M 0 264.729375 \nL 825.47375 264.729375 \nL 825.47375 0 \nL 0 0 \nz\n\" style=\"fill:#f0f0f0;\"/>\n  </g>\n  <g id=\"axes_1\">\n   <g id=\"patch_2\">\n    <path d=\"M 171.899875 240.48 \nL 547.739875 240.48 \nL 547.739875 7.2 \nL 171.899875 7.2 \nz\n\" style=\"fill:#f0f0f0;\"/>\n   </g>\n   <g id=\"matplotlib.axis_1\">\n    <g id=\"xtick_1\">\n     <g id=\"line2d_1\">\n      <path clip-path=\"url(#p3b99eb33db)\" d=\"M 171.899875 240.48 \nL 171.899875 7.2 \n\" style=\"fill:none;stroke:#cbcbcb;\"/>\n     </g>\n     <g id=\"line2d_2\"/>\n     <g id=\"text_1\">\n      <!-- 0 -->\n      <g transform=\"translate(167.446125 254.617813)scale(0.14 -0.14)\">\n       <defs>\n        <path d=\"M 31.78125 66.40625 \nQ 24.171875 66.40625 20.328125 58.90625 \nQ 16.5 51.421875 16.5 36.375 \nQ 16.5 21.390625 20.328125 13.890625 \nQ 24.171875 6.390625 31.78125 6.390625 \nQ 39.453125 6.390625 43.28125 13.890625 \nQ 47.125 21.390625 47.125 36.375 \nQ 47.125 51.421875 43.28125 58.90625 \nQ 39.453125 66.40625 31.78125 66.40625 \nz\nM 31.78125 74.21875 \nQ 44.046875 74.21875 50.515625 64.515625 \nQ 56.984375 54.828125 56.984375 36.375 \nQ 56.984375 17.96875 50.515625 8.265625 \nQ 44.046875 -1.421875 31.78125 -1.421875 \nQ 19.53125 -1.421875 13.0625 8.265625 \nQ 6.59375 17.96875 6.59375 36.375 \nQ 6.59375 54.828125 13.0625 64.515625 \nQ 19.53125 74.21875 31.78125 74.21875 \nz\n\" id=\"DejaVuSans-48\"/>\n       </defs>\n       <use xlink:href=\"#DejaVuSans-48\"/>\n      </g>\n     </g>\n    </g>\n    <g id=\"xtick_2\">\n     <g id=\"line2d_3\">\n      <path clip-path=\"url(#p3b99eb33db)\" d=\"M 222.990777 240.48 \nL 222.990777 7.2 \n\" style=\"fill:none;stroke:#cbcbcb;\"/>\n     </g>\n     <g id=\"line2d_4\"/>\n     <g id=\"text_2\">\n      <!-- 5 -->\n      <g transform=\"translate(218.537027 254.617813)scale(0.14 -0.14)\">\n       <defs>\n        <path d=\"M 10.796875 72.90625 \nL 49.515625 72.90625 \nL 49.515625 64.59375 \nL 19.828125 64.59375 \nL 19.828125 46.734375 \nQ 21.96875 47.46875 24.109375 47.828125 \nQ 26.265625 48.1875 28.421875 48.1875 \nQ 40.625 48.1875 47.75 41.5 \nQ 54.890625 34.8125 54.890625 23.390625 \nQ 54.890625 11.625 47.5625 5.09375 \nQ 40.234375 -1.421875 26.90625 -1.421875 \nQ 22.3125 -1.421875 17.546875 -0.640625 \nQ 12.796875 0.140625 7.71875 1.703125 \nL 7.71875 11.625 \nQ 12.109375 9.234375 16.796875 8.0625 \nQ 21.484375 6.890625 26.703125 6.890625 \nQ 35.15625 6.890625 40.078125 11.328125 \nQ 45.015625 15.765625 45.015625 23.390625 \nQ 45.015625 31 40.078125 35.4375 \nQ 35.15625 39.890625 26.703125 39.890625 \nQ 22.75 39.890625 18.8125 39.015625 \nQ 14.890625 38.140625 10.796875 36.28125 \nz\n\" id=\"DejaVuSans-53\"/>\n       </defs>\n       <use xlink:href=\"#DejaVuSans-53\"/>\n      </g>\n     </g>\n    </g>\n    <g id=\"xtick_3\">\n     <g id=\"line2d_5\">\n      <path clip-path=\"url(#p3b99eb33db)\" d=\"M 274.081678 240.48 \nL 274.081678 7.2 \n\" style=\"fill:none;stroke:#cbcbcb;\"/>\n     </g>\n     <g id=\"line2d_6\"/>\n     <g id=\"text_3\">\n      <!-- 10 -->\n      <g transform=\"translate(265.174178 254.617813)scale(0.14 -0.14)\">\n       <defs>\n        <path d=\"M 12.40625 8.296875 \nL 28.515625 8.296875 \nL 28.515625 63.921875 \nL 10.984375 60.40625 \nL 10.984375 69.390625 \nL 28.421875 72.90625 \nL 38.28125 72.90625 \nL 38.28125 8.296875 \nL 54.390625 8.296875 \nL 54.390625 0 \nL 12.40625 0 \nz\n\" id=\"DejaVuSans-49\"/>\n       </defs>\n       <use xlink:href=\"#DejaVuSans-49\"/>\n       <use x=\"63.623047\" xlink:href=\"#DejaVuSans-48\"/>\n      </g>\n     </g>\n    </g>\n    <g id=\"xtick_4\">\n     <g id=\"line2d_7\">\n      <path clip-path=\"url(#p3b99eb33db)\" d=\"M 325.17258 240.48 \nL 325.17258 7.2 \n\" style=\"fill:none;stroke:#cbcbcb;\"/>\n     </g>\n     <g id=\"line2d_8\"/>\n     <g id=\"text_4\">\n      <!-- 15 -->\n      <g transform=\"translate(316.26508 254.617813)scale(0.14 -0.14)\">\n       <use xlink:href=\"#DejaVuSans-49\"/>\n       <use x=\"63.623047\" xlink:href=\"#DejaVuSans-53\"/>\n      </g>\n     </g>\n    </g>\n    <g id=\"xtick_5\">\n     <g id=\"line2d_9\">\n      <path clip-path=\"url(#p3b99eb33db)\" d=\"M 376.263482 240.48 \nL 376.263482 7.2 \n\" style=\"fill:none;stroke:#cbcbcb;\"/>\n     </g>\n     <g id=\"line2d_10\"/>\n     <g id=\"text_5\">\n      <!-- 20 -->\n      <g transform=\"translate(367.355982 254.617813)scale(0.14 -0.14)\">\n       <defs>\n        <path d=\"M 19.1875 8.296875 \nL 53.609375 8.296875 \nL 53.609375 0 \nL 7.328125 0 \nL 7.328125 8.296875 \nQ 12.9375 14.109375 22.625 23.890625 \nQ 32.328125 33.6875 34.8125 36.53125 \nQ 39.546875 41.84375 41.421875 45.53125 \nQ 43.3125 49.21875 43.3125 52.78125 \nQ 43.3125 58.59375 39.234375 62.25 \nQ 35.15625 65.921875 28.609375 65.921875 \nQ 23.96875 65.921875 18.8125 64.3125 \nQ 13.671875 62.703125 7.8125 59.421875 \nL 7.8125 69.390625 \nQ 13.765625 71.78125 18.9375 73 \nQ 24.125 74.21875 28.421875 74.21875 \nQ 39.75 74.21875 46.484375 68.546875 \nQ 53.21875 62.890625 53.21875 53.421875 \nQ 53.21875 48.921875 51.53125 44.890625 \nQ 49.859375 40.875 45.40625 35.40625 \nQ 44.1875 33.984375 37.640625 27.21875 \nQ 31.109375 20.453125 19.1875 8.296875 \nz\n\" id=\"DejaVuSans-50\"/>\n       </defs>\n       <use xlink:href=\"#DejaVuSans-50\"/>\n       <use x=\"63.623047\" xlink:href=\"#DejaVuSans-48\"/>\n      </g>\n     </g>\n    </g>\n    <g id=\"xtick_6\">\n     <g id=\"line2d_11\">\n      <path clip-path=\"url(#p3b99eb33db)\" d=\"M 427.354383 240.48 \nL 427.354383 7.2 \n\" style=\"fill:none;stroke:#cbcbcb;\"/>\n     </g>\n     <g id=\"line2d_12\"/>\n     <g id=\"text_6\">\n      <!-- 25 -->\n      <g transform=\"translate(418.446883 254.617813)scale(0.14 -0.14)\">\n       <use xlink:href=\"#DejaVuSans-50\"/>\n       <use x=\"63.623047\" xlink:href=\"#DejaVuSans-53\"/>\n      </g>\n     </g>\n    </g>\n    <g id=\"xtick_7\">\n     <g id=\"line2d_13\">\n      <path clip-path=\"url(#p3b99eb33db)\" d=\"M 478.445285 240.48 \nL 478.445285 7.2 \n\" style=\"fill:none;stroke:#cbcbcb;\"/>\n     </g>\n     <g id=\"line2d_14\"/>\n     <g id=\"text_7\">\n      <!-- 30 -->\n      <g transform=\"translate(469.537785 254.617813)scale(0.14 -0.14)\">\n       <defs>\n        <path d=\"M 40.578125 39.3125 \nQ 47.65625 37.796875 51.625 33 \nQ 55.609375 28.21875 55.609375 21.1875 \nQ 55.609375 10.40625 48.1875 4.484375 \nQ 40.765625 -1.421875 27.09375 -1.421875 \nQ 22.515625 -1.421875 17.65625 -0.515625 \nQ 12.796875 0.390625 7.625 2.203125 \nL 7.625 11.71875 \nQ 11.71875 9.328125 16.59375 8.109375 \nQ 21.484375 6.890625 26.8125 6.890625 \nQ 36.078125 6.890625 40.9375 10.546875 \nQ 45.796875 14.203125 45.796875 21.1875 \nQ 45.796875 27.640625 41.28125 31.265625 \nQ 36.765625 34.90625 28.71875 34.90625 \nL 20.21875 34.90625 \nL 20.21875 43.015625 \nL 29.109375 43.015625 \nQ 36.375 43.015625 40.234375 45.921875 \nQ 44.09375 48.828125 44.09375 54.296875 \nQ 44.09375 59.90625 40.109375 62.90625 \nQ 36.140625 65.921875 28.71875 65.921875 \nQ 24.65625 65.921875 20.015625 65.03125 \nQ 15.375 64.15625 9.8125 62.3125 \nL 9.8125 71.09375 \nQ 15.4375 72.65625 20.34375 73.4375 \nQ 25.25 74.21875 29.59375 74.21875 \nQ 40.828125 74.21875 47.359375 69.109375 \nQ 53.90625 64.015625 53.90625 55.328125 \nQ 53.90625 49.265625 50.4375 45.09375 \nQ 46.96875 40.921875 40.578125 39.3125 \nz\n\" id=\"DejaVuSans-51\"/>\n       </defs>\n       <use xlink:href=\"#DejaVuSans-51\"/>\n       <use x=\"63.623047\" xlink:href=\"#DejaVuSans-48\"/>\n      </g>\n     </g>\n    </g>\n    <g id=\"xtick_8\">\n     <g id=\"line2d_15\">\n      <path clip-path=\"url(#p3b99eb33db)\" d=\"M 529.536187 240.48 \nL 529.536187 7.2 \n\" style=\"fill:none;stroke:#cbcbcb;\"/>\n     </g>\n     <g id=\"line2d_16\"/>\n     <g id=\"text_8\">\n      <!-- 35 -->\n      <g transform=\"translate(520.628687 254.617813)scale(0.14 -0.14)\">\n       <use xlink:href=\"#DejaVuSans-51\"/>\n       <use x=\"63.623047\" xlink:href=\"#DejaVuSans-53\"/>\n      </g>\n     </g>\n    </g>\n   </g>\n   <g id=\"matplotlib.axis_2\">\n    <g id=\"ytick_1\">\n     <g id=\"line2d_17\">\n      <path clip-path=\"url(#p3b99eb33db)\" d=\"M 171.899875 219.000839 \nL 547.739875 219.000839 \n\" style=\"fill:none;stroke:#cbcbcb;\"/>\n     </g>\n     <g id=\"line2d_18\"/>\n     <g id=\"text_9\">\n      <!-- H: 75,000 and over -->\n      <g transform=\"translate(33.258312 224.319745)scale(0.14 -0.14)\">\n       <defs>\n        <path d=\"M 9.8125 72.90625 \nL 19.671875 72.90625 \nL 19.671875 43.015625 \nL 55.515625 43.015625 \nL 55.515625 72.90625 \nL 65.375 72.90625 \nL 65.375 0 \nL 55.515625 0 \nL 55.515625 34.71875 \nL 19.671875 34.71875 \nL 19.671875 0 \nL 9.8125 0 \nz\n\" id=\"DejaVuSans-72\"/>\n        <path d=\"M 11.71875 12.40625 \nL 22.015625 12.40625 \nL 22.015625 0 \nL 11.71875 0 \nz\nM 11.71875 51.703125 \nL 22.015625 51.703125 \nL 22.015625 39.3125 \nL 11.71875 39.3125 \nz\n\" id=\"DejaVuSans-58\"/>\n        <path id=\"DejaVuSans-32\"/>\n        <path d=\"M 8.203125 72.90625 \nL 55.078125 72.90625 \nL 55.078125 68.703125 \nL 28.609375 0 \nL 18.3125 0 \nL 43.21875 64.59375 \nL 8.203125 64.59375 \nz\n\" id=\"DejaVuSans-55\"/>\n        <path d=\"M 11.71875 12.40625 \nL 22.015625 12.40625 \nL 22.015625 4 \nL 14.015625 -11.625 \nL 7.71875 -11.625 \nL 11.71875 4 \nz\n\" id=\"DejaVuSans-44\"/>\n        <path d=\"M 34.28125 27.484375 \nQ 23.390625 27.484375 19.1875 25 \nQ 14.984375 22.515625 14.984375 16.5 \nQ 14.984375 11.71875 18.140625 8.90625 \nQ 21.296875 6.109375 26.703125 6.109375 \nQ 34.1875 6.109375 38.703125 11.40625 \nQ 43.21875 16.703125 43.21875 25.484375 \nL 43.21875 27.484375 \nz\nM 52.203125 31.203125 \nL 52.203125 0 \nL 43.21875 0 \nL 43.21875 8.296875 \nQ 40.140625 3.328125 35.546875 0.953125 \nQ 30.953125 -1.421875 24.3125 -1.421875 \nQ 15.921875 -1.421875 10.953125 3.296875 \nQ 6 8.015625 6 15.921875 \nQ 6 25.140625 12.171875 29.828125 \nQ 18.359375 34.515625 30.609375 34.515625 \nL 43.21875 34.515625 \nL 43.21875 35.40625 \nQ 43.21875 41.609375 39.140625 45 \nQ 35.0625 48.390625 27.6875 48.390625 \nQ 23 48.390625 18.546875 47.265625 \nQ 14.109375 46.140625 10.015625 43.890625 \nL 10.015625 52.203125 \nQ 14.9375 54.109375 19.578125 55.046875 \nQ 24.21875 56 28.609375 56 \nQ 40.484375 56 46.34375 49.84375 \nQ 52.203125 43.703125 52.203125 31.203125 \nz\n\" id=\"DejaVuSans-97\"/>\n        <path d=\"M 54.890625 33.015625 \nL 54.890625 0 \nL 45.90625 0 \nL 45.90625 32.71875 \nQ 45.90625 40.484375 42.875 44.328125 \nQ 39.84375 48.1875 33.796875 48.1875 \nQ 26.515625 48.1875 22.3125 43.546875 \nQ 18.109375 38.921875 18.109375 30.90625 \nL 18.109375 0 \nL 9.078125 0 \nL 9.078125 54.6875 \nL 18.109375 54.6875 \nL 18.109375 46.1875 \nQ 21.34375 51.125 25.703125 53.5625 \nQ 30.078125 56 35.796875 56 \nQ 45.21875 56 50.046875 50.171875 \nQ 54.890625 44.34375 54.890625 33.015625 \nz\n\" id=\"DejaVuSans-110\"/>\n        <path d=\"M 45.40625 46.390625 \nL 45.40625 75.984375 \nL 54.390625 75.984375 \nL 54.390625 0 \nL 45.40625 0 \nL 45.40625 8.203125 \nQ 42.578125 3.328125 38.25 0.953125 \nQ 33.9375 -1.421875 27.875 -1.421875 \nQ 17.96875 -1.421875 11.734375 6.484375 \nQ 5.515625 14.40625 5.515625 27.296875 \nQ 5.515625 40.1875 11.734375 48.09375 \nQ 17.96875 56 27.875 56 \nQ 33.9375 56 38.25 53.625 \nQ 42.578125 51.265625 45.40625 46.390625 \nz\nM 14.796875 27.296875 \nQ 14.796875 17.390625 18.875 11.75 \nQ 22.953125 6.109375 30.078125 6.109375 \nQ 37.203125 6.109375 41.296875 11.75 \nQ 45.40625 17.390625 45.40625 27.296875 \nQ 45.40625 37.203125 41.296875 42.84375 \nQ 37.203125 48.484375 30.078125 48.484375 \nQ 22.953125 48.484375 18.875 42.84375 \nQ 14.796875 37.203125 14.796875 27.296875 \nz\n\" id=\"DejaVuSans-100\"/>\n        <path d=\"M 30.609375 48.390625 \nQ 23.390625 48.390625 19.1875 42.75 \nQ 14.984375 37.109375 14.984375 27.296875 \nQ 14.984375 17.484375 19.15625 11.84375 \nQ 23.34375 6.203125 30.609375 6.203125 \nQ 37.796875 6.203125 41.984375 11.859375 \nQ 46.1875 17.53125 46.1875 27.296875 \nQ 46.1875 37.015625 41.984375 42.703125 \nQ 37.796875 48.390625 30.609375 48.390625 \nz\nM 30.609375 56 \nQ 42.328125 56 49.015625 48.375 \nQ 55.71875 40.765625 55.71875 27.296875 \nQ 55.71875 13.875 49.015625 6.21875 \nQ 42.328125 -1.421875 30.609375 -1.421875 \nQ 18.84375 -1.421875 12.171875 6.21875 \nQ 5.515625 13.875 5.515625 27.296875 \nQ 5.515625 40.765625 12.171875 48.375 \nQ 18.84375 56 30.609375 56 \nz\n\" id=\"DejaVuSans-111\"/>\n        <path d=\"M 2.984375 54.6875 \nL 12.5 54.6875 \nL 29.59375 8.796875 \nL 46.6875 54.6875 \nL 56.203125 54.6875 \nL 35.6875 0 \nL 23.484375 0 \nz\n\" id=\"DejaVuSans-118\"/>\n        <path d=\"M 56.203125 29.59375 \nL 56.203125 25.203125 \nL 14.890625 25.203125 \nQ 15.484375 15.921875 20.484375 11.0625 \nQ 25.484375 6.203125 34.421875 6.203125 \nQ 39.59375 6.203125 44.453125 7.46875 \nQ 49.3125 8.734375 54.109375 11.28125 \nL 54.109375 2.78125 \nQ 49.265625 0.734375 44.1875 -0.34375 \nQ 39.109375 -1.421875 33.890625 -1.421875 \nQ 20.796875 -1.421875 13.15625 6.1875 \nQ 5.515625 13.8125 5.515625 26.8125 \nQ 5.515625 40.234375 12.765625 48.109375 \nQ 20.015625 56 32.328125 56 \nQ 43.359375 56 49.78125 48.890625 \nQ 56.203125 41.796875 56.203125 29.59375 \nz\nM 47.21875 32.234375 \nQ 47.125 39.59375 43.09375 43.984375 \nQ 39.0625 48.390625 32.421875 48.390625 \nQ 24.90625 48.390625 20.390625 44.140625 \nQ 15.875 39.890625 15.1875 32.171875 \nz\n\" id=\"DejaVuSans-101\"/>\n        <path d=\"M 41.109375 46.296875 \nQ 39.59375 47.171875 37.8125 47.578125 \nQ 36.03125 48 33.890625 48 \nQ 26.265625 48 22.1875 43.046875 \nQ 18.109375 38.09375 18.109375 28.8125 \nL 18.109375 0 \nL 9.078125 0 \nL 9.078125 54.6875 \nL 18.109375 54.6875 \nL 18.109375 46.1875 \nQ 20.953125 51.171875 25.484375 53.578125 \nQ 30.03125 56 36.53125 56 \nQ 37.453125 56 38.578125 55.875 \nQ 39.703125 55.765625 41.0625 55.515625 \nz\n\" id=\"DejaVuSans-114\"/>\n       </defs>\n       <use xlink:href=\"#DejaVuSans-72\"/>\n       <use x=\"75.195312\" xlink:href=\"#DejaVuSans-58\"/>\n       <use x=\"108.886719\" xlink:href=\"#DejaVuSans-32\"/>\n       <use x=\"140.673828\" xlink:href=\"#DejaVuSans-55\"/>\n       <use x=\"204.296875\" xlink:href=\"#DejaVuSans-53\"/>\n       <use x=\"267.919922\" xlink:href=\"#DejaVuSans-44\"/>\n       <use x=\"299.707031\" xlink:href=\"#DejaVuSans-48\"/>\n       <use x=\"363.330078\" xlink:href=\"#DejaVuSans-48\"/>\n       <use x=\"426.953125\" xlink:href=\"#DejaVuSans-48\"/>\n       <use x=\"490.576172\" xlink:href=\"#DejaVuSans-32\"/>\n       <use x=\"522.363281\" xlink:href=\"#DejaVuSans-97\"/>\n       <use x=\"583.642578\" xlink:href=\"#DejaVuSans-110\"/>\n       <use x=\"647.021484\" xlink:href=\"#DejaVuSans-100\"/>\n       <use x=\"710.498047\" xlink:href=\"#DejaVuSans-32\"/>\n       <use x=\"742.285156\" xlink:href=\"#DejaVuSans-111\"/>\n       <use x=\"803.466797\" xlink:href=\"#DejaVuSans-118\"/>\n       <use x=\"862.646484\" xlink:href=\"#DejaVuSans-101\"/>\n       <use x=\"924.169922\" xlink:href=\"#DejaVuSans-114\"/>\n      </g>\n     </g>\n    </g>\n    <g id=\"ytick_2\">\n     <g id=\"line2d_19\">\n      <path clip-path=\"url(#p3b99eb33db)\" d=\"M 171.899875 191.812028 \nL 547.739875 191.812028 \n\" style=\"fill:none;stroke:#cbcbcb;\"/>\n     </g>\n     <g id=\"line2d_20\"/>\n     <g id=\"text_10\">\n      <!-- G: 50,000 to 74,999 -->\n      <g transform=\"translate(27.45925 197.130934)scale(0.14 -0.14)\">\n       <defs>\n        <path d=\"M 59.515625 10.40625 \nL 59.515625 29.984375 \nL 43.40625 29.984375 \nL 43.40625 38.09375 \nL 69.28125 38.09375 \nL 69.28125 6.78125 \nQ 63.578125 2.734375 56.6875 0.65625 \nQ 49.8125 -1.421875 42 -1.421875 \nQ 24.90625 -1.421875 15.25 8.5625 \nQ 5.609375 18.5625 5.609375 36.375 \nQ 5.609375 54.25 15.25 64.234375 \nQ 24.90625 74.21875 42 74.21875 \nQ 49.125 74.21875 55.546875 72.453125 \nQ 61.96875 70.703125 67.390625 67.28125 \nL 67.390625 56.78125 \nQ 61.921875 61.421875 55.765625 63.765625 \nQ 49.609375 66.109375 42.828125 66.109375 \nQ 29.4375 66.109375 22.71875 58.640625 \nQ 16.015625 51.171875 16.015625 36.375 \nQ 16.015625 21.625 22.71875 14.15625 \nQ 29.4375 6.6875 42.828125 6.6875 \nQ 48.046875 6.6875 52.140625 7.59375 \nQ 56.25 8.5 59.515625 10.40625 \nz\n\" id=\"DejaVuSans-71\"/>\n        <path d=\"M 18.3125 70.21875 \nL 18.3125 54.6875 \nL 36.8125 54.6875 \nL 36.8125 47.703125 \nL 18.3125 47.703125 \nL 18.3125 18.015625 \nQ 18.3125 11.328125 20.140625 9.421875 \nQ 21.96875 7.515625 27.59375 7.515625 \nL 36.8125 7.515625 \nL 36.8125 0 \nL 27.59375 0 \nQ 17.1875 0 13.234375 3.875 \nQ 9.28125 7.765625 9.28125 18.015625 \nL 9.28125 47.703125 \nL 2.6875 47.703125 \nL 2.6875 54.6875 \nL 9.28125 54.6875 \nL 9.28125 70.21875 \nz\n\" id=\"DejaVuSans-116\"/>\n        <path d=\"M 37.796875 64.3125 \nL 12.890625 25.390625 \nL 37.796875 25.390625 \nz\nM 35.203125 72.90625 \nL 47.609375 72.90625 \nL 47.609375 25.390625 \nL 58.015625 25.390625 \nL 58.015625 17.1875 \nL 47.609375 17.1875 \nL 47.609375 0 \nL 37.796875 0 \nL 37.796875 17.1875 \nL 4.890625 17.1875 \nL 4.890625 26.703125 \nz\n\" id=\"DejaVuSans-52\"/>\n        <path d=\"M 10.984375 1.515625 \nL 10.984375 10.5 \nQ 14.703125 8.734375 18.5 7.8125 \nQ 22.3125 6.890625 25.984375 6.890625 \nQ 35.75 6.890625 40.890625 13.453125 \nQ 46.046875 20.015625 46.78125 33.40625 \nQ 43.953125 29.203125 39.59375 26.953125 \nQ 35.25 24.703125 29.984375 24.703125 \nQ 19.046875 24.703125 12.671875 31.3125 \nQ 6.296875 37.9375 6.296875 49.421875 \nQ 6.296875 60.640625 12.9375 67.421875 \nQ 19.578125 74.21875 30.609375 74.21875 \nQ 43.265625 74.21875 49.921875 64.515625 \nQ 56.59375 54.828125 56.59375 36.375 \nQ 56.59375 19.140625 48.40625 8.859375 \nQ 40.234375 -1.421875 26.421875 -1.421875 \nQ 22.703125 -1.421875 18.890625 -0.6875 \nQ 15.09375 0.046875 10.984375 1.515625 \nz\nM 30.609375 32.421875 \nQ 37.25 32.421875 41.125 36.953125 \nQ 45.015625 41.5 45.015625 49.421875 \nQ 45.015625 57.28125 41.125 61.84375 \nQ 37.25 66.40625 30.609375 66.40625 \nQ 23.96875 66.40625 20.09375 61.84375 \nQ 16.21875 57.28125 16.21875 49.421875 \nQ 16.21875 41.5 20.09375 36.953125 \nQ 23.96875 32.421875 30.609375 32.421875 \nz\n\" id=\"DejaVuSans-57\"/>\n       </defs>\n       <use xlink:href=\"#DejaVuSans-71\"/>\n       <use x=\"77.490234\" xlink:href=\"#DejaVuSans-58\"/>\n       <use x=\"111.181641\" xlink:href=\"#DejaVuSans-32\"/>\n       <use x=\"142.96875\" xlink:href=\"#DejaVuSans-53\"/>\n       <use x=\"206.591797\" xlink:href=\"#DejaVuSans-48\"/>\n       <use x=\"270.214844\" xlink:href=\"#DejaVuSans-44\"/>\n       <use x=\"302.001953\" xlink:href=\"#DejaVuSans-48\"/>\n       <use x=\"365.625\" xlink:href=\"#DejaVuSans-48\"/>\n       <use x=\"429.248047\" xlink:href=\"#DejaVuSans-48\"/>\n       <use x=\"492.871094\" xlink:href=\"#DejaVuSans-32\"/>\n       <use x=\"524.658203\" xlink:href=\"#DejaVuSans-116\"/>\n       <use x=\"563.867188\" xlink:href=\"#DejaVuSans-111\"/>\n       <use x=\"625.048828\" xlink:href=\"#DejaVuSans-32\"/>\n       <use x=\"656.835938\" xlink:href=\"#DejaVuSans-55\"/>\n       <use x=\"720.458984\" xlink:href=\"#DejaVuSans-52\"/>\n       <use x=\"784.082031\" xlink:href=\"#DejaVuSans-44\"/>\n       <use x=\"815.869141\" xlink:href=\"#DejaVuSans-57\"/>\n       <use x=\"879.492188\" xlink:href=\"#DejaVuSans-57\"/>\n       <use x=\"943.115234\" xlink:href=\"#DejaVuSans-57\"/>\n      </g>\n     </g>\n    </g>\n    <g id=\"ytick_3\">\n     <g id=\"line2d_21\">\n      <path clip-path=\"url(#p3b99eb33db)\" d=\"M 171.899875 164.623217 \nL 547.739875 164.623217 \n\" style=\"fill:none;stroke:#cbcbcb;\"/>\n     </g>\n     <g id=\"line2d_22\"/>\n     <g id=\"text_11\">\n      <!-- F: 35,000 to 49,999 -->\n      <g transform=\"translate(31.339875 169.942123)scale(0.14 -0.14)\">\n       <defs>\n        <path d=\"M 9.8125 72.90625 \nL 51.703125 72.90625 \nL 51.703125 64.59375 \nL 19.671875 64.59375 \nL 19.671875 43.109375 \nL 48.578125 43.109375 \nL 48.578125 34.8125 \nL 19.671875 34.8125 \nL 19.671875 0 \nL 9.8125 0 \nz\n\" id=\"DejaVuSans-70\"/>\n       </defs>\n       <use xlink:href=\"#DejaVuSans-70\"/>\n       <use x=\"49.769531\" xlink:href=\"#DejaVuSans-58\"/>\n       <use x=\"83.460938\" xlink:href=\"#DejaVuSans-32\"/>\n       <use x=\"115.248047\" xlink:href=\"#DejaVuSans-51\"/>\n       <use x=\"178.871094\" xlink:href=\"#DejaVuSans-53\"/>\n       <use x=\"242.494141\" xlink:href=\"#DejaVuSans-44\"/>\n       <use x=\"274.28125\" xlink:href=\"#DejaVuSans-48\"/>\n       <use x=\"337.904297\" xlink:href=\"#DejaVuSans-48\"/>\n       <use x=\"401.527344\" xlink:href=\"#DejaVuSans-48\"/>\n       <use x=\"465.150391\" xlink:href=\"#DejaVuSans-32\"/>\n       <use x=\"496.9375\" xlink:href=\"#DejaVuSans-116\"/>\n       <use x=\"536.146484\" xlink:href=\"#DejaVuSans-111\"/>\n       <use x=\"597.328125\" xlink:href=\"#DejaVuSans-32\"/>\n       <use x=\"629.115234\" xlink:href=\"#DejaVuSans-52\"/>\n       <use x=\"692.738281\" xlink:href=\"#DejaVuSans-57\"/>\n       <use x=\"756.361328\" xlink:href=\"#DejaVuSans-44\"/>\n       <use x=\"788.148438\" xlink:href=\"#DejaVuSans-57\"/>\n       <use x=\"851.771484\" xlink:href=\"#DejaVuSans-57\"/>\n       <use x=\"915.394531\" xlink:href=\"#DejaVuSans-57\"/>\n      </g>\n     </g>\n    </g>\n    <g id=\"ytick_4\">\n     <g id=\"line2d_23\">\n      <path clip-path=\"url(#p3b99eb33db)\" d=\"M 171.899875 137.434406 \nL 547.739875 137.434406 \n\" style=\"fill:none;stroke:#cbcbcb;\"/>\n     </g>\n     <g id=\"line2d_24\"/>\n     <g id=\"text_12\">\n      <!-- E: 25,000 to 34,999 -->\n      <g transform=\"translate(29.460813 142.753312)scale(0.14 -0.14)\">\n       <defs>\n        <path d=\"M 9.8125 72.90625 \nL 55.90625 72.90625 \nL 55.90625 64.59375 \nL 19.671875 64.59375 \nL 19.671875 43.015625 \nL 54.390625 43.015625 \nL 54.390625 34.71875 \nL 19.671875 34.71875 \nL 19.671875 8.296875 \nL 56.78125 8.296875 \nL 56.78125 0 \nL 9.8125 0 \nz\n\" id=\"DejaVuSans-69\"/>\n       </defs>\n       <use xlink:href=\"#DejaVuSans-69\"/>\n       <use x=\"63.183594\" xlink:href=\"#DejaVuSans-58\"/>\n       <use x=\"96.875\" xlink:href=\"#DejaVuSans-32\"/>\n       <use x=\"128.662109\" xlink:href=\"#DejaVuSans-50\"/>\n       <use x=\"192.285156\" xlink:href=\"#DejaVuSans-53\"/>\n       <use x=\"255.908203\" xlink:href=\"#DejaVuSans-44\"/>\n       <use x=\"287.695312\" xlink:href=\"#DejaVuSans-48\"/>\n       <use x=\"351.318359\" xlink:href=\"#DejaVuSans-48\"/>\n       <use x=\"414.941406\" xlink:href=\"#DejaVuSans-48\"/>\n       <use x=\"478.564453\" xlink:href=\"#DejaVuSans-32\"/>\n       <use x=\"510.351562\" xlink:href=\"#DejaVuSans-116\"/>\n       <use x=\"549.560547\" xlink:href=\"#DejaVuSans-111\"/>\n       <use x=\"610.742188\" xlink:href=\"#DejaVuSans-32\"/>\n       <use x=\"642.529297\" xlink:href=\"#DejaVuSans-51\"/>\n       <use x=\"706.152344\" xlink:href=\"#DejaVuSans-52\"/>\n       <use x=\"769.775391\" xlink:href=\"#DejaVuSans-44\"/>\n       <use x=\"801.5625\" xlink:href=\"#DejaVuSans-57\"/>\n       <use x=\"865.185547\" xlink:href=\"#DejaVuSans-57\"/>\n       <use x=\"928.808594\" xlink:href=\"#DejaVuSans-57\"/>\n      </g>\n     </g>\n    </g>\n    <g id=\"ytick_5\">\n     <g id=\"line2d_25\">\n      <path clip-path=\"url(#p3b99eb33db)\" d=\"M 171.899875 110.245594 \nL 547.739875 110.245594 \n\" style=\"fill:none;stroke:#cbcbcb;\"/>\n     </g>\n     <g id=\"line2d_26\"/>\n     <g id=\"text_13\">\n      <!-- D: 15,000 to 24,999 -->\n      <g transform=\"translate(27.527062 115.564501)scale(0.14 -0.14)\">\n       <defs>\n        <path d=\"M 19.671875 64.796875 \nL 19.671875 8.109375 \nL 31.59375 8.109375 \nQ 46.6875 8.109375 53.6875 14.9375 \nQ 60.6875 21.78125 60.6875 36.53125 \nQ 60.6875 51.171875 53.6875 57.984375 \nQ 46.6875 64.796875 31.59375 64.796875 \nz\nM 9.8125 72.90625 \nL 30.078125 72.90625 \nQ 51.265625 72.90625 61.171875 64.09375 \nQ 71.09375 55.28125 71.09375 36.53125 \nQ 71.09375 17.671875 61.125 8.828125 \nQ 51.171875 0 30.078125 0 \nL 9.8125 0 \nz\n\" id=\"DejaVuSans-68\"/>\n       </defs>\n       <use xlink:href=\"#DejaVuSans-68\"/>\n       <use x=\"77.001953\" xlink:href=\"#DejaVuSans-58\"/>\n       <use x=\"110.693359\" xlink:href=\"#DejaVuSans-32\"/>\n       <use x=\"142.480469\" xlink:href=\"#DejaVuSans-49\"/>\n       <use x=\"206.103516\" xlink:href=\"#DejaVuSans-53\"/>\n       <use x=\"269.726562\" xlink:href=\"#DejaVuSans-44\"/>\n       <use x=\"301.513672\" xlink:href=\"#DejaVuSans-48\"/>\n       <use x=\"365.136719\" xlink:href=\"#DejaVuSans-48\"/>\n       <use x=\"428.759766\" xlink:href=\"#DejaVuSans-48\"/>\n       <use x=\"492.382812\" xlink:href=\"#DejaVuSans-32\"/>\n       <use x=\"524.169922\" xlink:href=\"#DejaVuSans-116\"/>\n       <use x=\"563.378906\" xlink:href=\"#DejaVuSans-111\"/>\n       <use x=\"624.560547\" xlink:href=\"#DejaVuSans-32\"/>\n       <use x=\"656.347656\" xlink:href=\"#DejaVuSans-50\"/>\n       <use x=\"719.970703\" xlink:href=\"#DejaVuSans-52\"/>\n       <use x=\"783.59375\" xlink:href=\"#DejaVuSans-44\"/>\n       <use x=\"815.380859\" xlink:href=\"#DejaVuSans-57\"/>\n       <use x=\"879.003906\" xlink:href=\"#DejaVuSans-57\"/>\n       <use x=\"942.626953\" xlink:href=\"#DejaVuSans-57\"/>\n      </g>\n     </g>\n    </g>\n    <g id=\"ytick_6\">\n     <g id=\"line2d_27\">\n      <path clip-path=\"url(#p3b99eb33db)\" d=\"M 171.899875 83.056783 \nL 547.739875 83.056783 \n\" style=\"fill:none;stroke:#cbcbcb;\"/>\n     </g>\n     <g id=\"line2d_28\"/>\n     <g id=\"text_14\">\n      <!-- C: 10,000 to 14,999 -->\n      <g transform=\"translate(28.531125 88.375689)scale(0.14 -0.14)\">\n       <defs>\n        <path d=\"M 64.40625 67.28125 \nL 64.40625 56.890625 \nQ 59.421875 61.53125 53.78125 63.8125 \nQ 48.140625 66.109375 41.796875 66.109375 \nQ 29.296875 66.109375 22.65625 58.46875 \nQ 16.015625 50.828125 16.015625 36.375 \nQ 16.015625 21.96875 22.65625 14.328125 \nQ 29.296875 6.6875 41.796875 6.6875 \nQ 48.140625 6.6875 53.78125 8.984375 \nQ 59.421875 11.28125 64.40625 15.921875 \nL 64.40625 5.609375 \nQ 59.234375 2.09375 53.4375 0.328125 \nQ 47.65625 -1.421875 41.21875 -1.421875 \nQ 24.65625 -1.421875 15.125 8.703125 \nQ 5.609375 18.84375 5.609375 36.375 \nQ 5.609375 53.953125 15.125 64.078125 \nQ 24.65625 74.21875 41.21875 74.21875 \nQ 47.75 74.21875 53.53125 72.484375 \nQ 59.328125 70.75 64.40625 67.28125 \nz\n\" id=\"DejaVuSans-67\"/>\n       </defs>\n       <use xlink:href=\"#DejaVuSans-67\"/>\n       <use x=\"69.824219\" xlink:href=\"#DejaVuSans-58\"/>\n       <use x=\"103.515625\" xlink:href=\"#DejaVuSans-32\"/>\n       <use x=\"135.302734\" xlink:href=\"#DejaVuSans-49\"/>\n       <use x=\"198.925781\" xlink:href=\"#DejaVuSans-48\"/>\n       <use x=\"262.548828\" xlink:href=\"#DejaVuSans-44\"/>\n       <use x=\"294.335938\" xlink:href=\"#DejaVuSans-48\"/>\n       <use x=\"357.958984\" xlink:href=\"#DejaVuSans-48\"/>\n       <use x=\"421.582031\" xlink:href=\"#DejaVuSans-48\"/>\n       <use x=\"485.205078\" xlink:href=\"#DejaVuSans-32\"/>\n       <use x=\"516.992188\" xlink:href=\"#DejaVuSans-116\"/>\n       <use x=\"556.201172\" xlink:href=\"#DejaVuSans-111\"/>\n       <use x=\"617.382812\" xlink:href=\"#DejaVuSans-32\"/>\n       <use x=\"649.169922\" xlink:href=\"#DejaVuSans-49\"/>\n       <use x=\"712.792969\" xlink:href=\"#DejaVuSans-52\"/>\n       <use x=\"776.416016\" xlink:href=\"#DejaVuSans-44\"/>\n       <use x=\"808.203125\" xlink:href=\"#DejaVuSans-57\"/>\n       <use x=\"871.826172\" xlink:href=\"#DejaVuSans-57\"/>\n       <use x=\"935.449219\" xlink:href=\"#DejaVuSans-57\"/>\n      </g>\n     </g>\n    </g>\n    <g id=\"ytick_7\">\n     <g id=\"line2d_29\">\n      <path clip-path=\"url(#p3b99eb33db)\" d=\"M 171.899875 55.867972 \nL 547.739875 55.867972 \n\" style=\"fill:none;stroke:#cbcbcb;\"/>\n     </g>\n     <g id=\"line2d_30\"/>\n     <g id=\"text_15\">\n      <!-- B: 5,000 to 9,999 -->\n      <g transform=\"translate(46.51675 61.186878)scale(0.14 -0.14)\">\n       <defs>\n        <path d=\"M 19.671875 34.8125 \nL 19.671875 8.109375 \nL 35.5 8.109375 \nQ 43.453125 8.109375 47.28125 11.40625 \nQ 51.125 14.703125 51.125 21.484375 \nQ 51.125 28.328125 47.28125 31.5625 \nQ 43.453125 34.8125 35.5 34.8125 \nz\nM 19.671875 64.796875 \nL 19.671875 42.828125 \nL 34.28125 42.828125 \nQ 41.5 42.828125 45.03125 45.53125 \nQ 48.578125 48.25 48.578125 53.8125 \nQ 48.578125 59.328125 45.03125 62.0625 \nQ 41.5 64.796875 34.28125 64.796875 \nz\nM 9.8125 72.90625 \nL 35.015625 72.90625 \nQ 46.296875 72.90625 52.390625 68.21875 \nQ 58.5 63.53125 58.5 54.890625 \nQ 58.5 48.1875 55.375 44.234375 \nQ 52.25 40.28125 46.1875 39.3125 \nQ 53.46875 37.75 57.5 32.78125 \nQ 61.53125 27.828125 61.53125 20.40625 \nQ 61.53125 10.640625 54.890625 5.3125 \nQ 48.25 0 35.984375 0 \nL 9.8125 0 \nz\n\" id=\"DejaVuSans-66\"/>\n       </defs>\n       <use xlink:href=\"#DejaVuSans-66\"/>\n       <use x=\"68.603516\" xlink:href=\"#DejaVuSans-58\"/>\n       <use x=\"102.294922\" xlink:href=\"#DejaVuSans-32\"/>\n       <use x=\"134.082031\" xlink:href=\"#DejaVuSans-53\"/>\n       <use x=\"197.705078\" xlink:href=\"#DejaVuSans-44\"/>\n       <use x=\"229.492188\" xlink:href=\"#DejaVuSans-48\"/>\n       <use x=\"293.115234\" xlink:href=\"#DejaVuSans-48\"/>\n       <use x=\"356.738281\" xlink:href=\"#DejaVuSans-48\"/>\n       <use x=\"420.361328\" xlink:href=\"#DejaVuSans-32\"/>\n       <use x=\"452.148438\" xlink:href=\"#DejaVuSans-116\"/>\n       <use x=\"491.357422\" xlink:href=\"#DejaVuSans-111\"/>\n       <use x=\"552.539062\" xlink:href=\"#DejaVuSans-32\"/>\n       <use x=\"584.326172\" xlink:href=\"#DejaVuSans-57\"/>\n       <use x=\"647.949219\" xlink:href=\"#DejaVuSans-44\"/>\n       <use x=\"679.736328\" xlink:href=\"#DejaVuSans-57\"/>\n       <use x=\"743.359375\" xlink:href=\"#DejaVuSans-57\"/>\n       <use x=\"806.982422\" xlink:href=\"#DejaVuSans-57\"/>\n      </g>\n     </g>\n    </g>\n    <g id=\"ytick_8\">\n     <g id=\"line2d_31\">\n      <path clip-path=\"url(#p3b99eb33db)\" d=\"M 171.899875 28.679161 \nL 547.739875 28.679161 \n\" style=\"fill:none;stroke:#cbcbcb;\"/>\n     </g>\n     <g id=\"line2d_32\"/>\n     <g id=\"text_16\">\n      <!-- A: 0 to 4,999 -->\n      <g transform=\"translate(77.962063 33.998067)scale(0.14 -0.14)\">\n       <defs>\n        <path d=\"M 34.1875 63.1875 \nL 20.796875 26.90625 \nL 47.609375 26.90625 \nz\nM 28.609375 72.90625 \nL 39.796875 72.90625 \nL 67.578125 0 \nL 57.328125 0 \nL 50.6875 18.703125 \nL 17.828125 18.703125 \nL 11.1875 0 \nL 0.78125 0 \nz\n\" id=\"DejaVuSans-65\"/>\n       </defs>\n       <use xlink:href=\"#DejaVuSans-65\"/>\n       <use x=\"66.658203\" xlink:href=\"#DejaVuSans-58\"/>\n       <use x=\"100.349609\" xlink:href=\"#DejaVuSans-32\"/>\n       <use x=\"132.136719\" xlink:href=\"#DejaVuSans-48\"/>\n       <use x=\"195.759766\" xlink:href=\"#DejaVuSans-32\"/>\n       <use x=\"227.546875\" xlink:href=\"#DejaVuSans-116\"/>\n       <use x=\"266.755859\" xlink:href=\"#DejaVuSans-111\"/>\n       <use x=\"327.9375\" xlink:href=\"#DejaVuSans-32\"/>\n       <use x=\"359.724609\" xlink:href=\"#DejaVuSans-52\"/>\n       <use x=\"423.347656\" xlink:href=\"#DejaVuSans-44\"/>\n       <use x=\"455.134766\" xlink:href=\"#DejaVuSans-57\"/>\n       <use x=\"518.757812\" xlink:href=\"#DejaVuSans-57\"/>\n       <use x=\"582.380859\" xlink:href=\"#DejaVuSans-57\"/>\n      </g>\n     </g>\n    </g>\n    <g id=\"text_17\">\n     <!-- Personal Income -->\n     <g transform=\"translate(19.965375 193.122937)rotate(-90)scale(0.168 -0.168)\">\n      <defs>\n       <path d=\"M 19.671875 64.796875 \nL 19.671875 37.40625 \nL 32.078125 37.40625 \nQ 38.96875 37.40625 42.71875 40.96875 \nQ 46.484375 44.53125 46.484375 51.125 \nQ 46.484375 57.671875 42.71875 61.234375 \nQ 38.96875 64.796875 32.078125 64.796875 \nz\nM 9.8125 72.90625 \nL 32.078125 72.90625 \nQ 44.34375 72.90625 50.609375 67.359375 \nQ 56.890625 61.8125 56.890625 51.125 \nQ 56.890625 40.328125 50.609375 34.8125 \nQ 44.34375 29.296875 32.078125 29.296875 \nL 19.671875 29.296875 \nL 19.671875 0 \nL 9.8125 0 \nz\n\" id=\"DejaVuSans-80\"/>\n       <path d=\"M 44.28125 53.078125 \nL 44.28125 44.578125 \nQ 40.484375 46.53125 36.375 47.5 \nQ 32.28125 48.484375 27.875 48.484375 \nQ 21.1875 48.484375 17.84375 46.4375 \nQ 14.5 44.390625 14.5 40.28125 \nQ 14.5 37.15625 16.890625 35.375 \nQ 19.28125 33.59375 26.515625 31.984375 \nL 29.59375 31.296875 \nQ 39.15625 29.25 43.1875 25.515625 \nQ 47.21875 21.78125 47.21875 15.09375 \nQ 47.21875 7.46875 41.1875 3.015625 \nQ 35.15625 -1.421875 24.609375 -1.421875 \nQ 20.21875 -1.421875 15.453125 -0.5625 \nQ 10.6875 0.296875 5.421875 2 \nL 5.421875 11.28125 \nQ 10.40625 8.6875 15.234375 7.390625 \nQ 20.0625 6.109375 24.8125 6.109375 \nQ 31.15625 6.109375 34.5625 8.28125 \nQ 37.984375 10.453125 37.984375 14.40625 \nQ 37.984375 18.0625 35.515625 20.015625 \nQ 33.0625 21.96875 24.703125 23.78125 \nL 21.578125 24.515625 \nQ 13.234375 26.265625 9.515625 29.90625 \nQ 5.8125 33.546875 5.8125 39.890625 \nQ 5.8125 47.609375 11.28125 51.796875 \nQ 16.75 56 26.8125 56 \nQ 31.78125 56 36.171875 55.265625 \nQ 40.578125 54.546875 44.28125 53.078125 \nz\n\" id=\"DejaVuSans-115\"/>\n       <path d=\"M 9.421875 75.984375 \nL 18.40625 75.984375 \nL 18.40625 0 \nL 9.421875 0 \nz\n\" id=\"DejaVuSans-108\"/>\n       <path d=\"M 9.8125 72.90625 \nL 19.671875 72.90625 \nL 19.671875 0 \nL 9.8125 0 \nz\n\" id=\"DejaVuSans-73\"/>\n       <path d=\"M 48.78125 52.59375 \nL 48.78125 44.1875 \nQ 44.96875 46.296875 41.140625 47.34375 \nQ 37.3125 48.390625 33.40625 48.390625 \nQ 24.65625 48.390625 19.8125 42.84375 \nQ 14.984375 37.3125 14.984375 27.296875 \nQ 14.984375 17.28125 19.8125 11.734375 \nQ 24.65625 6.203125 33.40625 6.203125 \nQ 37.3125 6.203125 41.140625 7.25 \nQ 44.96875 8.296875 48.78125 10.40625 \nL 48.78125 2.09375 \nQ 45.015625 0.34375 40.984375 -0.53125 \nQ 36.96875 -1.421875 32.421875 -1.421875 \nQ 20.0625 -1.421875 12.78125 6.34375 \nQ 5.515625 14.109375 5.515625 27.296875 \nQ 5.515625 40.671875 12.859375 48.328125 \nQ 20.21875 56 33.015625 56 \nQ 37.15625 56 41.109375 55.140625 \nQ 45.0625 54.296875 48.78125 52.59375 \nz\n\" id=\"DejaVuSans-99\"/>\n       <path d=\"M 52 44.1875 \nQ 55.375 50.25 60.0625 53.125 \nQ 64.75 56 71.09375 56 \nQ 79.640625 56 84.28125 50.015625 \nQ 88.921875 44.046875 88.921875 33.015625 \nL 88.921875 0 \nL 79.890625 0 \nL 79.890625 32.71875 \nQ 79.890625 40.578125 77.09375 44.375 \nQ 74.3125 48.1875 68.609375 48.1875 \nQ 61.625 48.1875 57.5625 43.546875 \nQ 53.515625 38.921875 53.515625 30.90625 \nL 53.515625 0 \nL 44.484375 0 \nL 44.484375 32.71875 \nQ 44.484375 40.625 41.703125 44.40625 \nQ 38.921875 48.1875 33.109375 48.1875 \nQ 26.21875 48.1875 22.15625 43.53125 \nQ 18.109375 38.875 18.109375 30.90625 \nL 18.109375 0 \nL 9.078125 0 \nL 9.078125 54.6875 \nL 18.109375 54.6875 \nL 18.109375 46.1875 \nQ 21.1875 51.21875 25.484375 53.609375 \nQ 29.78125 56 35.6875 56 \nQ 41.65625 56 45.828125 52.96875 \nQ 50 49.953125 52 44.1875 \nz\n\" id=\"DejaVuSans-109\"/>\n      </defs>\n      <use xlink:href=\"#DejaVuSans-80\"/>\n      <use x=\"56.677734\" xlink:href=\"#DejaVuSans-101\"/>\n      <use x=\"118.201172\" xlink:href=\"#DejaVuSans-114\"/>\n      <use x=\"159.314453\" xlink:href=\"#DejaVuSans-115\"/>\n      <use x=\"211.414062\" xlink:href=\"#DejaVuSans-111\"/>\n      <use x=\"272.595703\" xlink:href=\"#DejaVuSans-110\"/>\n      <use x=\"335.974609\" xlink:href=\"#DejaVuSans-97\"/>\n      <use x=\"397.253906\" xlink:href=\"#DejaVuSans-108\"/>\n      <use x=\"425.037109\" xlink:href=\"#DejaVuSans-32\"/>\n      <use x=\"456.824219\" xlink:href=\"#DejaVuSans-73\"/>\n      <use x=\"486.316406\" xlink:href=\"#DejaVuSans-110\"/>\n      <use x=\"549.695312\" xlink:href=\"#DejaVuSans-99\"/>\n      <use x=\"604.675781\" xlink:href=\"#DejaVuSans-111\"/>\n      <use x=\"665.857422\" xlink:href=\"#DejaVuSans-109\"/>\n      <use x=\"763.269531\" xlink:href=\"#DejaVuSans-101\"/>\n     </g>\n    </g>\n   </g>\n   <g id=\"patch_3\">\n    <path clip-path=\"url(#p3b99eb33db)\" d=\"M 171.899875 219.000839 \nL 529.842732 219.000839 \nL 529.842732 208.125315 \nL 171.899875 208.125315 \nz\n\" style=\"fill:#001e42;opacity:0.7;stroke:#f0f0f0;stroke-linejoin:miter;stroke-width:0.5;\"/>\n   </g>\n   <g id=\"patch_4\">\n    <path clip-path=\"url(#p3b99eb33db)\" d=\"M 171.899875 191.812028 \nL 362.979847 191.812028 \nL 362.979847 180.936503 \nL 171.899875 180.936503 \nz\n\" style=\"fill:#001e42;opacity:0.7;stroke:#f0f0f0;stroke-linejoin:miter;stroke-width:0.5;\"/>\n   </g>\n   <g id=\"patch_5\">\n    <path clip-path=\"url(#p3b99eb33db)\" d=\"M 171.899875 164.623217 \nL 306.47331 164.623217 \nL 306.47331 153.747692 \nL 171.899875 153.747692 \nz\n\" style=\"fill:#001e42;opacity:0.7;stroke:#f0f0f0;stroke-linejoin:miter;stroke-width:0.5;\"/>\n   </g>\n   <g id=\"patch_6\">\n    <path clip-path=\"url(#p3b99eb33db)\" d=\"M 171.899875 137.434406 \nL 255.075863 137.434406 \nL 255.075863 126.558881 \nL 171.899875 126.558881 \nz\n\" style=\"fill:#001e42;opacity:0.7;stroke:#f0f0f0;stroke-linejoin:miter;stroke-width:0.5;\"/>\n   </g>\n   <g id=\"patch_7\">\n    <path clip-path=\"url(#p3b99eb33db)\" d=\"M 171.899875 110.245594 \nL 264.578771 110.245594 \nL 264.578771 99.37007 \nL 171.899875 99.37007 \nz\n\" style=\"fill:#001e42;opacity:0.7;stroke:#f0f0f0;stroke-linejoin:miter;stroke-width:0.5;\"/>\n   </g>\n   <g id=\"patch_8\">\n    <path clip-path=\"url(#p3b99eb33db)\" d=\"M 171.899875 83.056783 \nL 226.158413 83.056783 \nL 226.158413 72.181259 \nL 171.899875 72.181259 \nz\n\" style=\"fill:#001e42;opacity:0.7;stroke:#f0f0f0;stroke-linejoin:miter;stroke-width:0.5;\"/>\n   </g>\n   <g id=\"patch_9\">\n    <path clip-path=\"url(#p3b99eb33db)\" d=\"M 171.899875 55.867972 \nL 210.933324 55.867972 \nL 210.933324 44.992448 \nL 171.899875 44.992448 \nz\n\" style=\"fill:#001e42;opacity:0.7;stroke:#f0f0f0;stroke-linejoin:miter;stroke-width:0.5;\"/>\n   </g>\n   <g id=\"patch_10\">\n    <path clip-path=\"url(#p3b99eb33db)\" d=\"M 171.899875 28.679161 \nL 240.872592 28.679161 \nL 240.872592 17.803636 \nL 171.899875 17.803636 \nz\n\" style=\"fill:#001e42;opacity:0.7;stroke:#f0f0f0;stroke-linejoin:miter;stroke-width:0.5;\"/>\n   </g>\n   <g id=\"patch_11\">\n    <path clip-path=\"url(#p3b99eb33db)\" d=\"M 171.899875 229.876364 \nL 186.000964 229.876364 \nL 186.000964 219.000839 \nL 171.899875 219.000839 \nz\n\" style=\"fill:#ffc72c;opacity:0.7;stroke:#f0f0f0;stroke-linejoin:miter;stroke-width:0.5;\"/>\n   </g>\n   <g id=\"patch_12\">\n    <path clip-path=\"url(#p3b99eb33db)\" d=\"M 171.899875 202.687552 \nL 203.678416 202.687552 \nL 203.678416 191.812028 \nL 171.899875 191.812028 \nz\n\" style=\"fill:#ffc72c;opacity:0.7;stroke:#f0f0f0;stroke-linejoin:miter;stroke-width:0.5;\"/>\n   </g>\n   <g id=\"patch_13\">\n    <path clip-path=\"url(#p3b99eb33db)\" d=\"M 171.899875 175.498741 \nL 234.435139 175.498741 \nL 234.435139 164.623217 \nL 171.899875 164.623217 \nz\n\" style=\"fill:#ffc72c;opacity:0.7;stroke:#f0f0f0;stroke-linejoin:miter;stroke-width:0.5;\"/>\n   </g>\n   <g id=\"patch_14\">\n    <path clip-path=\"url(#p3b99eb33db)\" d=\"M 171.899875 148.30993 \nL 283.380222 148.30993 \nL 283.380222 137.434406 \nL 171.899875 137.434406 \nz\n\" style=\"fill:#ffc72c;opacity:0.7;stroke:#f0f0f0;stroke-linejoin:miter;stroke-width:0.5;\"/>\n   </g>\n   <g id=\"patch_15\">\n    <path clip-path=\"url(#p3b99eb33db)\" d=\"M 171.899875 121.121119 \nL 381.985663 121.121119 \nL 381.985663 110.245594 \nL 171.899875 110.245594 \nz\n\" style=\"fill:#ffc72c;opacity:0.7;stroke:#f0f0f0;stroke-linejoin:miter;stroke-width:0.5;\"/>\n   </g>\n   <g id=\"patch_16\">\n    <path clip-path=\"url(#p3b99eb33db)\" d=\"M 171.899875 93.932308 \nL 331.40567 93.932308 \nL 331.40567 83.056783 \nL 171.899875 83.056783 \nz\n\" style=\"fill:#ffc72c;opacity:0.7;stroke:#f0f0f0;stroke-linejoin:miter;stroke-width:0.5;\"/>\n   </g>\n   <g id=\"patch_17\">\n    <path clip-path=\"url(#p3b99eb33db)\" d=\"M 171.899875 66.743497 \nL 315.158763 66.743497 \nL 315.158763 55.867972 \nL 171.899875 55.867972 \nz\n\" style=\"fill:#ffc72c;opacity:0.7;stroke:#f0f0f0;stroke-linejoin:miter;stroke-width:0.5;\"/>\n   </g>\n   <g id=\"patch_18\">\n    <path clip-path=\"url(#p3b99eb33db)\" d=\"M 171.899875 39.554685 \nL 460.972197 39.554685 \nL 460.972197 28.679161 \nL 171.899875 28.679161 \nz\n\" style=\"fill:#ffc72c;opacity:0.7;stroke:#f0f0f0;stroke-linejoin:miter;stroke-width:0.5;\"/>\n   </g>\n   <g id=\"patch_19\">\n    <path d=\"M 171.899875 240.48 \nL 171.899875 7.2 \n\" style=\"fill:none;stroke:#f0f0f0;stroke-linecap:square;stroke-linejoin:miter;stroke-width:3;\"/>\n   </g>\n   <g id=\"patch_20\">\n    <path d=\"M 547.739875 240.48 \nL 547.739875 7.2 \n\" style=\"fill:none;stroke:#f0f0f0;stroke-linecap:square;stroke-linejoin:miter;stroke-width:3;\"/>\n   </g>\n   <g id=\"patch_21\">\n    <path d=\"M 171.899875 240.48 \nL 547.739875 240.48 \n\" style=\"fill:none;stroke:#f0f0f0;stroke-linecap:square;stroke-linejoin:miter;stroke-width:3;\"/>\n   </g>\n   <g id=\"patch_22\">\n    <path d=\"M 171.899875 7.2 \nL 547.739875 7.2 \n\" style=\"fill:none;stroke:#f0f0f0;stroke-linecap:square;stroke-linejoin:miter;stroke-width:3;\"/>\n   </g>\n   <g id=\"legend_1\">\n    <g id=\"patch_23\">\n     <path d=\"M 576.331875 59.49875 \nL 815.47375 59.49875 \nQ 818.27375 59.49875 818.27375 56.69875 \nL 818.27375 17 \nQ 818.27375 14.2 815.47375 14.2 \nL 576.331875 14.2 \nQ 573.531875 14.2 573.531875 17 \nL 573.531875 56.69875 \nQ 573.531875 59.49875 576.331875 59.49875 \nz\n\" style=\"fill:#f0f0f0;opacity:0.8;stroke:#cccccc;stroke-linejoin:miter;stroke-width:0.5;\"/>\n    </g>\n    <g id=\"patch_24\">\n     <path d=\"M 579.131875 30.437813 \nL 607.131875 30.437813 \nL 607.131875 20.637813 \nL 579.131875 20.637813 \nz\n\" style=\"fill:#001e42;opacity:0.7;stroke:#f0f0f0;stroke-linejoin:miter;stroke-width:0.5;\"/>\n    </g>\n    <g id=\"text_18\">\n     <!-- Bachelor's degree or higher -->\n     <g transform=\"translate(618.331875 30.437813)scale(0.14 -0.14)\">\n      <defs>\n       <path d=\"M 54.890625 33.015625 \nL 54.890625 0 \nL 45.90625 0 \nL 45.90625 32.71875 \nQ 45.90625 40.484375 42.875 44.328125 \nQ 39.84375 48.1875 33.796875 48.1875 \nQ 26.515625 48.1875 22.3125 43.546875 \nQ 18.109375 38.921875 18.109375 30.90625 \nL 18.109375 0 \nL 9.078125 0 \nL 9.078125 75.984375 \nL 18.109375 75.984375 \nL 18.109375 46.1875 \nQ 21.34375 51.125 25.703125 53.5625 \nQ 30.078125 56 35.796875 56 \nQ 45.21875 56 50.046875 50.171875 \nQ 54.890625 44.34375 54.890625 33.015625 \nz\n\" id=\"DejaVuSans-104\"/>\n       <path d=\"M 17.921875 72.90625 \nL 17.921875 45.796875 \nL 9.625 45.796875 \nL 9.625 72.90625 \nz\n\" id=\"DejaVuSans-39\"/>\n       <path d=\"M 45.40625 27.984375 \nQ 45.40625 37.75 41.375 43.109375 \nQ 37.359375 48.484375 30.078125 48.484375 \nQ 22.859375 48.484375 18.828125 43.109375 \nQ 14.796875 37.75 14.796875 27.984375 \nQ 14.796875 18.265625 18.828125 12.890625 \nQ 22.859375 7.515625 30.078125 7.515625 \nQ 37.359375 7.515625 41.375 12.890625 \nQ 45.40625 18.265625 45.40625 27.984375 \nz\nM 54.390625 6.78125 \nQ 54.390625 -7.171875 48.1875 -13.984375 \nQ 42 -20.796875 29.203125 -20.796875 \nQ 24.46875 -20.796875 20.265625 -20.09375 \nQ 16.0625 -19.390625 12.109375 -17.921875 \nL 12.109375 -9.1875 \nQ 16.0625 -11.328125 19.921875 -12.34375 \nQ 23.78125 -13.375 27.78125 -13.375 \nQ 36.625 -13.375 41.015625 -8.765625 \nQ 45.40625 -4.15625 45.40625 5.171875 \nL 45.40625 9.625 \nQ 42.625 4.78125 38.28125 2.390625 \nQ 33.9375 0 27.875 0 \nQ 17.828125 0 11.671875 7.65625 \nQ 5.515625 15.328125 5.515625 27.984375 \nQ 5.515625 40.671875 11.671875 48.328125 \nQ 17.828125 56 27.875 56 \nQ 33.9375 56 38.28125 53.609375 \nQ 42.625 51.21875 45.40625 46.390625 \nL 45.40625 54.6875 \nL 54.390625 54.6875 \nz\n\" id=\"DejaVuSans-103\"/>\n       <path d=\"M 9.421875 54.6875 \nL 18.40625 54.6875 \nL 18.40625 0 \nL 9.421875 0 \nz\nM 9.421875 75.984375 \nL 18.40625 75.984375 \nL 18.40625 64.59375 \nL 9.421875 64.59375 \nz\n\" id=\"DejaVuSans-105\"/>\n      </defs>\n      <use xlink:href=\"#DejaVuSans-66\"/>\n      <use x=\"68.603516\" xlink:href=\"#DejaVuSans-97\"/>\n      <use x=\"129.882812\" xlink:href=\"#DejaVuSans-99\"/>\n      <use x=\"184.863281\" xlink:href=\"#DejaVuSans-104\"/>\n      <use x=\"248.242188\" xlink:href=\"#DejaVuSans-101\"/>\n      <use x=\"309.765625\" xlink:href=\"#DejaVuSans-108\"/>\n      <use x=\"337.548828\" xlink:href=\"#DejaVuSans-111\"/>\n      <use x=\"398.730469\" xlink:href=\"#DejaVuSans-114\"/>\n      <use x=\"439.84375\" xlink:href=\"#DejaVuSans-39\"/>\n      <use x=\"467.333984\" xlink:href=\"#DejaVuSans-115\"/>\n      <use x=\"519.433594\" xlink:href=\"#DejaVuSans-32\"/>\n      <use x=\"551.220703\" xlink:href=\"#DejaVuSans-100\"/>\n      <use x=\"614.697266\" xlink:href=\"#DejaVuSans-101\"/>\n      <use x=\"676.220703\" xlink:href=\"#DejaVuSans-103\"/>\n      <use x=\"739.697266\" xlink:href=\"#DejaVuSans-114\"/>\n      <use x=\"778.560547\" xlink:href=\"#DejaVuSans-101\"/>\n      <use x=\"840.083984\" xlink:href=\"#DejaVuSans-101\"/>\n      <use x=\"901.607422\" xlink:href=\"#DejaVuSans-32\"/>\n      <use x=\"933.394531\" xlink:href=\"#DejaVuSans-111\"/>\n      <use x=\"994.576172\" xlink:href=\"#DejaVuSans-114\"/>\n      <use x=\"1035.689453\" xlink:href=\"#DejaVuSans-32\"/>\n      <use x=\"1067.476562\" xlink:href=\"#DejaVuSans-104\"/>\n      <use x=\"1130.855469\" xlink:href=\"#DejaVuSans-105\"/>\n      <use x=\"1158.638672\" xlink:href=\"#DejaVuSans-103\"/>\n      <use x=\"1222.115234\" xlink:href=\"#DejaVuSans-104\"/>\n      <use x=\"1285.494141\" xlink:href=\"#DejaVuSans-101\"/>\n      <use x=\"1347.017578\" xlink:href=\"#DejaVuSans-114\"/>\n     </g>\n    </g>\n    <g id=\"patch_25\">\n     <path d=\"M 579.131875 50.987188 \nL 607.131875 50.987188 \nL 607.131875 41.187188 \nL 579.131875 41.187188 \nz\n\" style=\"fill:#ffc72c;opacity:0.7;stroke:#f0f0f0;stroke-linejoin:miter;stroke-width:0.5;\"/>\n    </g>\n    <g id=\"text_19\">\n     <!-- No high school diploma -->\n     <g transform=\"translate(618.331875 50.987188)scale(0.14 -0.14)\">\n      <defs>\n       <path d=\"M 9.8125 72.90625 \nL 23.09375 72.90625 \nL 55.421875 11.921875 \nL 55.421875 72.90625 \nL 64.984375 72.90625 \nL 64.984375 0 \nL 51.703125 0 \nL 19.390625 60.984375 \nL 19.390625 0 \nL 9.8125 0 \nz\n\" id=\"DejaVuSans-78\"/>\n       <path d=\"M 18.109375 8.203125 \nL 18.109375 -20.796875 \nL 9.078125 -20.796875 \nL 9.078125 54.6875 \nL 18.109375 54.6875 \nL 18.109375 46.390625 \nQ 20.953125 51.265625 25.265625 53.625 \nQ 29.59375 56 35.59375 56 \nQ 45.5625 56 51.78125 48.09375 \nQ 58.015625 40.1875 58.015625 27.296875 \nQ 58.015625 14.40625 51.78125 6.484375 \nQ 45.5625 -1.421875 35.59375 -1.421875 \nQ 29.59375 -1.421875 25.265625 0.953125 \nQ 20.953125 3.328125 18.109375 8.203125 \nz\nM 48.6875 27.296875 \nQ 48.6875 37.203125 44.609375 42.84375 \nQ 40.53125 48.484375 33.40625 48.484375 \nQ 26.265625 48.484375 22.1875 42.84375 \nQ 18.109375 37.203125 18.109375 27.296875 \nQ 18.109375 17.390625 22.1875 11.75 \nQ 26.265625 6.109375 33.40625 6.109375 \nQ 40.53125 6.109375 44.609375 11.75 \nQ 48.6875 17.390625 48.6875 27.296875 \nz\n\" id=\"DejaVuSans-112\"/>\n      </defs>\n      <use xlink:href=\"#DejaVuSans-78\"/>\n      <use x=\"74.804688\" xlink:href=\"#DejaVuSans-111\"/>\n      <use x=\"135.986328\" xlink:href=\"#DejaVuSans-32\"/>\n      <use x=\"167.773438\" xlink:href=\"#DejaVuSans-104\"/>\n      <use x=\"231.152344\" xlink:href=\"#DejaVuSans-105\"/>\n      <use x=\"258.935547\" xlink:href=\"#DejaVuSans-103\"/>\n      <use x=\"322.412109\" xlink:href=\"#DejaVuSans-104\"/>\n      <use x=\"385.791016\" xlink:href=\"#DejaVuSans-32\"/>\n      <use x=\"417.578125\" xlink:href=\"#DejaVuSans-115\"/>\n      <use x=\"469.677734\" xlink:href=\"#DejaVuSans-99\"/>\n      <use x=\"524.658203\" xlink:href=\"#DejaVuSans-104\"/>\n      <use x=\"588.037109\" xlink:href=\"#DejaVuSans-111\"/>\n      <use x=\"649.21875\" xlink:href=\"#DejaVuSans-111\"/>\n      <use x=\"710.400391\" xlink:href=\"#DejaVuSans-108\"/>\n      <use x=\"738.183594\" xlink:href=\"#DejaVuSans-32\"/>\n      <use x=\"769.970703\" xlink:href=\"#DejaVuSans-100\"/>\n      <use x=\"833.447266\" xlink:href=\"#DejaVuSans-105\"/>\n      <use x=\"861.230469\" xlink:href=\"#DejaVuSans-112\"/>\n      <use x=\"924.707031\" xlink:href=\"#DejaVuSans-108\"/>\n      <use x=\"952.490234\" xlink:href=\"#DejaVuSans-111\"/>\n      <use x=\"1013.671875\" xlink:href=\"#DejaVuSans-109\"/>\n      <use x=\"1111.083984\" xlink:href=\"#DejaVuSans-97\"/>\n     </g>\n    </g>\n   </g>\n  </g>\n </g>\n <defs>\n  <clipPath id=\"p3b99eb33db\">\n   <rect height=\"233.28\" width=\"375.84\" x=\"171.899875\" y=\"7.2\"/>\n  </clipPath>\n </defs>\n</svg>\n",
      "image/png": "[encoded data removed]"
     },
     "metadata": {}
    }
   ],
   "source": [
    "distributions.select(0, 1, 4).barh(0)"
   ]
  },
  {
   "cell_type": "code",
   "execution_count": null,
   "metadata": {},
   "outputs": [],
   "source": []
  }
 ]
}