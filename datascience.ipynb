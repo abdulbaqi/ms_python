{
 "metadata": {
  "language_info": {
   "codemirror_mode": {
    "name": "ipython",
    "version": 3
   },
   "file_extension": ".py",
   "mimetype": "text/x-python",
   "name": "python",
   "nbconvert_exporter": "python",
   "pygments_lexer": "ipython3",
   "version": "3.7.9-final"
  },
  "orig_nbformat": 2,
  "kernelspec": {
   "name": "python_defaultSpec_1600626414729",
   "display_name": "Python 3.7.9 64-bit ('myenv': conda)"
  }
 },
 "nbformat": 4,
 "nbformat_minor": 2,
 "cells": [
  {
   "cell_type": "code",
   "execution_count": 1,
   "metadata": {},
   "outputs": [],
   "source": [
    "import pandas as pd"
   ]
  },
  {
   "cell_type": "code",
   "execution_count": 1,
   "metadata": {},
   "outputs": [
    {
     "output_type": "execute_result",
     "data": {
      "text/plain": "3.0"
     },
     "metadata": {},
     "execution_count": 1
    }
   ],
   "source": [
    "import math\n",
    "import operator\n",
    "math.sqrt(operator.add(4,5))"
   ]
  },
  {
   "cell_type": "code",
   "execution_count": 2,
   "metadata": {},
   "outputs": [],
   "source": [
    "from datascience import *"
   ]
  },
  {
   "source": [
    "the above datascience module can be found in the following link \n",
    "https://github.com/data-8/datascience "
   ],
   "cell_type": "markdown",
   "metadata": {}
  },
  {
   "cell_type": "code",
   "execution_count": 4,
   "metadata": {},
   "outputs": [],
   "source": [
    "path_data = 'data/'\n",
    "import numpy as np \n",
    "%matplotlib inline\n",
    "import matplotlib.pyplot as plots\n",
    "plots.style.use('fivethirtyeight')"
   ]
  },
  {
   "cell_type": "code",
   "execution_count": 5,
   "metadata": {},
   "outputs": [],
   "source": [
    "cones = Table.read_table(path_data + 'cones.csv')"
   ]
  },
  {
   "cell_type": "code",
   "execution_count": 6,
   "metadata": {},
   "outputs": [
    {
     "output_type": "execute_result",
     "data": {
      "text/plain": "Flavor     | Color       | Price\nstrawberry | pink        | 3.55\nchocolate  | light brown | 4.75\nchocolate  | dark brown  | 5.25\nstrawberry | pink        | 5.25\nchocolate  | dark brown  | 5.25\nbubblegum  | pink        | 4.75",
      "text/html": "<table border=\"1\" class=\"dataframe\">\n    <thead>\n        <tr>\n            <th>Flavor</th> <th>Color</th> <th>Price</th>\n        </tr>\n    </thead>\n    <tbody>\n        <tr>\n            <td>strawberry</td> <td>pink       </td> <td>3.55 </td>\n        </tr>\n        <tr>\n            <td>chocolate </td> <td>light brown</td> <td>4.75 </td>\n        </tr>\n        <tr>\n            <td>chocolate </td> <td>dark brown </td> <td>5.25 </td>\n        </tr>\n        <tr>\n            <td>strawberry</td> <td>pink       </td> <td>5.25 </td>\n        </tr>\n        <tr>\n            <td>chocolate </td> <td>dark brown </td> <td>5.25 </td>\n        </tr>\n        <tr>\n            <td>bubblegum </td> <td>pink       </td> <td>4.75 </td>\n        </tr>\n    </tbody>\n</table>"
     },
     "metadata": {},
     "execution_count": 6
    }
   ],
   "source": [
    "cones"
   ]
  },
  {
   "source": [
    "## show\n",
    "the table method `show` can be used to show only some rows "
   ],
   "cell_type": "markdown",
   "metadata": {}
  },
  {
   "cell_type": "code",
   "execution_count": 7,
   "metadata": {},
   "outputs": [
    {
     "output_type": "display_data",
     "data": {
      "text/plain": "<IPython.core.display.HTML object>",
      "text/html": "<table border=\"1\" class=\"dataframe\">\n    <thead>\n        <tr>\n            <th>Flavor</th> <th>Color</th> <th>Price</th>\n        </tr>\n    </thead>\n    <tbody>\n        <tr>\n            <td>strawberry</td> <td>pink       </td> <td>3.55 </td>\n        </tr>\n        <tr>\n            <td>chocolate </td> <td>light brown</td> <td>4.75 </td>\n        </tr>\n    </tbody>\n</table>\n<p>... (4 rows omitted)</p>"
     },
     "metadata": {}
    }
   ],
   "source": [
    "cones.show(2)"
   ]
  },
  {
   "source": [
    "## Select\n",
    "to chose some columns"
   ],
   "cell_type": "markdown",
   "metadata": {}
  },
  {
   "cell_type": "code",
   "execution_count": 8,
   "metadata": {},
   "outputs": [
    {
     "output_type": "execute_result",
     "data": {
      "text/plain": "Flavor\nstrawberry\nchocolate\nchocolate\nstrawberry\nchocolate\nbubblegum",
      "text/html": "<table border=\"1\" class=\"dataframe\">\n    <thead>\n        <tr>\n            <th>Flavor</th>\n        </tr>\n    </thead>\n    <tbody>\n        <tr>\n            <td>strawberry</td>\n        </tr>\n        <tr>\n            <td>chocolate </td>\n        </tr>\n        <tr>\n            <td>chocolate </td>\n        </tr>\n        <tr>\n            <td>strawberry</td>\n        </tr>\n        <tr>\n            <td>chocolate </td>\n        </tr>\n        <tr>\n            <td>bubblegum </td>\n        </tr>\n    </tbody>\n</table>"
     },
     "metadata": {},
     "execution_count": 8
    }
   ],
   "source": [
    "cones.select('Flavor')"
   ]
  },
  {
   "cell_type": "code",
   "execution_count": 10,
   "metadata": {},
   "outputs": [
    {
     "output_type": "execute_result",
     "data": {
      "text/plain": "Flavor     | Price\nstrawberry | 3.55\nchocolate  | 4.75\nchocolate  | 5.25\nstrawberry | 5.25\nchocolate  | 5.25\nbubblegum  | 4.75",
      "text/html": "<table border=\"1\" class=\"dataframe\">\n    <thead>\n        <tr>\n            <th>Flavor</th> <th>Price</th>\n        </tr>\n    </thead>\n    <tbody>\n        <tr>\n            <td>strawberry</td> <td>3.55 </td>\n        </tr>\n        <tr>\n            <td>chocolate </td> <td>4.75 </td>\n        </tr>\n        <tr>\n            <td>chocolate </td> <td>5.25 </td>\n        </tr>\n        <tr>\n            <td>strawberry</td> <td>5.25 </td>\n        </tr>\n        <tr>\n            <td>chocolate </td> <td>5.25 </td>\n        </tr>\n        <tr>\n            <td>bubblegum </td> <td>4.75 </td>\n        </tr>\n    </tbody>\n</table>"
     },
     "metadata": {},
     "execution_count": 10
    }
   ],
   "source": [
    "cones.select('Flavor', 'Price')"
   ]
  },
  {
   "source": [
    "## drop"
   ],
   "cell_type": "markdown",
   "metadata": {}
  },
  {
   "cell_type": "code",
   "execution_count": 11,
   "metadata": {},
   "outputs": [
    {
     "output_type": "execute_result",
     "data": {
      "text/plain": "Flavor     | Price\nstrawberry | 3.55\nchocolate  | 4.75\nchocolate  | 5.25\nstrawberry | 5.25\nchocolate  | 5.25\nbubblegum  | 4.75",
      "text/html": "<table border=\"1\" class=\"dataframe\">\n    <thead>\n        <tr>\n            <th>Flavor</th> <th>Price</th>\n        </tr>\n    </thead>\n    <tbody>\n        <tr>\n            <td>strawberry</td> <td>3.55 </td>\n        </tr>\n        <tr>\n            <td>chocolate </td> <td>4.75 </td>\n        </tr>\n        <tr>\n            <td>chocolate </td> <td>5.25 </td>\n        </tr>\n        <tr>\n            <td>strawberry</td> <td>5.25 </td>\n        </tr>\n        <tr>\n            <td>chocolate </td> <td>5.25 </td>\n        </tr>\n        <tr>\n            <td>bubblegum </td> <td>4.75 </td>\n        </tr>\n    </tbody>\n</table>"
     },
     "metadata": {},
     "execution_count": 11
    }
   ],
   "source": [
    "no_color = cones.drop('Color')\n",
    "no_color"
   ]
  },
  {
   "source": [
    "## sorting"
   ],
   "cell_type": "markdown",
   "metadata": {}
  },
  {
   "cell_type": "code",
   "execution_count": 13,
   "metadata": {},
   "outputs": [
    {
     "output_type": "execute_result",
     "data": {
      "text/plain": "Flavor     | Color       | Price\nstrawberry | pink        | 3.55\nchocolate  | light brown | 4.75\nbubblegum  | pink        | 4.75\nchocolate  | dark brown  | 5.25\nstrawberry | pink        | 5.25\nchocolate  | dark brown  | 5.25",
      "text/html": "<table border=\"1\" class=\"dataframe\">\n    <thead>\n        <tr>\n            <th>Flavor</th> <th>Color</th> <th>Price</th>\n        </tr>\n    </thead>\n    <tbody>\n        <tr>\n            <td>strawberry</td> <td>pink       </td> <td>3.55 </td>\n        </tr>\n        <tr>\n            <td>chocolate </td> <td>light brown</td> <td>4.75 </td>\n        </tr>\n        <tr>\n            <td>bubblegum </td> <td>pink       </td> <td>4.75 </td>\n        </tr>\n        <tr>\n            <td>chocolate </td> <td>dark brown </td> <td>5.25 </td>\n        </tr>\n        <tr>\n            <td>strawberry</td> <td>pink       </td> <td>5.25 </td>\n        </tr>\n        <tr>\n            <td>chocolate </td> <td>dark brown </td> <td>5.25 </td>\n        </tr>\n    </tbody>\n</table>"
     },
     "metadata": {},
     "execution_count": 13
    }
   ],
   "source": [
    "cones.sort('Price')"
   ]
  },
  {
   "cell_type": "code",
   "execution_count": 14,
   "metadata": {},
   "outputs": [
    {
     "output_type": "execute_result",
     "data": {
      "text/plain": "Flavor     | Color       | Price\nchocolate  | dark brown  | 5.25\nstrawberry | pink        | 5.25\nchocolate  | dark brown  | 5.25\nbubblegum  | pink        | 4.75\nchocolate  | light brown | 4.75\nstrawberry | pink        | 3.55",
      "text/html": "<table border=\"1\" class=\"dataframe\">\n    <thead>\n        <tr>\n            <th>Flavor</th> <th>Color</th> <th>Price</th>\n        </tr>\n    </thead>\n    <tbody>\n        <tr>\n            <td>chocolate </td> <td>dark brown </td> <td>5.25 </td>\n        </tr>\n        <tr>\n            <td>strawberry</td> <td>pink       </td> <td>5.25 </td>\n        </tr>\n        <tr>\n            <td>chocolate </td> <td>dark brown </td> <td>5.25 </td>\n        </tr>\n        <tr>\n            <td>bubblegum </td> <td>pink       </td> <td>4.75 </td>\n        </tr>\n        <tr>\n            <td>chocolate </td> <td>light brown</td> <td>4.75 </td>\n        </tr>\n        <tr>\n            <td>strawberry</td> <td>pink       </td> <td>3.55 </td>\n        </tr>\n    </tbody>\n</table>"
     },
     "metadata": {},
     "execution_count": 14
    }
   ],
   "source": [
    "cones.sort('Price', descending=True)"
   ]
  },
  {
   "source": [
    "## where"
   ],
   "cell_type": "markdown",
   "metadata": {}
  },
  {
   "cell_type": "code",
   "execution_count": 15,
   "metadata": {},
   "outputs": [
    {
     "output_type": "execute_result",
     "data": {
      "text/plain": "Flavor    | Color       | Price\nchocolate | light brown | 4.75\nchocolate | dark brown  | 5.25\nchocolate | dark brown  | 5.25",
      "text/html": "<table border=\"1\" class=\"dataframe\">\n    <thead>\n        <tr>\n            <th>Flavor</th> <th>Color</th> <th>Price</th>\n        </tr>\n    </thead>\n    <tbody>\n        <tr>\n            <td>chocolate</td> <td>light brown</td> <td>4.75 </td>\n        </tr>\n        <tr>\n            <td>chocolate</td> <td>dark brown </td> <td>5.25 </td>\n        </tr>\n        <tr>\n            <td>chocolate</td> <td>dark brown </td> <td>5.25 </td>\n        </tr>\n    </tbody>\n</table>"
     },
     "metadata": {},
     "execution_count": 15
    }
   ],
   "source": [
    "cones.where('Flavor', 'chocolate')"
   ]
  },
  {
   "source": [
    "## NBA salary data"
   ],
   "cell_type": "markdown",
   "metadata": {}
  },
  {
   "cell_type": "code",
   "execution_count": 16,
   "metadata": {},
   "outputs": [],
   "source": [
    "nba = Table.read_table(path_data+'nba_salaries.csv').relabeled(3, 'SALARY')"
   ]
  },
  {
   "cell_type": "code",
   "execution_count": 17,
   "metadata": {},
   "outputs": [
    {
     "output_type": "execute_result",
     "data": {
      "text/plain": "PLAYER           | POSITION | TEAM          | SALARY\nPaul Millsap     | PF       | Atlanta Hawks | 18.6717\nAl Horford       | C        | Atlanta Hawks | 12\nTiago Splitter   | C        | Atlanta Hawks | 9.75625\nJeff Teague      | PG       | Atlanta Hawks | 8\nKyle Korver      | SG       | Atlanta Hawks | 5.74648\nThabo Sefolosha  | SF       | Atlanta Hawks | 4\nMike Scott       | PF       | Atlanta Hawks | 3.33333\nKent Bazemore    | SF       | Atlanta Hawks | 2\nDennis Schroder  | PG       | Atlanta Hawks | 1.7634\nTim Hardaway Jr. | SG       | Atlanta Hawks | 1.30452\n... (407 rows omitted)",
      "text/html": "<table border=\"1\" class=\"dataframe\">\n    <thead>\n        <tr>\n            <th>PLAYER</th> <th>POSITION</th> <th>TEAM</th> <th>SALARY</th>\n        </tr>\n    </thead>\n    <tbody>\n        <tr>\n            <td>Paul Millsap    </td> <td>PF      </td> <td>Atlanta Hawks</td> <td>18.6717</td>\n        </tr>\n        <tr>\n            <td>Al Horford      </td> <td>C       </td> <td>Atlanta Hawks</td> <td>12     </td>\n        </tr>\n        <tr>\n            <td>Tiago Splitter  </td> <td>C       </td> <td>Atlanta Hawks</td> <td>9.75625</td>\n        </tr>\n        <tr>\n            <td>Jeff Teague     </td> <td>PG      </td> <td>Atlanta Hawks</td> <td>8      </td>\n        </tr>\n        <tr>\n            <td>Kyle Korver     </td> <td>SG      </td> <td>Atlanta Hawks</td> <td>5.74648</td>\n        </tr>\n        <tr>\n            <td>Thabo Sefolosha </td> <td>SF      </td> <td>Atlanta Hawks</td> <td>4      </td>\n        </tr>\n        <tr>\n            <td>Mike Scott      </td> <td>PF      </td> <td>Atlanta Hawks</td> <td>3.33333</td>\n        </tr>\n        <tr>\n            <td>Kent Bazemore   </td> <td>SF      </td> <td>Atlanta Hawks</td> <td>2      </td>\n        </tr>\n        <tr>\n            <td>Dennis Schroder </td> <td>PG      </td> <td>Atlanta Hawks</td> <td>1.7634 </td>\n        </tr>\n        <tr>\n            <td>Tim Hardaway Jr.</td> <td>SG      </td> <td>Atlanta Hawks</td> <td>1.30452</td>\n        </tr>\n    </tbody>\n</table>\n<p>... (407 rows omitted)</p>"
     },
     "metadata": {},
     "execution_count": 17
    }
   ],
   "source": [
    "nba"
   ]
  },
  {
   "cell_type": "code",
   "execution_count": 18,
   "metadata": {},
   "outputs": [
    {
     "output_type": "execute_result",
     "data": {
      "text/plain": "PLAYER           | POSITION | TEAM          | SALARY\nPaul Millsap     | PF       | Atlanta Hawks | 18.6717\nAl Horford       | C        | Atlanta Hawks | 12\nTiago Splitter   | C        | Atlanta Hawks | 9.75625\nJeff Teague      | PG       | Atlanta Hawks | 8\nKyle Korver      | SG       | Atlanta Hawks | 5.74648\nThabo Sefolosha  | SF       | Atlanta Hawks | 4\nMike Scott       | PF       | Atlanta Hawks | 3.33333\nKent Bazemore    | SF       | Atlanta Hawks | 2\nDennis Schroder  | PG       | Atlanta Hawks | 1.7634\nTim Hardaway Jr. | SG       | Atlanta Hawks | 1.30452\n... (4 rows omitted)",
      "text/html": "<table border=\"1\" class=\"dataframe\">\n    <thead>\n        <tr>\n            <th>PLAYER</th> <th>POSITION</th> <th>TEAM</th> <th>SALARY</th>\n        </tr>\n    </thead>\n    <tbody>\n        <tr>\n            <td>Paul Millsap    </td> <td>PF      </td> <td>Atlanta Hawks</td> <td>18.6717</td>\n        </tr>\n        <tr>\n            <td>Al Horford      </td> <td>C       </td> <td>Atlanta Hawks</td> <td>12     </td>\n        </tr>\n        <tr>\n            <td>Tiago Splitter  </td> <td>C       </td> <td>Atlanta Hawks</td> <td>9.75625</td>\n        </tr>\n        <tr>\n            <td>Jeff Teague     </td> <td>PG      </td> <td>Atlanta Hawks</td> <td>8      </td>\n        </tr>\n        <tr>\n            <td>Kyle Korver     </td> <td>SG      </td> <td>Atlanta Hawks</td> <td>5.74648</td>\n        </tr>\n        <tr>\n            <td>Thabo Sefolosha </td> <td>SF      </td> <td>Atlanta Hawks</td> <td>4      </td>\n        </tr>\n        <tr>\n            <td>Mike Scott      </td> <td>PF      </td> <td>Atlanta Hawks</td> <td>3.33333</td>\n        </tr>\n        <tr>\n            <td>Kent Bazemore   </td> <td>SF      </td> <td>Atlanta Hawks</td> <td>2      </td>\n        </tr>\n        <tr>\n            <td>Dennis Schroder </td> <td>PG      </td> <td>Atlanta Hawks</td> <td>1.7634 </td>\n        </tr>\n        <tr>\n            <td>Tim Hardaway Jr.</td> <td>SG      </td> <td>Atlanta Hawks</td> <td>1.30452</td>\n        </tr>\n    </tbody>\n</table>\n<p>... (4 rows omitted)</p>"
     },
     "metadata": {},
     "execution_count": 18
    }
   ],
   "source": [
    "hawks = nba.where('TEAM', 'Atlanta Hawks')\n",
    "hawks"
   ]
  },
  {
   "source": [
    "## show\n",
    "\n",
    "it will show the entire file"
   ],
   "cell_type": "markdown",
   "metadata": {}
  },
  {
   "cell_type": "code",
   "execution_count": 19,
   "metadata": {},
   "outputs": [
    {
     "output_type": "display_data",
     "data": {
      "text/plain": "<IPython.core.display.HTML object>",
      "text/html": "<table border=\"1\" class=\"dataframe\">\n    <thead>\n        <tr>\n            <th>PLAYER</th> <th>POSITION</th> <th>TEAM</th> <th>SALARY</th>\n        </tr>\n    </thead>\n    <tbody>\n        <tr>\n            <td>Paul Millsap    </td> <td>PF      </td> <td>Atlanta Hawks</td> <td>18.6717 </td>\n        </tr>\n        <tr>\n            <td>Al Horford      </td> <td>C       </td> <td>Atlanta Hawks</td> <td>12      </td>\n        </tr>\n        <tr>\n            <td>Tiago Splitter  </td> <td>C       </td> <td>Atlanta Hawks</td> <td>9.75625 </td>\n        </tr>\n        <tr>\n            <td>Jeff Teague     </td> <td>PG      </td> <td>Atlanta Hawks</td> <td>8       </td>\n        </tr>\n        <tr>\n            <td>Kyle Korver     </td> <td>SG      </td> <td>Atlanta Hawks</td> <td>5.74648 </td>\n        </tr>\n        <tr>\n            <td>Thabo Sefolosha </td> <td>SF      </td> <td>Atlanta Hawks</td> <td>4       </td>\n        </tr>\n        <tr>\n            <td>Mike Scott      </td> <td>PF      </td> <td>Atlanta Hawks</td> <td>3.33333 </td>\n        </tr>\n        <tr>\n            <td>Kent Bazemore   </td> <td>SF      </td> <td>Atlanta Hawks</td> <td>2       </td>\n        </tr>\n        <tr>\n            <td>Dennis Schroder </td> <td>PG      </td> <td>Atlanta Hawks</td> <td>1.7634  </td>\n        </tr>\n        <tr>\n            <td>Tim Hardaway Jr.</td> <td>SG      </td> <td>Atlanta Hawks</td> <td>1.30452 </td>\n        </tr>\n        <tr>\n            <td>Walter Tavares  </td> <td>C       </td> <td>Atlanta Hawks</td> <td>1       </td>\n        </tr>\n        <tr>\n            <td>Jason Richardson</td> <td>SG      </td> <td>Atlanta Hawks</td> <td>0.947276</td>\n        </tr>\n        <tr>\n            <td>Lamar Patterson </td> <td>SG      </td> <td>Atlanta Hawks</td> <td>0.525093</td>\n        </tr>\n        <tr>\n            <td>Terran Petteway </td> <td>SG      </td> <td>Atlanta Hawks</td> <td>0.525093</td>\n        </tr>\n    </tbody>\n</table>"
     },
     "metadata": {}
    }
   ],
   "source": [
    "hawks.show()"
   ]
  },
  {
   "source": [
    "let us see who gets the most salary"
   ],
   "cell_type": "markdown",
   "metadata": {}
  },
  {
   "cell_type": "code",
   "execution_count": 20,
   "metadata": {},
   "outputs": [
    {
     "output_type": "execute_result",
     "data": {
      "text/plain": "PLAYER          | POSITION | TEAM                  | SALARY\nKobe Bryant     | SF       | Los Angeles Lakers    | 25\nJoe Johnson     | SF       | Brooklyn Nets         | 24.8949\nLeBron James    | SF       | Cleveland Cavaliers   | 22.9705\nCarmelo Anthony | SF       | New York Knicks       | 22.875\nDwight Howard   | C        | Houston Rockets       | 22.3594\nChris Bosh      | PF       | Miami Heat            | 22.1927\nChris Paul      | PG       | Los Angeles Clippers  | 21.4687\nKevin Durant    | SF       | Oklahoma City Thunder | 20.1586\nDerrick Rose    | PG       | Chicago Bulls         | 20.0931\nDwyane Wade     | SG       | Miami Heat            | 20\n... (407 rows omitted)",
      "text/html": "<table border=\"1\" class=\"dataframe\">\n    <thead>\n        <tr>\n            <th>PLAYER</th> <th>POSITION</th> <th>TEAM</th> <th>SALARY</th>\n        </tr>\n    </thead>\n    <tbody>\n        <tr>\n            <td>Kobe Bryant    </td> <td>SF      </td> <td>Los Angeles Lakers   </td> <td>25     </td>\n        </tr>\n        <tr>\n            <td>Joe Johnson    </td> <td>SF      </td> <td>Brooklyn Nets        </td> <td>24.8949</td>\n        </tr>\n        <tr>\n            <td>LeBron James   </td> <td>SF      </td> <td>Cleveland Cavaliers  </td> <td>22.9705</td>\n        </tr>\n        <tr>\n            <td>Carmelo Anthony</td> <td>SF      </td> <td>New York Knicks      </td> <td>22.875 </td>\n        </tr>\n        <tr>\n            <td>Dwight Howard  </td> <td>C       </td> <td>Houston Rockets      </td> <td>22.3594</td>\n        </tr>\n        <tr>\n            <td>Chris Bosh     </td> <td>PF      </td> <td>Miami Heat           </td> <td>22.1927</td>\n        </tr>\n        <tr>\n            <td>Chris Paul     </td> <td>PG      </td> <td>Los Angeles Clippers </td> <td>21.4687</td>\n        </tr>\n        <tr>\n            <td>Kevin Durant   </td> <td>SF      </td> <td>Oklahoma City Thunder</td> <td>20.1586</td>\n        </tr>\n        <tr>\n            <td>Derrick Rose   </td> <td>PG      </td> <td>Chicago Bulls        </td> <td>20.0931</td>\n        </tr>\n        <tr>\n            <td>Dwyane Wade    </td> <td>SG      </td> <td>Miami Heat           </td> <td>20     </td>\n        </tr>\n    </tbody>\n</table>\n<p>... (407 rows omitted)</p>"
     },
     "metadata": {},
     "execution_count": 20
    }
   ],
   "source": [
    "nba.sort('SALARY', descending=True)"
   ]
  },
  {
   "cell_type": "code",
   "execution_count": 23,
   "metadata": {},
   "outputs": [
    {
     "output_type": "execute_result",
     "data": {
      "text/plain": "PLAYER          | POSITION | TEAM                | SALARY\nJoe Johnson     | SF       | Brooklyn Nets       | 24.8949\nLeBron James    | SF       | Cleveland Cavaliers | 22.9705\nDwight Howard   | C        | Houston Rockets     | 22.3594\nKobe Bryant     | SF       | Los Angeles Lakers  | 25\nChris Bosh      | PF       | Miami Heat          | 22.1927\nCarmelo Anthony | SF       | New York Knicks     | 22.875",
      "text/html": "<table border=\"1\" class=\"dataframe\">\n    <thead>\n        <tr>\n            <th>PLAYER</th> <th>POSITION</th> <th>TEAM</th> <th>SALARY</th>\n        </tr>\n    </thead>\n    <tbody>\n        <tr>\n            <td>Joe Johnson    </td> <td>SF      </td> <td>Brooklyn Nets      </td> <td>24.8949</td>\n        </tr>\n        <tr>\n            <td>LeBron James   </td> <td>SF      </td> <td>Cleveland Cavaliers</td> <td>22.9705</td>\n        </tr>\n        <tr>\n            <td>Dwight Howard  </td> <td>C       </td> <td>Houston Rockets    </td> <td>22.3594</td>\n        </tr>\n        <tr>\n            <td>Kobe Bryant    </td> <td>SF      </td> <td>Los Angeles Lakers </td> <td>25     </td>\n        </tr>\n        <tr>\n            <td>Chris Bosh     </td> <td>PF      </td> <td>Miami Heat         </td> <td>22.1927</td>\n        </tr>\n        <tr>\n            <td>Carmelo Anthony</td> <td>SF      </td> <td>New York Knicks    </td> <td>22.875 </td>\n        </tr>\n    </tbody>\n</table>"
     },
     "metadata": {},
     "execution_count": 23
    }
   ],
   "source": [
    "nba.where('SALARY', are.above(22))"
   ]
  },
  {
   "cell_type": "code",
   "execution_count": 28,
   "metadata": {
    "tags": []
   },
   "outputs": [
    {
     "output_type": "execute_result",
     "data": {
      "text/plain": "PLAYER      | POSITION | TEAM               | SALARY\nJoe Johnson | SF       | Brooklyn Nets      | 24.8949\nKobe Bryant | SF       | Los Angeles Lakers | 25",
      "text/html": "<table border=\"1\" class=\"dataframe\">\n    <thead>\n        <tr>\n            <th>PLAYER</th> <th>POSITION</th> <th>TEAM</th> <th>SALARY</th>\n        </tr>\n    </thead>\n    <tbody>\n        <tr>\n            <td>Joe Johnson</td> <td>SF      </td> <td>Brooklyn Nets     </td> <td>24.8949</td>\n        </tr>\n        <tr>\n            <td>Kobe Bryant</td> <td>SF      </td> <td>Los Angeles Lakers</td> <td>25     </td>\n        </tr>\n    </tbody>\n</table>"
     },
     "metadata": {},
     "execution_count": 28
    }
   ],
   "source": [
    "nba.where(nba.column('SALARY') > 23)"
   ]
  },
  {
   "cell_type": "code",
   "execution_count": null,
   "metadata": {},
   "outputs": [],
   "source": []
  }
 ]
}