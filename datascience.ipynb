{
 "metadata": {
  "language_info": {
   "codemirror_mode": {
    "name": "ipython",
    "version": 3
   },
   "file_extension": ".py",
   "mimetype": "text/x-python",
   "name": "python",
   "nbconvert_exporter": "python",
   "pygments_lexer": "ipython3",
   "version": "3.7.9-final"
  },
  "orig_nbformat": 2,
  "kernelspec": {
   "name": "python_defaultSpec_1600678012315",
   "display_name": "Python 3.7.9 64-bit ('myenv': conda)"
  }
 },
 "nbformat": 4,
 "nbformat_minor": 2,
 "cells": [
  {
   "cell_type": "code",
   "execution_count": 1,
   "metadata": {},
   "outputs": [],
   "source": [
    "import pandas as pd"
   ]
  },
  {
   "cell_type": "code",
   "execution_count": 2,
   "metadata": {},
   "outputs": [
    {
     "output_type": "execute_result",
     "data": {
      "text/plain": "3.0"
     },
     "metadata": {},
     "execution_count": 2
    }
   ],
   "source": [
    "import math\n",
    "import operator\n",
    "math.sqrt(operator.add(4,5))"
   ]
  },
  {
   "cell_type": "code",
   "execution_count": 3,
   "metadata": {},
   "outputs": [],
   "source": [
    "from datascience import *"
   ]
  },
  {
   "source": [
    "the above datascience module can be found in the following link \n",
    "https://github.com/data-8/datascience "
   ],
   "cell_type": "markdown",
   "metadata": {}
  },
  {
   "cell_type": "code",
   "execution_count": 4,
   "metadata": {},
   "outputs": [],
   "source": [
    "path_data = 'data/'\n",
    "import numpy as np \n",
    "%matplotlib inline\n",
    "import matplotlib.pyplot as plots\n",
    "plots.style.use('fivethirtyeight')"
   ]
  },
  {
   "cell_type": "code",
   "execution_count": 5,
   "metadata": {},
   "outputs": [],
   "source": [
    "np.set_printoptions(threshold=50)"
   ]
  },
  {
   "cell_type": "code",
   "execution_count": 6,
   "metadata": {},
   "outputs": [],
   "source": [
    "cones = Table.read_table(path_data + 'cones.csv')"
   ]
  },
  {
   "cell_type": "code",
   "execution_count": 7,
   "metadata": {},
   "outputs": [
    {
     "output_type": "execute_result",
     "data": {
      "text/plain": "Flavor     | Color       | Price\nstrawberry | pink        | 3.55\nchocolate  | light brown | 4.75\nchocolate  | dark brown  | 5.25\nstrawberry | pink        | 5.25\nchocolate  | dark brown  | 5.25\nbubblegum  | pink        | 4.75",
      "text/html": "<table border=\"1\" class=\"dataframe\">\n    <thead>\n        <tr>\n            <th>Flavor</th> <th>Color</th> <th>Price</th>\n        </tr>\n    </thead>\n    <tbody>\n        <tr>\n            <td>strawberry</td> <td>pink       </td> <td>3.55 </td>\n        </tr>\n        <tr>\n            <td>chocolate </td> <td>light brown</td> <td>4.75 </td>\n        </tr>\n        <tr>\n            <td>chocolate </td> <td>dark brown </td> <td>5.25 </td>\n        </tr>\n        <tr>\n            <td>strawberry</td> <td>pink       </td> <td>5.25 </td>\n        </tr>\n        <tr>\n            <td>chocolate </td> <td>dark brown </td> <td>5.25 </td>\n        </tr>\n        <tr>\n            <td>bubblegum </td> <td>pink       </td> <td>4.75 </td>\n        </tr>\n    </tbody>\n</table>"
     },
     "metadata": {},
     "execution_count": 7
    }
   ],
   "source": [
    "cones"
   ]
  },
  {
   "source": [
    "## show\n",
    "the table method `show` can be used to show only some rows "
   ],
   "cell_type": "markdown",
   "metadata": {}
  },
  {
   "cell_type": "code",
   "execution_count": 8,
   "metadata": {},
   "outputs": [
    {
     "output_type": "display_data",
     "data": {
      "text/plain": "<IPython.core.display.HTML object>",
      "text/html": "<table border=\"1\" class=\"dataframe\">\n    <thead>\n        <tr>\n            <th>Flavor</th> <th>Color</th> <th>Price</th>\n        </tr>\n    </thead>\n    <tbody>\n        <tr>\n            <td>strawberry</td> <td>pink       </td> <td>3.55 </td>\n        </tr>\n        <tr>\n            <td>chocolate </td> <td>light brown</td> <td>4.75 </td>\n        </tr>\n    </tbody>\n</table>\n<p>... (4 rows omitted)</p>"
     },
     "metadata": {}
    }
   ],
   "source": [
    "cones.show(2)"
   ]
  },
  {
   "source": [
    "## Select\n",
    "to chose some columns"
   ],
   "cell_type": "markdown",
   "metadata": {}
  },
  {
   "cell_type": "code",
   "execution_count": 9,
   "metadata": {},
   "outputs": [
    {
     "output_type": "execute_result",
     "data": {
      "text/plain": "Flavor\nstrawberry\nchocolate\nchocolate\nstrawberry\nchocolate\nbubblegum",
      "text/html": "<table border=\"1\" class=\"dataframe\">\n    <thead>\n        <tr>\n            <th>Flavor</th>\n        </tr>\n    </thead>\n    <tbody>\n        <tr>\n            <td>strawberry</td>\n        </tr>\n        <tr>\n            <td>chocolate </td>\n        </tr>\n        <tr>\n            <td>chocolate </td>\n        </tr>\n        <tr>\n            <td>strawberry</td>\n        </tr>\n        <tr>\n            <td>chocolate </td>\n        </tr>\n        <tr>\n            <td>bubblegum </td>\n        </tr>\n    </tbody>\n</table>"
     },
     "metadata": {},
     "execution_count": 9
    }
   ],
   "source": [
    "cones.select('Flavor')"
   ]
  },
  {
   "cell_type": "code",
   "execution_count": 10,
   "metadata": {},
   "outputs": [
    {
     "output_type": "execute_result",
     "data": {
      "text/plain": "Flavor     | Price\nstrawberry | 3.55\nchocolate  | 4.75\nchocolate  | 5.25\nstrawberry | 5.25\nchocolate  | 5.25\nbubblegum  | 4.75",
      "text/html": "<table border=\"1\" class=\"dataframe\">\n    <thead>\n        <tr>\n            <th>Flavor</th> <th>Price</th>\n        </tr>\n    </thead>\n    <tbody>\n        <tr>\n            <td>strawberry</td> <td>3.55 </td>\n        </tr>\n        <tr>\n            <td>chocolate </td> <td>4.75 </td>\n        </tr>\n        <tr>\n            <td>chocolate </td> <td>5.25 </td>\n        </tr>\n        <tr>\n            <td>strawberry</td> <td>5.25 </td>\n        </tr>\n        <tr>\n            <td>chocolate </td> <td>5.25 </td>\n        </tr>\n        <tr>\n            <td>bubblegum </td> <td>4.75 </td>\n        </tr>\n    </tbody>\n</table>"
     },
     "metadata": {},
     "execution_count": 10
    }
   ],
   "source": [
    "cones.select('Flavor', 'Price')"
   ]
  },
  {
   "source": [
    "## drop"
   ],
   "cell_type": "markdown",
   "metadata": {}
  },
  {
   "cell_type": "code",
   "execution_count": 11,
   "metadata": {},
   "outputs": [
    {
     "output_type": "execute_result",
     "data": {
      "text/plain": "Flavor     | Price\nstrawberry | 3.55\nchocolate  | 4.75\nchocolate  | 5.25\nstrawberry | 5.25\nchocolate  | 5.25\nbubblegum  | 4.75",
      "text/html": "<table border=\"1\" class=\"dataframe\">\n    <thead>\n        <tr>\n            <th>Flavor</th> <th>Price</th>\n        </tr>\n    </thead>\n    <tbody>\n        <tr>\n            <td>strawberry</td> <td>3.55 </td>\n        </tr>\n        <tr>\n            <td>chocolate </td> <td>4.75 </td>\n        </tr>\n        <tr>\n            <td>chocolate </td> <td>5.25 </td>\n        </tr>\n        <tr>\n            <td>strawberry</td> <td>5.25 </td>\n        </tr>\n        <tr>\n            <td>chocolate </td> <td>5.25 </td>\n        </tr>\n        <tr>\n            <td>bubblegum </td> <td>4.75 </td>\n        </tr>\n    </tbody>\n</table>"
     },
     "metadata": {},
     "execution_count": 11
    }
   ],
   "source": [
    "no_color = cones.drop('Color')\n",
    "no_color"
   ]
  },
  {
   "source": [
    "## sorting"
   ],
   "cell_type": "markdown",
   "metadata": {}
  },
  {
   "cell_type": "code",
   "execution_count": 12,
   "metadata": {},
   "outputs": [
    {
     "output_type": "execute_result",
     "data": {
      "text/plain": "Flavor     | Color       | Price\nstrawberry | pink        | 3.55\nchocolate  | light brown | 4.75\nbubblegum  | pink        | 4.75\nchocolate  | dark brown  | 5.25\nstrawberry | pink        | 5.25\nchocolate  | dark brown  | 5.25",
      "text/html": "<table border=\"1\" class=\"dataframe\">\n    <thead>\n        <tr>\n            <th>Flavor</th> <th>Color</th> <th>Price</th>\n        </tr>\n    </thead>\n    <tbody>\n        <tr>\n            <td>strawberry</td> <td>pink       </td> <td>3.55 </td>\n        </tr>\n        <tr>\n            <td>chocolate </td> <td>light brown</td> <td>4.75 </td>\n        </tr>\n        <tr>\n            <td>bubblegum </td> <td>pink       </td> <td>4.75 </td>\n        </tr>\n        <tr>\n            <td>chocolate </td> <td>dark brown </td> <td>5.25 </td>\n        </tr>\n        <tr>\n            <td>strawberry</td> <td>pink       </td> <td>5.25 </td>\n        </tr>\n        <tr>\n            <td>chocolate </td> <td>dark brown </td> <td>5.25 </td>\n        </tr>\n    </tbody>\n</table>"
     },
     "metadata": {},
     "execution_count": 12
    }
   ],
   "source": [
    "cones.sort('Price')"
   ]
  },
  {
   "cell_type": "code",
   "execution_count": 13,
   "metadata": {},
   "outputs": [
    {
     "output_type": "execute_result",
     "data": {
      "text/plain": "Flavor     | Color       | Price\nchocolate  | dark brown  | 5.25\nstrawberry | pink        | 5.25\nchocolate  | dark brown  | 5.25\nbubblegum  | pink        | 4.75\nchocolate  | light brown | 4.75\nstrawberry | pink        | 3.55",
      "text/html": "<table border=\"1\" class=\"dataframe\">\n    <thead>\n        <tr>\n            <th>Flavor</th> <th>Color</th> <th>Price</th>\n        </tr>\n    </thead>\n    <tbody>\n        <tr>\n            <td>chocolate </td> <td>dark brown </td> <td>5.25 </td>\n        </tr>\n        <tr>\n            <td>strawberry</td> <td>pink       </td> <td>5.25 </td>\n        </tr>\n        <tr>\n            <td>chocolate </td> <td>dark brown </td> <td>5.25 </td>\n        </tr>\n        <tr>\n            <td>bubblegum </td> <td>pink       </td> <td>4.75 </td>\n        </tr>\n        <tr>\n            <td>chocolate </td> <td>light brown</td> <td>4.75 </td>\n        </tr>\n        <tr>\n            <td>strawberry</td> <td>pink       </td> <td>3.55 </td>\n        </tr>\n    </tbody>\n</table>"
     },
     "metadata": {},
     "execution_count": 13
    }
   ],
   "source": [
    "cones.sort('Price', descending=True)"
   ]
  },
  {
   "source": [
    "## where"
   ],
   "cell_type": "markdown",
   "metadata": {}
  },
  {
   "cell_type": "code",
   "execution_count": 14,
   "metadata": {},
   "outputs": [
    {
     "output_type": "execute_result",
     "data": {
      "text/plain": "Flavor    | Color       | Price\nchocolate | light brown | 4.75\nchocolate | dark brown  | 5.25\nchocolate | dark brown  | 5.25",
      "text/html": "<table border=\"1\" class=\"dataframe\">\n    <thead>\n        <tr>\n            <th>Flavor</th> <th>Color</th> <th>Price</th>\n        </tr>\n    </thead>\n    <tbody>\n        <tr>\n            <td>chocolate</td> <td>light brown</td> <td>4.75 </td>\n        </tr>\n        <tr>\n            <td>chocolate</td> <td>dark brown </td> <td>5.25 </td>\n        </tr>\n        <tr>\n            <td>chocolate</td> <td>dark brown </td> <td>5.25 </td>\n        </tr>\n    </tbody>\n</table>"
     },
     "metadata": {},
     "execution_count": 14
    }
   ],
   "source": [
    "cones.where('Flavor', 'chocolate')"
   ]
  },
  {
   "source": [
    "## NBA salary data"
   ],
   "cell_type": "markdown",
   "metadata": {}
  },
  {
   "cell_type": "code",
   "execution_count": 15,
   "metadata": {},
   "outputs": [],
   "source": [
    "nba = Table.read_table(path_data+'nba_salaries.csv').relabeled(3, 'SALARY')"
   ]
  },
  {
   "cell_type": "code",
   "execution_count": 16,
   "metadata": {},
   "outputs": [
    {
     "output_type": "execute_result",
     "data": {
      "text/plain": "PLAYER           | POSITION | TEAM          | SALARY\nPaul Millsap     | PF       | Atlanta Hawks | 18.6717\nAl Horford       | C        | Atlanta Hawks | 12\nTiago Splitter   | C        | Atlanta Hawks | 9.75625\nJeff Teague      | PG       | Atlanta Hawks | 8\nKyle Korver      | SG       | Atlanta Hawks | 5.74648\nThabo Sefolosha  | SF       | Atlanta Hawks | 4\nMike Scott       | PF       | Atlanta Hawks | 3.33333\nKent Bazemore    | SF       | Atlanta Hawks | 2\nDennis Schroder  | PG       | Atlanta Hawks | 1.7634\nTim Hardaway Jr. | SG       | Atlanta Hawks | 1.30452\n... (407 rows omitted)",
      "text/html": "<table border=\"1\" class=\"dataframe\">\n    <thead>\n        <tr>\n            <th>PLAYER</th> <th>POSITION</th> <th>TEAM</th> <th>SALARY</th>\n        </tr>\n    </thead>\n    <tbody>\n        <tr>\n            <td>Paul Millsap    </td> <td>PF      </td> <td>Atlanta Hawks</td> <td>18.6717</td>\n        </tr>\n        <tr>\n            <td>Al Horford      </td> <td>C       </td> <td>Atlanta Hawks</td> <td>12     </td>\n        </tr>\n        <tr>\n            <td>Tiago Splitter  </td> <td>C       </td> <td>Atlanta Hawks</td> <td>9.75625</td>\n        </tr>\n        <tr>\n            <td>Jeff Teague     </td> <td>PG      </td> <td>Atlanta Hawks</td> <td>8      </td>\n        </tr>\n        <tr>\n            <td>Kyle Korver     </td> <td>SG      </td> <td>Atlanta Hawks</td> <td>5.74648</td>\n        </tr>\n        <tr>\n            <td>Thabo Sefolosha </td> <td>SF      </td> <td>Atlanta Hawks</td> <td>4      </td>\n        </tr>\n        <tr>\n            <td>Mike Scott      </td> <td>PF      </td> <td>Atlanta Hawks</td> <td>3.33333</td>\n        </tr>\n        <tr>\n            <td>Kent Bazemore   </td> <td>SF      </td> <td>Atlanta Hawks</td> <td>2      </td>\n        </tr>\n        <tr>\n            <td>Dennis Schroder </td> <td>PG      </td> <td>Atlanta Hawks</td> <td>1.7634 </td>\n        </tr>\n        <tr>\n            <td>Tim Hardaway Jr.</td> <td>SG      </td> <td>Atlanta Hawks</td> <td>1.30452</td>\n        </tr>\n    </tbody>\n</table>\n<p>... (407 rows omitted)</p>"
     },
     "metadata": {},
     "execution_count": 16
    }
   ],
   "source": [
    "nba"
   ]
  },
  {
   "cell_type": "code",
   "execution_count": 17,
   "metadata": {},
   "outputs": [
    {
     "output_type": "execute_result",
     "data": {
      "text/plain": "PLAYER           | POSITION | TEAM          | SALARY\nPaul Millsap     | PF       | Atlanta Hawks | 18.6717\nAl Horford       | C        | Atlanta Hawks | 12\nTiago Splitter   | C        | Atlanta Hawks | 9.75625\nJeff Teague      | PG       | Atlanta Hawks | 8\nKyle Korver      | SG       | Atlanta Hawks | 5.74648\nThabo Sefolosha  | SF       | Atlanta Hawks | 4\nMike Scott       | PF       | Atlanta Hawks | 3.33333\nKent Bazemore    | SF       | Atlanta Hawks | 2\nDennis Schroder  | PG       | Atlanta Hawks | 1.7634\nTim Hardaway Jr. | SG       | Atlanta Hawks | 1.30452\n... (4 rows omitted)",
      "text/html": "<table border=\"1\" class=\"dataframe\">\n    <thead>\n        <tr>\n            <th>PLAYER</th> <th>POSITION</th> <th>TEAM</th> <th>SALARY</th>\n        </tr>\n    </thead>\n    <tbody>\n        <tr>\n            <td>Paul Millsap    </td> <td>PF      </td> <td>Atlanta Hawks</td> <td>18.6717</td>\n        </tr>\n        <tr>\n            <td>Al Horford      </td> <td>C       </td> <td>Atlanta Hawks</td> <td>12     </td>\n        </tr>\n        <tr>\n            <td>Tiago Splitter  </td> <td>C       </td> <td>Atlanta Hawks</td> <td>9.75625</td>\n        </tr>\n        <tr>\n            <td>Jeff Teague     </td> <td>PG      </td> <td>Atlanta Hawks</td> <td>8      </td>\n        </tr>\n        <tr>\n            <td>Kyle Korver     </td> <td>SG      </td> <td>Atlanta Hawks</td> <td>5.74648</td>\n        </tr>\n        <tr>\n            <td>Thabo Sefolosha </td> <td>SF      </td> <td>Atlanta Hawks</td> <td>4      </td>\n        </tr>\n        <tr>\n            <td>Mike Scott      </td> <td>PF      </td> <td>Atlanta Hawks</td> <td>3.33333</td>\n        </tr>\n        <tr>\n            <td>Kent Bazemore   </td> <td>SF      </td> <td>Atlanta Hawks</td> <td>2      </td>\n        </tr>\n        <tr>\n            <td>Dennis Schroder </td> <td>PG      </td> <td>Atlanta Hawks</td> <td>1.7634 </td>\n        </tr>\n        <tr>\n            <td>Tim Hardaway Jr.</td> <td>SG      </td> <td>Atlanta Hawks</td> <td>1.30452</td>\n        </tr>\n    </tbody>\n</table>\n<p>... (4 rows omitted)</p>"
     },
     "metadata": {},
     "execution_count": 17
    }
   ],
   "source": [
    "hawks = nba.where('TEAM', 'Atlanta Hawks')\n",
    "hawks"
   ]
  },
  {
   "source": [
    "## show\n",
    "\n",
    "it will show the entire file"
   ],
   "cell_type": "markdown",
   "metadata": {}
  },
  {
   "cell_type": "code",
   "execution_count": 18,
   "metadata": {},
   "outputs": [
    {
     "output_type": "display_data",
     "data": {
      "text/plain": "<IPython.core.display.HTML object>",
      "text/html": "<table border=\"1\" class=\"dataframe\">\n    <thead>\n        <tr>\n            <th>PLAYER</th> <th>POSITION</th> <th>TEAM</th> <th>SALARY</th>\n        </tr>\n    </thead>\n    <tbody>\n        <tr>\n            <td>Paul Millsap    </td> <td>PF      </td> <td>Atlanta Hawks</td> <td>18.6717 </td>\n        </tr>\n        <tr>\n            <td>Al Horford      </td> <td>C       </td> <td>Atlanta Hawks</td> <td>12      </td>\n        </tr>\n        <tr>\n            <td>Tiago Splitter  </td> <td>C       </td> <td>Atlanta Hawks</td> <td>9.75625 </td>\n        </tr>\n        <tr>\n            <td>Jeff Teague     </td> <td>PG      </td> <td>Atlanta Hawks</td> <td>8       </td>\n        </tr>\n        <tr>\n            <td>Kyle Korver     </td> <td>SG      </td> <td>Atlanta Hawks</td> <td>5.74648 </td>\n        </tr>\n        <tr>\n            <td>Thabo Sefolosha </td> <td>SF      </td> <td>Atlanta Hawks</td> <td>4       </td>\n        </tr>\n        <tr>\n            <td>Mike Scott      </td> <td>PF      </td> <td>Atlanta Hawks</td> <td>3.33333 </td>\n        </tr>\n        <tr>\n            <td>Kent Bazemore   </td> <td>SF      </td> <td>Atlanta Hawks</td> <td>2       </td>\n        </tr>\n        <tr>\n            <td>Dennis Schroder </td> <td>PG      </td> <td>Atlanta Hawks</td> <td>1.7634  </td>\n        </tr>\n        <tr>\n            <td>Tim Hardaway Jr.</td> <td>SG      </td> <td>Atlanta Hawks</td> <td>1.30452 </td>\n        </tr>\n        <tr>\n            <td>Walter Tavares  </td> <td>C       </td> <td>Atlanta Hawks</td> <td>1       </td>\n        </tr>\n        <tr>\n            <td>Jason Richardson</td> <td>SG      </td> <td>Atlanta Hawks</td> <td>0.947276</td>\n        </tr>\n        <tr>\n            <td>Lamar Patterson </td> <td>SG      </td> <td>Atlanta Hawks</td> <td>0.525093</td>\n        </tr>\n        <tr>\n            <td>Terran Petteway </td> <td>SG      </td> <td>Atlanta Hawks</td> <td>0.525093</td>\n        </tr>\n    </tbody>\n</table>"
     },
     "metadata": {}
    }
   ],
   "source": [
    "hawks.show()"
   ]
  },
  {
   "source": [
    "let us see who gets the most salary"
   ],
   "cell_type": "markdown",
   "metadata": {}
  },
  {
   "cell_type": "code",
   "execution_count": 19,
   "metadata": {},
   "outputs": [
    {
     "output_type": "execute_result",
     "data": {
      "text/plain": "PLAYER          | POSITION | TEAM                  | SALARY\nKobe Bryant     | SF       | Los Angeles Lakers    | 25\nJoe Johnson     | SF       | Brooklyn Nets         | 24.8949\nLeBron James    | SF       | Cleveland Cavaliers   | 22.9705\nCarmelo Anthony | SF       | New York Knicks       | 22.875\nDwight Howard   | C        | Houston Rockets       | 22.3594\nChris Bosh      | PF       | Miami Heat            | 22.1927\nChris Paul      | PG       | Los Angeles Clippers  | 21.4687\nKevin Durant    | SF       | Oklahoma City Thunder | 20.1586\nDerrick Rose    | PG       | Chicago Bulls         | 20.0931\nDwyane Wade     | SG       | Miami Heat            | 20\n... (407 rows omitted)",
      "text/html": "<table border=\"1\" class=\"dataframe\">\n    <thead>\n        <tr>\n            <th>PLAYER</th> <th>POSITION</th> <th>TEAM</th> <th>SALARY</th>\n        </tr>\n    </thead>\n    <tbody>\n        <tr>\n            <td>Kobe Bryant    </td> <td>SF      </td> <td>Los Angeles Lakers   </td> <td>25     </td>\n        </tr>\n        <tr>\n            <td>Joe Johnson    </td> <td>SF      </td> <td>Brooklyn Nets        </td> <td>24.8949</td>\n        </tr>\n        <tr>\n            <td>LeBron James   </td> <td>SF      </td> <td>Cleveland Cavaliers  </td> <td>22.9705</td>\n        </tr>\n        <tr>\n            <td>Carmelo Anthony</td> <td>SF      </td> <td>New York Knicks      </td> <td>22.875 </td>\n        </tr>\n        <tr>\n            <td>Dwight Howard  </td> <td>C       </td> <td>Houston Rockets      </td> <td>22.3594</td>\n        </tr>\n        <tr>\n            <td>Chris Bosh     </td> <td>PF      </td> <td>Miami Heat           </td> <td>22.1927</td>\n        </tr>\n        <tr>\n            <td>Chris Paul     </td> <td>PG      </td> <td>Los Angeles Clippers </td> <td>21.4687</td>\n        </tr>\n        <tr>\n            <td>Kevin Durant   </td> <td>SF      </td> <td>Oklahoma City Thunder</td> <td>20.1586</td>\n        </tr>\n        <tr>\n            <td>Derrick Rose   </td> <td>PG      </td> <td>Chicago Bulls        </td> <td>20.0931</td>\n        </tr>\n        <tr>\n            <td>Dwyane Wade    </td> <td>SG      </td> <td>Miami Heat           </td> <td>20     </td>\n        </tr>\n    </tbody>\n</table>\n<p>... (407 rows omitted)</p>"
     },
     "metadata": {},
     "execution_count": 19
    }
   ],
   "source": [
    "nba.sort('SALARY', descending=True)"
   ]
  },
  {
   "cell_type": "code",
   "execution_count": 20,
   "metadata": {},
   "outputs": [
    {
     "output_type": "execute_result",
     "data": {
      "text/plain": "PLAYER          | POSITION | TEAM                | SALARY\nJoe Johnson     | SF       | Brooklyn Nets       | 24.8949\nLeBron James    | SF       | Cleveland Cavaliers | 22.9705\nDwight Howard   | C        | Houston Rockets     | 22.3594\nKobe Bryant     | SF       | Los Angeles Lakers  | 25\nChris Bosh      | PF       | Miami Heat          | 22.1927\nCarmelo Anthony | SF       | New York Knicks     | 22.875",
      "text/html": "<table border=\"1\" class=\"dataframe\">\n    <thead>\n        <tr>\n            <th>PLAYER</th> <th>POSITION</th> <th>TEAM</th> <th>SALARY</th>\n        </tr>\n    </thead>\n    <tbody>\n        <tr>\n            <td>Joe Johnson    </td> <td>SF      </td> <td>Brooklyn Nets      </td> <td>24.8949</td>\n        </tr>\n        <tr>\n            <td>LeBron James   </td> <td>SF      </td> <td>Cleveland Cavaliers</td> <td>22.9705</td>\n        </tr>\n        <tr>\n            <td>Dwight Howard  </td> <td>C       </td> <td>Houston Rockets    </td> <td>22.3594</td>\n        </tr>\n        <tr>\n            <td>Kobe Bryant    </td> <td>SF      </td> <td>Los Angeles Lakers </td> <td>25     </td>\n        </tr>\n        <tr>\n            <td>Chris Bosh     </td> <td>PF      </td> <td>Miami Heat         </td> <td>22.1927</td>\n        </tr>\n        <tr>\n            <td>Carmelo Anthony</td> <td>SF      </td> <td>New York Knicks    </td> <td>22.875 </td>\n        </tr>\n    </tbody>\n</table>"
     },
     "metadata": {},
     "execution_count": 20
    }
   ],
   "source": [
    "nba.where('SALARY', are.above(22))"
   ]
  },
  {
   "cell_type": "code",
   "execution_count": 21,
   "metadata": {
    "tags": []
   },
   "outputs": [
    {
     "output_type": "execute_result",
     "data": {
      "text/plain": "PLAYER      | POSITION | TEAM               | SALARY\nJoe Johnson | SF       | Brooklyn Nets      | 24.8949\nKobe Bryant | SF       | Los Angeles Lakers | 25",
      "text/html": "<table border=\"1\" class=\"dataframe\">\n    <thead>\n        <tr>\n            <th>PLAYER</th> <th>POSITION</th> <th>TEAM</th> <th>SALARY</th>\n        </tr>\n    </thead>\n    <tbody>\n        <tr>\n            <td>Joe Johnson</td> <td>SF      </td> <td>Brooklyn Nets     </td> <td>24.8949</td>\n        </tr>\n        <tr>\n            <td>Kobe Bryant</td> <td>SF      </td> <td>Los Angeles Lakers</td> <td>25     </td>\n        </tr>\n    </tbody>\n</table>"
     },
     "metadata": {},
     "execution_count": 21
    }
   ],
   "source": [
    "nba.where(nba.column('SALARY') > 23)"
   ]
  },
  {
   "source": [
    "## String methods"
   ],
   "cell_type": "markdown",
   "metadata": {}
  },
  {
   "cell_type": "code",
   "execution_count": 22,
   "metadata": {},
   "outputs": [
    {
     "output_type": "execute_result",
     "data": {
      "text/plain": "'HELLO'"
     },
     "metadata": {},
     "execution_count": 22
    }
   ],
   "source": [
    "\"hello\".upper()"
   ]
  },
  {
   "cell_type": "code",
   "execution_count": 23,
   "metadata": {},
   "outputs": [
    {
     "output_type": "execute_result",
     "data": {
      "text/plain": "'abdul aziz'"
     },
     "metadata": {},
     "execution_count": 23
    }
   ],
   "source": [
    "\"abdul baqi\".replace('baqi', 'aziz')"
   ]
  },
  {
   "source": [
    "## Array"
   ],
   "cell_type": "markdown",
   "metadata": {}
  },
  {
   "cell_type": "code",
   "execution_count": 24,
   "metadata": {},
   "outputs": [],
   "source": [
    "pos = make_array(\"verb\", 'noun', 'adjective', 'pronoun', 'adverb')"
   ]
  },
  {
   "cell_type": "code",
   "execution_count": 25,
   "metadata": {},
   "outputs": [
    {
     "output_type": "execute_result",
     "data": {
      "text/plain": "array(['verb', 'noun', 'adjective', 'pronoun', 'adverb'], dtype='<U9')"
     },
     "metadata": {},
     "execution_count": 25
    }
   ],
   "source": [
    "pos"
   ]
  },
  {
   "cell_type": "code",
   "execution_count": 26,
   "metadata": {},
   "outputs": [
    {
     "output_type": "execute_result",
     "data": {
      "text/plain": "array([13.6  , 14.387, 14.585, 15.164])"
     },
     "metadata": {},
     "execution_count": 26
    }
   ],
   "source": [
    "baseline_high = 14.48\n",
    "highs = make_array(baseline_high - 0.880, \n",
    "                   baseline_high - 0.093,\n",
    "                   baseline_high + 0.105, \n",
    "                   baseline_high + 0.684)\n",
    "highs"
   ]
  },
  {
   "cell_type": "code",
   "execution_count": 27,
   "metadata": {},
   "outputs": [
    {
     "output_type": "execute_result",
     "data": {
      "text/plain": "array([56.48  , 57.8966, 58.253 , 59.2952])"
     },
     "metadata": {},
     "execution_count": 27
    }
   ],
   "source": [
    "(9/5) * highs + 32"
   ]
  },
  {
   "source": [
    "## array functions"
   ],
   "cell_type": "markdown",
   "metadata": {}
  },
  {
   "cell_type": "code",
   "execution_count": 28,
   "metadata": {},
   "outputs": [
    {
     "output_type": "execute_result",
     "data": {
      "text/plain": "4"
     },
     "metadata": {},
     "execution_count": 28
    }
   ],
   "source": [
    "highs.size"
   ]
  },
  {
   "cell_type": "code",
   "execution_count": 29,
   "metadata": {},
   "outputs": [
    {
     "output_type": "execute_result",
     "data": {
      "text/plain": "57.736000000000004"
     },
     "metadata": {},
     "execution_count": 29
    }
   ],
   "source": [
    "highs.sum()"
   ]
  },
  {
   "cell_type": "code",
   "execution_count": 30,
   "metadata": {},
   "outputs": [
    {
     "output_type": "execute_result",
     "data": {
      "text/plain": "14.434000000000001"
     },
     "metadata": {},
     "execution_count": 30
    }
   ],
   "source": [
    "highs.mean()"
   ]
  },
  {
   "source": [
    "## NP array functions\n",
    "\n",
    "the diff function computes the difference between each adjacent pair of elements in an array. The first element of the diff is the second element minus the first."
   ],
   "cell_type": "markdown",
   "metadata": {}
  },
  {
   "cell_type": "code",
   "execution_count": 31,
   "metadata": {},
   "outputs": [
    {
     "output_type": "execute_result",
     "data": {
      "text/plain": "array([0.787, 0.198, 0.579])"
     },
     "metadata": {},
     "execution_count": 31
    }
   ],
   "source": [
    "np.diff(highs)"
   ]
  },
  {
   "cell_type": "code",
   "execution_count": 32,
   "metadata": {},
   "outputs": [
    {
     "output_type": "execute_result",
     "data": {
      "text/plain": "43274.231214608"
     },
     "metadata": {},
     "execution_count": 32
    }
   ],
   "source": [
    "np.prod(highs)"
   ]
  },
  {
   "cell_type": "code",
   "execution_count": 33,
   "metadata": {},
   "outputs": [
    {
     "output_type": "execute_result",
     "data": {
      "text/plain": "57.736000000000004"
     },
     "metadata": {},
     "execution_count": 33
    }
   ],
   "source": [
    "np.sum(highs)"
   ]
  },
  {
   "source": [
    "check many useful `np` functions in this page:\n",
    "https://docs.microsoft.com/en-us/learn/modules/introduction-python-using-datascience-library/12-sequences "
   ],
   "cell_type": "markdown",
   "metadata": {}
  },
  {
   "source": [
    "## Ranges"
   ],
   "cell_type": "markdown",
   "metadata": {}
  },
  {
   "cell_type": "code",
   "execution_count": 34,
   "metadata": {},
   "outputs": [
    {
     "output_type": "execute_result",
     "data": {
      "text/plain": "array([0, 1, 2, 3, 4, 5, 6, 7, 8, 9])"
     },
     "metadata": {},
     "execution_count": 34
    }
   ],
   "source": [
    "np.arange(10)"
   ]
  },
  {
   "cell_type": "code",
   "execution_count": 35,
   "metadata": {},
   "outputs": [
    {
     "output_type": "execute_result",
     "data": {
      "text/plain": "array([70, 71, 72, 73, 74, 75, 76, 77, 78, 79, 80, 81, 82, 83, 84, 85, 86,\n       87, 88, 89, 90, 91, 92, 93, 94, 95, 96, 97, 98, 99])"
     },
     "metadata": {},
     "execution_count": 35
    }
   ],
   "source": [
    "np.arange(70, 100)"
   ]
  },
  {
   "cell_type": "code",
   "execution_count": 36,
   "metadata": {},
   "outputs": [
    {
     "output_type": "execute_result",
     "data": {
      "text/plain": "array([1, 3, 5, 7, 9])"
     },
     "metadata": {},
     "execution_count": 36
    }
   ],
   "source": [
    "#with steps\n",
    "np.arange(1,10,2)"
   ]
  },
  {
   "source": [
    "## Back to Tables"
   ],
   "cell_type": "markdown",
   "metadata": {}
  },
  {
   "source": [
    "The with_columns method on a table constructs a new table with additional labeled columns. Each column of a table is an array. To add one new column to a table, call with_columns with a label and an array. (The with_column method can be used with the same effect.)"
   ],
   "cell_type": "markdown",
   "metadata": {}
  },
  {
   "cell_type": "code",
   "execution_count": 37,
   "metadata": {},
   "outputs": [
    {
     "output_type": "execute_result",
     "data": {
      "text/plain": "Number of petals\n8\n43\n9",
      "text/html": "<table border=\"1\" class=\"dataframe\">\n    <thead>\n        <tr>\n            <th>Number of petals</th>\n        </tr>\n    </thead>\n    <tbody>\n        <tr>\n            <td>8               </td>\n        </tr>\n        <tr>\n            <td>43              </td>\n        </tr>\n        <tr>\n            <td>9               </td>\n        </tr>\n    </tbody>\n</table>"
     },
     "metadata": {},
     "execution_count": 37
    }
   ],
   "source": [
    "Table().with_columns('Number of petals', make_array(8,43,9))"
   ]
  },
  {
   "cell_type": "code",
   "execution_count": 38,
   "metadata": {},
   "outputs": [
    {
     "output_type": "execute_result",
     "data": {
      "text/plain": "Number of petals | Name      | Color\n8                | lotus     | pink\n34               | sunflower | yellow\n5                | rose      | red",
      "text/html": "<table border=\"1\" class=\"dataframe\">\n    <thead>\n        <tr>\n            <th>Number of petals</th> <th>Name</th> <th>Color</th>\n        </tr>\n    </thead>\n    <tbody>\n        <tr>\n            <td>8               </td> <td>lotus    </td> <td>pink  </td>\n        </tr>\n        <tr>\n            <td>34              </td> <td>sunflower</td> <td>yellow</td>\n        </tr>\n        <tr>\n            <td>5               </td> <td>rose     </td> <td>red   </td>\n        </tr>\n    </tbody>\n</table>"
     },
     "metadata": {},
     "execution_count": 38
    }
   ],
   "source": [
    "flowers = Table().with_columns(\n",
    "    'Number of petals', make_array(8, 34, 5),\n",
    "    'Name', make_array('lotus', 'sunflower', 'rose')\n",
    ")\n",
    "\n",
    "flowers.with_columns(\n",
    "    'Color', make_array('pink', 'yellow', 'red')\n",
    ")"
   ]
  },
  {
   "cell_type": "code",
   "execution_count": 39,
   "metadata": {},
   "outputs": [
    {
     "output_type": "execute_result",
     "data": {
      "text/plain": "Longitude | Latitude | City        | Direction | Survivors\n32        | 54.8     | Smolensk    | Advance   | 145000\n33.2      | 54.9     | Dorogobouge | Advance   | 140000\n34.4      | 55.5     | Chjat       | Advance   | 127100\n37.6      | 55.8     | Moscou      | Advance   | 100000\n34.3      | 55.2     | Wixma       | Retreat   | 55000\n32        | 54.6     | Smolensk    | Retreat   | 24000\n30.4      | 54.4     | Orscha      | Retreat   | 20000\n26.8      | 54.3     | Moiodexno   | Retreat   | 12000",
      "text/html": "<table border=\"1\" class=\"dataframe\">\n    <thead>\n        <tr>\n            <th>Longitude</th> <th>Latitude</th> <th>City</th> <th>Direction</th> <th>Survivors</th>\n        </tr>\n    </thead>\n    <tbody>\n        <tr>\n            <td>32       </td> <td>54.8    </td> <td>Smolensk   </td> <td>Advance  </td> <td>145000   </td>\n        </tr>\n        <tr>\n            <td>33.2     </td> <td>54.9    </td> <td>Dorogobouge</td> <td>Advance  </td> <td>140000   </td>\n        </tr>\n        <tr>\n            <td>34.4     </td> <td>55.5    </td> <td>Chjat      </td> <td>Advance  </td> <td>127100   </td>\n        </tr>\n        <tr>\n            <td>37.6     </td> <td>55.8    </td> <td>Moscou     </td> <td>Advance  </td> <td>100000   </td>\n        </tr>\n        <tr>\n            <td>34.3     </td> <td>55.2    </td> <td>Wixma      </td> <td>Retreat  </td> <td>55000    </td>\n        </tr>\n        <tr>\n            <td>32       </td> <td>54.6    </td> <td>Smolensk   </td> <td>Retreat  </td> <td>24000    </td>\n        </tr>\n        <tr>\n            <td>30.4     </td> <td>54.4    </td> <td>Orscha     </td> <td>Retreat  </td> <td>20000    </td>\n        </tr>\n        <tr>\n            <td>26.8     </td> <td>54.3    </td> <td>Moiodexno  </td> <td>Retreat  </td> <td>12000    </td>\n        </tr>\n    </tbody>\n</table>"
     },
     "metadata": {},
     "execution_count": 39
    }
   ],
   "source": [
    "minard = Table.read_table(path_data+'minard.csv')\n",
    "minard"
   ]
  },
  {
   "source": [
    "## table properties"
   ],
   "cell_type": "markdown",
   "metadata": {}
  },
  {
   "cell_type": "code",
   "execution_count": 40,
   "metadata": {},
   "outputs": [
    {
     "output_type": "execute_result",
     "data": {
      "text/plain": "5"
     },
     "metadata": {},
     "execution_count": 40
    }
   ],
   "source": [
    "minard.num_columns"
   ]
  },
  {
   "cell_type": "code",
   "execution_count": 41,
   "metadata": {},
   "outputs": [
    {
     "output_type": "execute_result",
     "data": {
      "text/plain": "8"
     },
     "metadata": {},
     "execution_count": 41
    }
   ],
   "source": [
    "minard.num_rows"
   ]
  },
  {
   "cell_type": "code",
   "execution_count": 42,
   "metadata": {},
   "outputs": [
    {
     "output_type": "execute_result",
     "data": {
      "text/plain": "('Longitude', 'Latitude', 'City', 'Direction', 'Survivors')"
     },
     "metadata": {},
     "execution_count": 42
    }
   ],
   "source": [
    "minard.labels"
   ]
  },
  {
   "cell_type": "code",
   "execution_count": 43,
   "metadata": {},
   "outputs": [
    {
     "output_type": "execute_result",
     "data": {
      "text/plain": "Longitude | Latitude | City name   | Direction | Survivors\n32        | 54.8     | Smolensk    | Advance   | 145000\n33.2      | 54.9     | Dorogobouge | Advance   | 140000\n34.4      | 55.5     | Chjat       | Advance   | 127100\n37.6      | 55.8     | Moscou      | Advance   | 100000\n34.3      | 55.2     | Wixma       | Retreat   | 55000\n32        | 54.6     | Smolensk    | Retreat   | 24000\n30.4      | 54.4     | Orscha      | Retreat   | 20000\n26.8      | 54.3     | Moiodexno   | Retreat   | 12000",
      "text/html": "<table border=\"1\" class=\"dataframe\">\n    <thead>\n        <tr>\n            <th>Longitude</th> <th>Latitude</th> <th>City name</th> <th>Direction</th> <th>Survivors</th>\n        </tr>\n    </thead>\n    <tbody>\n        <tr>\n            <td>32       </td> <td>54.8    </td> <td>Smolensk   </td> <td>Advance  </td> <td>145000   </td>\n        </tr>\n        <tr>\n            <td>33.2     </td> <td>54.9    </td> <td>Dorogobouge</td> <td>Advance  </td> <td>140000   </td>\n        </tr>\n        <tr>\n            <td>34.4     </td> <td>55.5    </td> <td>Chjat      </td> <td>Advance  </td> <td>127100   </td>\n        </tr>\n        <tr>\n            <td>37.6     </td> <td>55.8    </td> <td>Moscou     </td> <td>Advance  </td> <td>100000   </td>\n        </tr>\n        <tr>\n            <td>34.3     </td> <td>55.2    </td> <td>Wixma      </td> <td>Retreat  </td> <td>55000    </td>\n        </tr>\n        <tr>\n            <td>32       </td> <td>54.6    </td> <td>Smolensk   </td> <td>Retreat  </td> <td>24000    </td>\n        </tr>\n        <tr>\n            <td>30.4     </td> <td>54.4    </td> <td>Orscha     </td> <td>Retreat  </td> <td>20000    </td>\n        </tr>\n        <tr>\n            <td>26.8     </td> <td>54.3    </td> <td>Moiodexno  </td> <td>Retreat  </td> <td>12000    </td>\n        </tr>\n    </tbody>\n</table>"
     },
     "metadata": {},
     "execution_count": 43
    }
   ],
   "source": [
    "minard.relabeled('City', 'City name')"
   ]
  },
  {
   "cell_type": "code",
   "execution_count": 44,
   "metadata": {},
   "outputs": [
    {
     "output_type": "execute_result",
     "data": {
      "text/plain": "Longitude | Latitude | City        | Direction | Survivors\n32        | 54.8     | Smolensk    | Advance   | 145000\n33.2      | 54.9     | Dorogobouge | Advance   | 140000\n34.4      | 55.5     | Chjat       | Advance   | 127100\n37.6      | 55.8     | Moscou      | Advance   | 100000\n34.3      | 55.2     | Wixma       | Retreat   | 55000\n32        | 54.6     | Smolensk    | Retreat   | 24000\n30.4      | 54.4     | Orscha      | Retreat   | 20000\n26.8      | 54.3     | Moiodexno   | Retreat   | 12000",
      "text/html": "<table border=\"1\" class=\"dataframe\">\n    <thead>\n        <tr>\n            <th>Longitude</th> <th>Latitude</th> <th>City</th> <th>Direction</th> <th>Survivors</th>\n        </tr>\n    </thead>\n    <tbody>\n        <tr>\n            <td>32       </td> <td>54.8    </td> <td>Smolensk   </td> <td>Advance  </td> <td>145000   </td>\n        </tr>\n        <tr>\n            <td>33.2     </td> <td>54.9    </td> <td>Dorogobouge</td> <td>Advance  </td> <td>140000   </td>\n        </tr>\n        <tr>\n            <td>34.4     </td> <td>55.5    </td> <td>Chjat      </td> <td>Advance  </td> <td>127100   </td>\n        </tr>\n        <tr>\n            <td>37.6     </td> <td>55.8    </td> <td>Moscou     </td> <td>Advance  </td> <td>100000   </td>\n        </tr>\n        <tr>\n            <td>34.3     </td> <td>55.2    </td> <td>Wixma      </td> <td>Retreat  </td> <td>55000    </td>\n        </tr>\n        <tr>\n            <td>32       </td> <td>54.6    </td> <td>Smolensk   </td> <td>Retreat  </td> <td>24000    </td>\n        </tr>\n        <tr>\n            <td>30.4     </td> <td>54.4    </td> <td>Orscha     </td> <td>Retreat  </td> <td>20000    </td>\n        </tr>\n        <tr>\n            <td>26.8     </td> <td>54.3    </td> <td>Moiodexno  </td> <td>Retreat  </td> <td>12000    </td>\n        </tr>\n    </tbody>\n</table>"
     },
     "metadata": {},
     "execution_count": 44
    }
   ],
   "source": [
    "minard"
   ]
  },
  {
   "source": [
    "to access data in column"
   ],
   "cell_type": "markdown",
   "metadata": {}
  },
  {
   "cell_type": "code",
   "execution_count": 45,
   "metadata": {},
   "outputs": [
    {
     "output_type": "execute_result",
     "data": {
      "text/plain": "array([145000, 140000, 127100, 100000,  55000,  24000,  20000,  12000])"
     },
     "metadata": {},
     "execution_count": 45
    }
   ],
   "source": [
    "minard.column('Survivors')"
   ]
  },
  {
   "cell_type": "code",
   "execution_count": 46,
   "metadata": {},
   "outputs": [
    {
     "output_type": "execute_result",
     "data": {
      "text/plain": "array(['Advance', 'Advance', 'Advance', 'Advance', 'Retreat', 'Retreat',\n       'Retreat', 'Retreat'], dtype='<U7')"
     },
     "metadata": {},
     "execution_count": 46
    }
   ],
   "source": [
    "minard.column(3)"
   ]
  },
  {
   "cell_type": "code",
   "execution_count": 47,
   "metadata": {},
   "outputs": [
    {
     "output_type": "execute_result",
     "data": {
      "text/plain": "55.8"
     },
     "metadata": {},
     "execution_count": 47
    }
   ],
   "source": [
    "minard.column(1).item(3)"
   ]
  },
  {
   "source": [
    "Because columns are arrays, we can use array operations on them to discover new information. For example, we can create a new column that contains the percent of all survivors at each city after Smolensk."
   ],
   "cell_type": "markdown",
   "metadata": {}
  },
  {
   "cell_type": "code",
   "execution_count": 48,
   "metadata": {},
   "outputs": [
    {
     "output_type": "execute_result",
     "data": {
      "text/plain": "Longitude | Latitude | City        | Direction | Survivors | % surviving\n32        | 54.8     | Smolensk    | Advance   | 145000    | 1\n33.2      | 54.9     | Dorogobouge | Advance   | 140000    | 0.965517\n34.4      | 55.5     | Chjat       | Advance   | 127100    | 0.876552\n37.6      | 55.8     | Moscou      | Advance   | 100000    | 0.689655\n34.3      | 55.2     | Wixma       | Retreat   | 55000     | 0.37931\n32        | 54.6     | Smolensk    | Retreat   | 24000     | 0.165517\n30.4      | 54.4     | Orscha      | Retreat   | 20000     | 0.137931\n26.8      | 54.3     | Moiodexno   | Retreat   | 12000     | 0.0827586",
      "text/html": "<table border=\"1\" class=\"dataframe\">\n    <thead>\n        <tr>\n            <th>Longitude</th> <th>Latitude</th> <th>City</th> <th>Direction</th> <th>Survivors</th> <th>% surviving</th>\n        </tr>\n    </thead>\n    <tbody>\n        <tr>\n            <td>32       </td> <td>54.8    </td> <td>Smolensk   </td> <td>Advance  </td> <td>145000   </td> <td>1          </td>\n        </tr>\n        <tr>\n            <td>33.2     </td> <td>54.9    </td> <td>Dorogobouge</td> <td>Advance  </td> <td>140000   </td> <td>0.965517   </td>\n        </tr>\n        <tr>\n            <td>34.4     </td> <td>55.5    </td> <td>Chjat      </td> <td>Advance  </td> <td>127100   </td> <td>0.876552   </td>\n        </tr>\n        <tr>\n            <td>37.6     </td> <td>55.8    </td> <td>Moscou     </td> <td>Advance  </td> <td>100000   </td> <td>0.689655   </td>\n        </tr>\n        <tr>\n            <td>34.3     </td> <td>55.2    </td> <td>Wixma      </td> <td>Retreat  </td> <td>55000    </td> <td>0.37931    </td>\n        </tr>\n        <tr>\n            <td>32       </td> <td>54.6    </td> <td>Smolensk   </td> <td>Retreat  </td> <td>24000    </td> <td>0.165517   </td>\n        </tr>\n        <tr>\n            <td>30.4     </td> <td>54.4    </td> <td>Orscha     </td> <td>Retreat  </td> <td>20000    </td> <td>0.137931   </td>\n        </tr>\n        <tr>\n            <td>26.8     </td> <td>54.3    </td> <td>Moiodexno  </td> <td>Retreat  </td> <td>12000    </td> <td>0.0827586  </td>\n        </tr>\n    </tbody>\n</table>"
     },
     "metadata": {},
     "execution_count": 48
    }
   ],
   "source": [
    "initial = minard.column('Survivors').item(0)\n",
    "minard = minard.with_columns('% surviving', minard.column('Survivors')/initial)\n",
    "minard"
   ]
  },
  {
   "cell_type": "code",
   "execution_count": 49,
   "metadata": {},
   "outputs": [
    {
     "output_type": "execute_result",
     "data": {
      "text/plain": "Longitude | Latitude | City        | Direction | Survivors | % surviving\n32        | 54.8     | Smolensk    | Advance   | 145000    | 100.00%\n33.2      | 54.9     | Dorogobouge | Advance   | 140000    | 96.55%\n34.4      | 55.5     | Chjat       | Advance   | 127100    | 87.66%\n37.6      | 55.8     | Moscou      | Advance   | 100000    | 68.97%\n34.3      | 55.2     | Wixma       | Retreat   | 55000     | 37.93%\n32        | 54.6     | Smolensk    | Retreat   | 24000     | 16.55%\n30.4      | 54.4     | Orscha      | Retreat   | 20000     | 13.79%\n26.8      | 54.3     | Moiodexno   | Retreat   | 12000     | 8.28%",
      "text/html": "<table border=\"1\" class=\"dataframe\">\n    <thead>\n        <tr>\n            <th>Longitude</th> <th>Latitude</th> <th>City</th> <th>Direction</th> <th>Survivors</th> <th>% surviving</th>\n        </tr>\n    </thead>\n    <tbody>\n        <tr>\n            <td>32       </td> <td>54.8    </td> <td>Smolensk   </td> <td>Advance  </td> <td>145000   </td> <td>100.00%    </td>\n        </tr>\n        <tr>\n            <td>33.2     </td> <td>54.9    </td> <td>Dorogobouge</td> <td>Advance  </td> <td>140000   </td> <td>96.55%     </td>\n        </tr>\n        <tr>\n            <td>34.4     </td> <td>55.5    </td> <td>Chjat      </td> <td>Advance  </td> <td>127100   </td> <td>87.66%     </td>\n        </tr>\n        <tr>\n            <td>37.6     </td> <td>55.8    </td> <td>Moscou     </td> <td>Advance  </td> <td>100000   </td> <td>68.97%     </td>\n        </tr>\n        <tr>\n            <td>34.3     </td> <td>55.2    </td> <td>Wixma      </td> <td>Retreat  </td> <td>55000    </td> <td>37.93%     </td>\n        </tr>\n        <tr>\n            <td>32       </td> <td>54.6    </td> <td>Smolensk   </td> <td>Retreat  </td> <td>24000    </td> <td>16.55%     </td>\n        </tr>\n        <tr>\n            <td>30.4     </td> <td>54.4    </td> <td>Orscha     </td> <td>Retreat  </td> <td>20000    </td> <td>13.79%     </td>\n        </tr>\n        <tr>\n            <td>26.8     </td> <td>54.3    </td> <td>Moiodexno  </td> <td>Retreat  </td> <td>12000    </td> <td>8.28%      </td>\n        </tr>\n    </tbody>\n</table>"
     },
     "metadata": {},
     "execution_count": 49
    }
   ],
   "source": [
    "minard.set_format('% surviving', PercentFormatter)"
   ]
  },
  {
   "source": [
    "## select columns"
   ],
   "cell_type": "markdown",
   "metadata": {}
  },
  {
   "cell_type": "code",
   "execution_count": 50,
   "metadata": {},
   "outputs": [
    {
     "output_type": "execute_result",
     "data": {
      "text/plain": "Longitude | Latitude\n32        | 54.8\n33.2      | 54.9\n34.4      | 55.5\n37.6      | 55.8\n34.3      | 55.2\n32        | 54.6\n30.4      | 54.4\n26.8      | 54.3",
      "text/html": "<table border=\"1\" class=\"dataframe\">\n    <thead>\n        <tr>\n            <th>Longitude</th> <th>Latitude</th>\n        </tr>\n    </thead>\n    <tbody>\n        <tr>\n            <td>32       </td> <td>54.8    </td>\n        </tr>\n        <tr>\n            <td>33.2     </td> <td>54.9    </td>\n        </tr>\n        <tr>\n            <td>34.4     </td> <td>55.5    </td>\n        </tr>\n        <tr>\n            <td>37.6     </td> <td>55.8    </td>\n        </tr>\n        <tr>\n            <td>34.3     </td> <td>55.2    </td>\n        </tr>\n        <tr>\n            <td>32       </td> <td>54.6    </td>\n        </tr>\n        <tr>\n            <td>30.4     </td> <td>54.4    </td>\n        </tr>\n        <tr>\n            <td>26.8     </td> <td>54.3    </td>\n        </tr>\n    </tbody>\n</table>"
     },
     "metadata": {},
     "execution_count": 50
    }
   ],
   "source": [
    "minard.select(0,1)"
   ]
  },
  {
   "cell_type": "code",
   "execution_count": 51,
   "metadata": {},
   "outputs": [
    {
     "output_type": "execute_result",
     "data": {
      "text/plain": "Longitude | Latitude | Direction | % surviving\n32        | 54.8     | Advance   | 100.00%\n33.2      | 54.9     | Advance   | 96.55%\n34.4      | 55.5     | Advance   | 87.66%\n37.6      | 55.8     | Advance   | 68.97%\n34.3      | 55.2     | Retreat   | 37.93%\n32        | 54.6     | Retreat   | 16.55%\n30.4      | 54.4     | Retreat   | 13.79%\n26.8      | 54.3     | Retreat   | 8.28%",
      "text/html": "<table border=\"1\" class=\"dataframe\">\n    <thead>\n        <tr>\n            <th>Longitude</th> <th>Latitude</th> <th>Direction</th> <th>% surviving</th>\n        </tr>\n    </thead>\n    <tbody>\n        <tr>\n            <td>32       </td> <td>54.8    </td> <td>Advance  </td> <td>100.00%    </td>\n        </tr>\n        <tr>\n            <td>33.2     </td> <td>54.9    </td> <td>Advance  </td> <td>96.55%     </td>\n        </tr>\n        <tr>\n            <td>34.4     </td> <td>55.5    </td> <td>Advance  </td> <td>87.66%     </td>\n        </tr>\n        <tr>\n            <td>37.6     </td> <td>55.8    </td> <td>Advance  </td> <td>68.97%     </td>\n        </tr>\n        <tr>\n            <td>34.3     </td> <td>55.2    </td> <td>Retreat  </td> <td>37.93%     </td>\n        </tr>\n        <tr>\n            <td>32       </td> <td>54.6    </td> <td>Retreat  </td> <td>16.55%     </td>\n        </tr>\n        <tr>\n            <td>30.4     </td> <td>54.4    </td> <td>Retreat  </td> <td>13.79%     </td>\n        </tr>\n        <tr>\n            <td>26.8     </td> <td>54.3    </td> <td>Retreat  </td> <td>8.28%      </td>\n        </tr>\n    </tbody>\n</table>"
     },
     "metadata": {},
     "execution_count": 51
    }
   ],
   "source": [
    "minard.drop(2,4)"
   ]
  },
  {
   "cell_type": "code",
   "execution_count": 52,
   "metadata": {},
   "outputs": [
    {
     "output_type": "execute_result",
     "data": {
      "text/plain": "PLAYER           | POSITION | TEAM          | SALARY\nPaul Millsap     | PF       | Atlanta Hawks | 18.6717\nAl Horford       | C        | Atlanta Hawks | 12\nTiago Splitter   | C        | Atlanta Hawks | 9.75625\nJeff Teague      | PG       | Atlanta Hawks | 8\nKyle Korver      | SG       | Atlanta Hawks | 5.74648\nThabo Sefolosha  | SF       | Atlanta Hawks | 4\nMike Scott       | PF       | Atlanta Hawks | 3.33333\nKent Bazemore    | SF       | Atlanta Hawks | 2\nDennis Schroder  | PG       | Atlanta Hawks | 1.7634\nTim Hardaway Jr. | SG       | Atlanta Hawks | 1.30452\n... (407 rows omitted)",
      "text/html": "<table border=\"1\" class=\"dataframe\">\n    <thead>\n        <tr>\n            <th>PLAYER</th> <th>POSITION</th> <th>TEAM</th> <th>SALARY</th>\n        </tr>\n    </thead>\n    <tbody>\n        <tr>\n            <td>Paul Millsap    </td> <td>PF      </td> <td>Atlanta Hawks</td> <td>18.6717</td>\n        </tr>\n        <tr>\n            <td>Al Horford      </td> <td>C       </td> <td>Atlanta Hawks</td> <td>12     </td>\n        </tr>\n        <tr>\n            <td>Tiago Splitter  </td> <td>C       </td> <td>Atlanta Hawks</td> <td>9.75625</td>\n        </tr>\n        <tr>\n            <td>Jeff Teague     </td> <td>PG      </td> <td>Atlanta Hawks</td> <td>8      </td>\n        </tr>\n        <tr>\n            <td>Kyle Korver     </td> <td>SG      </td> <td>Atlanta Hawks</td> <td>5.74648</td>\n        </tr>\n        <tr>\n            <td>Thabo Sefolosha </td> <td>SF      </td> <td>Atlanta Hawks</td> <td>4      </td>\n        </tr>\n        <tr>\n            <td>Mike Scott      </td> <td>PF      </td> <td>Atlanta Hawks</td> <td>3.33333</td>\n        </tr>\n        <tr>\n            <td>Kent Bazemore   </td> <td>SF      </td> <td>Atlanta Hawks</td> <td>2      </td>\n        </tr>\n        <tr>\n            <td>Dennis Schroder </td> <td>PG      </td> <td>Atlanta Hawks</td> <td>1.7634 </td>\n        </tr>\n        <tr>\n            <td>Tim Hardaway Jr.</td> <td>SG      </td> <td>Atlanta Hawks</td> <td>1.30452</td>\n        </tr>\n    </tbody>\n</table>\n<p>... (407 rows omitted)</p>"
     },
     "metadata": {},
     "execution_count": 52
    }
   ],
   "source": [
    "nba"
   ]
  },
  {
   "cell_type": "code",
   "execution_count": 53,
   "metadata": {},
   "outputs": [
    {
     "output_type": "display_data",
     "data": {
      "text/plain": "<IPython.core.display.HTML object>",
      "text/html": "<table border=\"1\" class=\"dataframe\">\n    <thead>\n        <tr>\n            <th>PLAYER</th>\n        </tr>\n    </thead>\n    <tbody>\n        <tr>\n            <td>Kobe Bryant      </td>\n        </tr>\n        <tr>\n            <td>Joe Johnson      </td>\n        </tr>\n        <tr>\n            <td>LeBron James     </td>\n        </tr>\n        <tr>\n            <td>Carmelo Anthony  </td>\n        </tr>\n        <tr>\n            <td>Dwight Howard    </td>\n        </tr>\n        <tr>\n            <td>Chris Bosh       </td>\n        </tr>\n        <tr>\n            <td>Chris Paul       </td>\n        </tr>\n        <tr>\n            <td>Kevin Durant     </td>\n        </tr>\n        <tr>\n            <td>Derrick Rose     </td>\n        </tr>\n        <tr>\n            <td>Dwyane Wade      </td>\n        </tr>\n        <tr>\n            <td>LaMarcus Aldridge</td>\n        </tr>\n        <tr>\n            <td>Kevin Love       </td>\n        </tr>\n        <tr>\n            <td>Marc Gasol       </td>\n        </tr>\n        <tr>\n            <td>Blake Griffin    </td>\n        </tr>\n        <tr>\n            <td>Paul Millsap     </td>\n        </tr>\n        <tr>\n            <td>Paul George      </td>\n        </tr>\n        <tr>\n            <td>Russell Westbrook</td>\n        </tr>\n        <tr>\n            <td>Kyrie Irving     </td>\n        </tr>\n        <tr>\n            <td>Kawhi Leonard    </td>\n        </tr>\n        <tr>\n            <td>Enes Kanter      </td>\n        </tr>\n    </tbody>\n</table>\n<p>... (397 rows omitted)</p>"
     },
     "metadata": {}
    }
   ],
   "source": [
    "nba.sort('SALARY', descending=True).select(0).show(20)"
   ]
  },
  {
   "source": [
    "## Take"
   ],
   "cell_type": "markdown",
   "metadata": {}
  },
  {
   "cell_type": "code",
   "execution_count": 54,
   "metadata": {},
   "outputs": [
    {
     "output_type": "execute_result",
     "data": {
      "text/plain": "PLAYER         | POSITION | TEAM          | SALARY\nTiago Splitter | C        | Atlanta Hawks | 9.75625",
      "text/html": "<table border=\"1\" class=\"dataframe\">\n    <thead>\n        <tr>\n            <th>PLAYER</th> <th>POSITION</th> <th>TEAM</th> <th>SALARY</th>\n        </tr>\n    </thead>\n    <tbody>\n        <tr>\n            <td>Tiago Splitter</td> <td>C       </td> <td>Atlanta Hawks</td> <td>9.75625</td>\n        </tr>\n    </tbody>\n</table>"
     },
     "metadata": {},
     "execution_count": 54
    }
   ],
   "source": [
    "nba.take(2)"
   ]
  },
  {
   "cell_type": "code",
   "execution_count": 55,
   "metadata": {},
   "outputs": [
    {
     "output_type": "execute_result",
     "data": {
      "text/plain": "PLAYER          | POSITION | TEAM          | SALARY\nJeff Teague     | PG       | Atlanta Hawks | 8\nKyle Korver     | SG       | Atlanta Hawks | 5.74648\nThabo Sefolosha | SF       | Atlanta Hawks | 4\nMike Scott      | PF       | Atlanta Hawks | 3.33333\nKent Bazemore   | SF       | Atlanta Hawks | 2\nDennis Schroder | PG       | Atlanta Hawks | 1.7634",
      "text/html": "<table border=\"1\" class=\"dataframe\">\n    <thead>\n        <tr>\n            <th>PLAYER</th> <th>POSITION</th> <th>TEAM</th> <th>SALARY</th>\n        </tr>\n    </thead>\n    <tbody>\n        <tr>\n            <td>Jeff Teague    </td> <td>PG      </td> <td>Atlanta Hawks</td> <td>8      </td>\n        </tr>\n        <tr>\n            <td>Kyle Korver    </td> <td>SG      </td> <td>Atlanta Hawks</td> <td>5.74648</td>\n        </tr>\n        <tr>\n            <td>Thabo Sefolosha</td> <td>SF      </td> <td>Atlanta Hawks</td> <td>4      </td>\n        </tr>\n        <tr>\n            <td>Mike Scott     </td> <td>PF      </td> <td>Atlanta Hawks</td> <td>3.33333</td>\n        </tr>\n        <tr>\n            <td>Kent Bazemore  </td> <td>SF      </td> <td>Atlanta Hawks</td> <td>2      </td>\n        </tr>\n        <tr>\n            <td>Dennis Schroder</td> <td>PG      </td> <td>Atlanta Hawks</td> <td>1.7634 </td>\n        </tr>\n    </tbody>\n</table>"
     },
     "metadata": {},
     "execution_count": 55
    }
   ],
   "source": [
    "nba.take(range(3,9))"
   ]
  },
  {
   "cell_type": "code",
   "execution_count": 56,
   "metadata": {},
   "outputs": [
    {
     "output_type": "execute_result",
     "data": {
      "text/plain": "PLAYER          | POSITION | TEAM                | SALARY\nKobe Bryant     | SF       | Los Angeles Lakers  | 25\nJoe Johnson     | SF       | Brooklyn Nets       | 24.8949\nLeBron James    | SF       | Cleveland Cavaliers | 22.9705\nCarmelo Anthony | SF       | New York Knicks     | 22.875\nDwight Howard   | C        | Houston Rockets     | 22.3594",
      "text/html": "<table border=\"1\" class=\"dataframe\">\n    <thead>\n        <tr>\n            <th>PLAYER</th> <th>POSITION</th> <th>TEAM</th> <th>SALARY</th>\n        </tr>\n    </thead>\n    <tbody>\n        <tr>\n            <td>Kobe Bryant    </td> <td>SF      </td> <td>Los Angeles Lakers </td> <td>25     </td>\n        </tr>\n        <tr>\n            <td>Joe Johnson    </td> <td>SF      </td> <td>Brooklyn Nets      </td> <td>24.8949</td>\n        </tr>\n        <tr>\n            <td>LeBron James   </td> <td>SF      </td> <td>Cleveland Cavaliers</td> <td>22.9705</td>\n        </tr>\n        <tr>\n            <td>Carmelo Anthony</td> <td>SF      </td> <td>New York Knicks    </td> <td>22.875 </td>\n        </tr>\n        <tr>\n            <td>Dwight Howard  </td> <td>C       </td> <td>Houston Rockets    </td> <td>22.3594</td>\n        </tr>\n    </tbody>\n</table>"
     },
     "metadata": {},
     "execution_count": 56
    }
   ],
   "source": [
    "nba.sort(3, descending=True).take(range(5))"
   ]
  },
  {
   "cell_type": "code",
   "execution_count": 60,
   "metadata": {},
   "outputs": [
    {
     "output_type": "display_data",
     "data": {
      "text/plain": "<IPython.core.display.HTML object>",
      "text/html": "<table border=\"1\" class=\"dataframe\">\n    <thead>\n        <tr>\n            <th>PLAYER</th> <th>POSITION</th> <th>TEAM</th> <th>SALARY</th>\n        </tr>\n    </thead>\n    <tbody>\n        <tr>\n            <td>Klay Thompson    </td> <td>SG      </td> <td>Golden State Warriors</td> <td>15.501  </td>\n        </tr>\n        <tr>\n            <td>Draymond Green   </td> <td>PF      </td> <td>Golden State Warriors</td> <td>14.2609 </td>\n        </tr>\n        <tr>\n            <td>Andrew Bogut     </td> <td>C       </td> <td>Golden State Warriors</td> <td>13.8    </td>\n        </tr>\n        <tr>\n            <td>Andre Iguodala   </td> <td>SF      </td> <td>Golden State Warriors</td> <td>11.7105 </td>\n        </tr>\n        <tr>\n            <td>Stephen Curry    </td> <td>PG      </td> <td>Golden State Warriors</td> <td>11.3708 </td>\n        </tr>\n        <tr>\n            <td>Jason Thompson   </td> <td>PF      </td> <td>Golden State Warriors</td> <td>7.00847 </td>\n        </tr>\n        <tr>\n            <td>Shaun Livingston </td> <td>PG      </td> <td>Golden State Warriors</td> <td>5.54373 </td>\n        </tr>\n        <tr>\n            <td>Harrison Barnes  </td> <td>SF      </td> <td>Golden State Warriors</td> <td>3.8734  </td>\n        </tr>\n        <tr>\n            <td>Marreese Speights</td> <td>C       </td> <td>Golden State Warriors</td> <td>3.815   </td>\n        </tr>\n        <tr>\n            <td>Leandro Barbosa  </td> <td>SG      </td> <td>Golden State Warriors</td> <td>2.5     </td>\n        </tr>\n        <tr>\n            <td>Festus Ezeli     </td> <td>C       </td> <td>Golden State Warriors</td> <td>2.00875 </td>\n        </tr>\n        <tr>\n            <td>Brandon Rush     </td> <td>SF      </td> <td>Golden State Warriors</td> <td>1.27096 </td>\n        </tr>\n        <tr>\n            <td>Kevon Looney     </td> <td>SF      </td> <td>Golden State Warriors</td> <td>1.13196 </td>\n        </tr>\n        <tr>\n            <td>Anderson Varejao </td> <td>PF      </td> <td>Golden State Warriors</td> <td>0.289755</td>\n        </tr>\n    </tbody>\n</table>"
     },
     "metadata": {}
    }
   ],
   "source": [
    "nba.where('TEAM', are.equal_to('Golden State Warriors')).show()"
   ]
  },
  {
   "cell_type": "code",
   "execution_count": 62,
   "metadata": {},
   "outputs": [
    {
     "output_type": "execute_result",
     "data": {
      "text/plain": "PLAYER            | POSITION | TEAM           | SALARY\nDanilo Gallinari  | SF       | Denver Nuggets | 14\nKenneth Faried    | PF       | Denver Nuggets | 11.236\nWilson Chandler   | SF       | Denver Nuggets | 10.4494\nJJ Hickson        | C        | Denver Nuggets | 5.6135\nJameer Nelson     | PG       | Denver Nuggets | 4.345\nWill Barton       | SF       | Denver Nuggets | 3.53333\nEmmanuel Mudiay   | PG       | Denver Nuggets | 3.10224\nDarrell Arthur    | PF       | Denver Nuggets | 2.814\nJusuf Nurkic      | C        | Denver Nuggets | 1.842\nJoffrey Lauvergne | C        | Denver Nuggets | 1.70972\n... (4 rows omitted)",
      "text/html": "<table border=\"1\" class=\"dataframe\">\n    <thead>\n        <tr>\n            <th>PLAYER</th> <th>POSITION</th> <th>TEAM</th> <th>SALARY</th>\n        </tr>\n    </thead>\n    <tbody>\n        <tr>\n            <td>Danilo Gallinari </td> <td>SF      </td> <td>Denver Nuggets</td> <td>14     </td>\n        </tr>\n        <tr>\n            <td>Kenneth Faried   </td> <td>PF      </td> <td>Denver Nuggets</td> <td>11.236 </td>\n        </tr>\n        <tr>\n            <td>Wilson Chandler  </td> <td>SF      </td> <td>Denver Nuggets</td> <td>10.4494</td>\n        </tr>\n        <tr>\n            <td>JJ Hickson       </td> <td>C       </td> <td>Denver Nuggets</td> <td>5.6135 </td>\n        </tr>\n        <tr>\n            <td>Jameer Nelson    </td> <td>PG      </td> <td>Denver Nuggets</td> <td>4.345  </td>\n        </tr>\n        <tr>\n            <td>Will Barton      </td> <td>SF      </td> <td>Denver Nuggets</td> <td>3.53333</td>\n        </tr>\n        <tr>\n            <td>Emmanuel Mudiay  </td> <td>PG      </td> <td>Denver Nuggets</td> <td>3.10224</td>\n        </tr>\n        <tr>\n            <td>Darrell Arthur   </td> <td>PF      </td> <td>Denver Nuggets</td> <td>2.814  </td>\n        </tr>\n        <tr>\n            <td>Jusuf Nurkic     </td> <td>C       </td> <td>Denver Nuggets</td> <td>1.842  </td>\n        </tr>\n        <tr>\n            <td>Joffrey Lauvergne</td> <td>C       </td> <td>Denver Nuggets</td> <td>1.70972</td>\n        </tr>\n    </tbody>\n</table>\n<p>... (4 rows omitted)</p>"
     },
     "metadata": {},
     "execution_count": 62
    }
   ],
   "source": [
    "nba.where('TEAM', 'Denver Nuggets') # equivalent to nba.where('Team', are.equal_to('Denver Nuggets'))"
   ]
  },
  {
   "cell_type": "code",
   "execution_count": 66,
   "metadata": {},
   "outputs": [
    {
     "output_type": "display_data",
     "data": {
      "text/plain": "<IPython.core.display.HTML object>",
      "text/html": "<table border=\"1\" class=\"dataframe\">\n    <thead>\n        <tr>\n            <th>PLAYER</th> <th>POSITION</th> <th>TEAM</th> <th>SALARY</th>\n        </tr>\n    </thead>\n    <tbody>\n        <tr>\n            <td>Al Horford      </td> <td>C       </td> <td>Atlanta Hawks         </td> <td>12     </td>\n        </tr>\n        <tr>\n            <td>Al Jefferson    </td> <td>C       </td> <td>Charlotte Hornets     </td> <td>13.5   </td>\n        </tr>\n        <tr>\n            <td>Joakim Noah     </td> <td>C       </td> <td>Chicago Bulls         </td> <td>13.4   </td>\n        </tr>\n        <tr>\n            <td>Tristan Thompson</td> <td>C       </td> <td>Cleveland Cavaliers   </td> <td>14.2609</td>\n        </tr>\n        <tr>\n            <td>Brendan Haywood </td> <td>C       </td> <td>Cleveland Cavaliers   </td> <td>10.5225</td>\n        </tr>\n        <tr>\n            <td>Andrew Bogut    </td> <td>C       </td> <td>Golden State Warriors </td> <td>13.8   </td>\n        </tr>\n        <tr>\n            <td>Dwight Howard   </td> <td>C       </td> <td>Houston Rockets       </td> <td>22.3594</td>\n        </tr>\n        <tr>\n            <td>Roy Hibbert     </td> <td>C       </td> <td>Los Angeles Lakers    </td> <td>15.5922</td>\n        </tr>\n        <tr>\n            <td>Marc Gasol      </td> <td>C       </td> <td>Memphis Grizzlies     </td> <td>19.688 </td>\n        </tr>\n        <tr>\n            <td>Nikola Pekovic  </td> <td>C       </td> <td>Minnesota Timberwolves</td> <td>12.1   </td>\n        </tr>\n        <tr>\n            <td>Robin Lopez     </td> <td>C       </td> <td>New York Knicks       </td> <td>12.65  </td>\n        </tr>\n        <tr>\n            <td>Enes Kanter     </td> <td>C       </td> <td>Oklahoma City Thunder </td> <td>16.4075</td>\n        </tr>\n        <tr>\n            <td>Nikola Vucevic  </td> <td>C       </td> <td>Orlando Magic         </td> <td>11.25  </td>\n        </tr>\n        <tr>\n            <td>Tyson Chandler  </td> <td>C       </td> <td>Phoenix Suns          </td> <td>13     </td>\n        </tr>\n        <tr>\n            <td>DeMarcus Cousins</td> <td>C       </td> <td>Sacramento Kings      </td> <td>15.852 </td>\n        </tr>\n        <tr>\n            <td>Nene Hilario    </td> <td>C       </td> <td>Washington Wizards    </td> <td>13     </td>\n        </tr>\n        <tr>\n            <td>Marcin Gortat   </td> <td>C       </td> <td>Washington Wizards    </td> <td>11.2174</td>\n        </tr>\n    </tbody>\n</table>"
     },
     "metadata": {}
    }
   ],
   "source": [
    "nba.where('POSITION', 'C').where('SALARY', are.above(10)).show()"
   ]
  },
  {
   "cell_type": "code",
   "execution_count": 68,
   "metadata": {},
   "outputs": [
    {
     "output_type": "display_data",
     "data": {
      "text/plain": "<IPython.core.display.HTML object>",
      "text/html": "<table border=\"1\" class=\"dataframe\">\n    <thead>\n        <tr>\n            <th>PLAYER</th> <th>POSITION</th> <th>TEAM</th> <th>SALARY</th>\n        </tr>\n    </thead>\n    <tbody>\n        <tr>\n            <td>Klay Thompson    </td> <td>SG      </td> <td>Golden State Warriors</td> <td>15.501  </td>\n        </tr>\n        <tr>\n            <td>Draymond Green   </td> <td>PF      </td> <td>Golden State Warriors</td> <td>14.2609 </td>\n        </tr>\n        <tr>\n            <td>Andrew Bogut     </td> <td>C       </td> <td>Golden State Warriors</td> <td>13.8    </td>\n        </tr>\n        <tr>\n            <td>Andre Iguodala   </td> <td>SF      </td> <td>Golden State Warriors</td> <td>11.7105 </td>\n        </tr>\n        <tr>\n            <td>Stephen Curry    </td> <td>PG      </td> <td>Golden State Warriors</td> <td>11.3708 </td>\n        </tr>\n        <tr>\n            <td>Jason Thompson   </td> <td>PF      </td> <td>Golden State Warriors</td> <td>7.00847 </td>\n        </tr>\n        <tr>\n            <td>Shaun Livingston </td> <td>PG      </td> <td>Golden State Warriors</td> <td>5.54373 </td>\n        </tr>\n        <tr>\n            <td>Harrison Barnes  </td> <td>SF      </td> <td>Golden State Warriors</td> <td>3.8734  </td>\n        </tr>\n        <tr>\n            <td>Marreese Speights</td> <td>C       </td> <td>Golden State Warriors</td> <td>3.815   </td>\n        </tr>\n        <tr>\n            <td>Leandro Barbosa  </td> <td>SG      </td> <td>Golden State Warriors</td> <td>2.5     </td>\n        </tr>\n        <tr>\n            <td>Festus Ezeli     </td> <td>C       </td> <td>Golden State Warriors</td> <td>2.00875 </td>\n        </tr>\n        <tr>\n            <td>Brandon Rush     </td> <td>SF      </td> <td>Golden State Warriors</td> <td>1.27096 </td>\n        </tr>\n        <tr>\n            <td>Kevon Looney     </td> <td>SF      </td> <td>Golden State Warriors</td> <td>1.13196 </td>\n        </tr>\n        <tr>\n            <td>Anderson Varejao </td> <td>PF      </td> <td>Golden State Warriors</td> <td>0.289755</td>\n        </tr>\n    </tbody>\n</table>"
     },
     "metadata": {}
    }
   ],
   "source": [
    "nba.where('TEAM', are.containing('Warriors')).show()"
   ]
  },
  {
   "source": [
    "## reading data from online"
   ],
   "cell_type": "markdown",
   "metadata": {}
  },
  {
   "cell_type": "code",
   "execution_count": 69,
   "metadata": {},
   "outputs": [
    {
     "output_type": "execute_result",
     "data": {
      "text/plain": "SEX  | AGE  | CENSUS2010POP | ESTIMATESBASE2010 | POPESTIMATE2010 | POPESTIMATE2011 | POPESTIMATE2012 | POPESTIMATE2013 | POPESTIMATE2014 | POPESTIMATE2015\n0    | 0    | 3944153       | 3944160           | 3951330         | 3963087         | 3926540         | 3931141         | 3949775         | 3978038\n0    | 1    | 3978070       | 3978090           | 3957888         | 3966551         | 3977939         | 3942872         | 3949776         | 3968564\n0    | 2    | 4096929       | 4096939           | 4090862         | 3971565         | 3980095         | 3992720         | 3959664         | 3966583\n0    | 3    | 4119040       | 4119051           | 4111920         | 4102470         | 3983157         | 3992734         | 4007079         | 3974061\n0    | 4    | 4063170       | 4063186           | 4077551         | 4122294         | 4112849         | 3994449         | 4005716         | 4020035\n0    | 5    | 4056858       | 4056872           | 4064653         | 4087709         | 4132242         | 4123626         | 4006900         | 4018158\n0    | 6    | 4066381       | 4066412           | 4073013         | 4074993         | 4097605         | 4142916         | 4135930         | 4019207\n0    | 7    | 4030579       | 4030594           | 4043046         | 4083225         | 4084913         | 4108349         | 4155326         | 4148360\n0    | 8    | 4046486       | 4046497           | 4025604         | 4053203         | 4093177         | 4095711         | 4120903         | 4167887\n0    | 9    | 4148353       | 4148369           | 4125415         | 4035710         | 4063152         | 4104072         | 4108349         | 4133564\n... (296 rows omitted)",
      "text/html": "<table border=\"1\" class=\"dataframe\">\n    <thead>\n        <tr>\n            <th>SEX</th> <th>AGE</th> <th>CENSUS2010POP</th> <th>ESTIMATESBASE2010</th> <th>POPESTIMATE2010</th> <th>POPESTIMATE2011</th> <th>POPESTIMATE2012</th> <th>POPESTIMATE2013</th> <th>POPESTIMATE2014</th> <th>POPESTIMATE2015</th>\n        </tr>\n    </thead>\n    <tbody>\n        <tr>\n            <td>0   </td> <td>0   </td> <td>3944153      </td> <td>3944160          </td> <td>3951330        </td> <td>3963087        </td> <td>3926540        </td> <td>3931141        </td> <td>3949775        </td> <td>3978038        </td>\n        </tr>\n        <tr>\n            <td>0   </td> <td>1   </td> <td>3978070      </td> <td>3978090          </td> <td>3957888        </td> <td>3966551        </td> <td>3977939        </td> <td>3942872        </td> <td>3949776        </td> <td>3968564        </td>\n        </tr>\n        <tr>\n            <td>0   </td> <td>2   </td> <td>4096929      </td> <td>4096939          </td> <td>4090862        </td> <td>3971565        </td> <td>3980095        </td> <td>3992720        </td> <td>3959664        </td> <td>3966583        </td>\n        </tr>\n        <tr>\n            <td>0   </td> <td>3   </td> <td>4119040      </td> <td>4119051          </td> <td>4111920        </td> <td>4102470        </td> <td>3983157        </td> <td>3992734        </td> <td>4007079        </td> <td>3974061        </td>\n        </tr>\n        <tr>\n            <td>0   </td> <td>4   </td> <td>4063170      </td> <td>4063186          </td> <td>4077551        </td> <td>4122294        </td> <td>4112849        </td> <td>3994449        </td> <td>4005716        </td> <td>4020035        </td>\n        </tr>\n        <tr>\n            <td>0   </td> <td>5   </td> <td>4056858      </td> <td>4056872          </td> <td>4064653        </td> <td>4087709        </td> <td>4132242        </td> <td>4123626        </td> <td>4006900        </td> <td>4018158        </td>\n        </tr>\n        <tr>\n            <td>0   </td> <td>6   </td> <td>4066381      </td> <td>4066412          </td> <td>4073013        </td> <td>4074993        </td> <td>4097605        </td> <td>4142916        </td> <td>4135930        </td> <td>4019207        </td>\n        </tr>\n        <tr>\n            <td>0   </td> <td>7   </td> <td>4030579      </td> <td>4030594          </td> <td>4043046        </td> <td>4083225        </td> <td>4084913        </td> <td>4108349        </td> <td>4155326        </td> <td>4148360        </td>\n        </tr>\n        <tr>\n            <td>0   </td> <td>8   </td> <td>4046486      </td> <td>4046497          </td> <td>4025604        </td> <td>4053203        </td> <td>4093177        </td> <td>4095711        </td> <td>4120903        </td> <td>4167887        </td>\n        </tr>\n        <tr>\n            <td>0   </td> <td>9   </td> <td>4148353      </td> <td>4148369          </td> <td>4125415        </td> <td>4035710        </td> <td>4063152        </td> <td>4104072        </td> <td>4108349        </td> <td>4133564        </td>\n        </tr>\n    </tbody>\n</table>\n<p>... (296 rows omitted)</p>"
     },
     "metadata": {},
     "execution_count": 69
    }
   ],
   "source": [
    "# As of Jan 2017, this census file is online here: \n",
    "data = 'http://www2.census.gov/programs-surveys/popest/datasets/2010-2015/national/asrh/nc-est2015-agesex-res.csv'\n",
    "\n",
    "# A local copy can be accessed here in case census.gov moves the file:\n",
    "# data = path_data + 'nc-est2015-agesex-res.csv'\n",
    "\n",
    "full_census_table = Table.read_table(data)\n",
    "full_census_table"
   ]
  },
  {
   "source": [
    "in the above table, let us create a new column to record the percentage change in population between 2010 and 2015."
   ],
   "cell_type": "markdown",
   "metadata": {}
  },
  {
   "cell_type": "code",
   "execution_count": 81,
   "metadata": {},
   "outputs": [
    {
     "output_type": "execute_result",
     "data": {
      "text/plain": "SEX  | AGE  | 2010    | 2015    | change  | percent change\n0    | 0    | 3951330 | 3978038 | 26708   | 0.68%\n0    | 1    | 3957888 | 3968564 | 10676   | 0.27%\n0    | 2    | 4090862 | 3966583 | -124279 | -3.04%\n0    | 3    | 4111920 | 3974061 | -137859 | -3.35%\n0    | 4    | 4077551 | 4020035 | -57516  | -1.41%\n0    | 5    | 4064653 | 4018158 | -46495  | -1.14%\n0    | 6    | 4073013 | 4019207 | -53806  | -1.32%\n0    | 7    | 4043046 | 4148360 | 105314  | 2.60%\n0    | 8    | 4025604 | 4167887 | 142283  | 3.53%\n0    | 9    | 4125415 | 4133564 | 8149    | 0.20%\n... (296 rows omitted)",
      "text/html": "<table border=\"1\" class=\"dataframe\">\n    <thead>\n        <tr>\n            <th>SEX</th> <th>AGE</th> <th>2010</th> <th>2015</th> <th>change</th> <th>percent change</th>\n        </tr>\n    </thead>\n    <tbody>\n        <tr>\n            <td>0   </td> <td>0   </td> <td>3951330</td> <td>3978038</td> <td>26708  </td> <td>0.68%         </td>\n        </tr>\n        <tr>\n            <td>0   </td> <td>1   </td> <td>3957888</td> <td>3968564</td> <td>10676  </td> <td>0.27%         </td>\n        </tr>\n        <tr>\n            <td>0   </td> <td>2   </td> <td>4090862</td> <td>3966583</td> <td>-124279</td> <td>-3.04%        </td>\n        </tr>\n        <tr>\n            <td>0   </td> <td>3   </td> <td>4111920</td> <td>3974061</td> <td>-137859</td> <td>-3.35%        </td>\n        </tr>\n        <tr>\n            <td>0   </td> <td>4   </td> <td>4077551</td> <td>4020035</td> <td>-57516 </td> <td>-1.41%        </td>\n        </tr>\n        <tr>\n            <td>0   </td> <td>5   </td> <td>4064653</td> <td>4018158</td> <td>-46495 </td> <td>-1.14%        </td>\n        </tr>\n        <tr>\n            <td>0   </td> <td>6   </td> <td>4073013</td> <td>4019207</td> <td>-53806 </td> <td>-1.32%        </td>\n        </tr>\n        <tr>\n            <td>0   </td> <td>7   </td> <td>4043046</td> <td>4148360</td> <td>105314 </td> <td>2.60%         </td>\n        </tr>\n        <tr>\n            <td>0   </td> <td>8   </td> <td>4025604</td> <td>4167887</td> <td>142283 </td> <td>3.53%         </td>\n        </tr>\n        <tr>\n            <td>0   </td> <td>9   </td> <td>4125415</td> <td>4133564</td> <td>8149   </td> <td>0.20%         </td>\n        </tr>\n    </tbody>\n</table>\n<p>... (296 rows omitted)</p>"
     },
     "metadata": {},
     "execution_count": 81
    }
   ],
   "source": [
    "#first create a smaller table\n",
    "partial_table = full_census_table.select('SEX','AGE','POPESTIMATE2010', 'POPESTIMATE2015')\n",
    "# partial_table\n",
    "\n",
    "#RENAME\n",
    "partial_table = partial_table.relabeled('POPESTIMATE2010', '2010').relabeled('POPESTIMATE2015', '2015')\n",
    "# partial_table\n",
    "# now let us see the change\n",
    "change = partial_table.column('2015')- partial_table.column('2010')\n",
    "\n",
    "#now add to the file\n",
    "us_pop = partial_table.with_columns('change',change,\n",
    "    'percent change', change/partial_table.column('2010'))\n",
    "us_pop.set_format('percent change', PercentFormatter)\n",
    "us_pop"
   ]
  },
  {
   "cell_type": "code",
   "execution_count": null,
   "metadata": {},
   "outputs": [],
   "source": []
  }
 ]
}